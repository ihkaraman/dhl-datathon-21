{
 "cells": [
  {
   "cell_type": "markdown",
   "metadata": {},
   "source": [
    "max r2, min rmse\n",
    "https://scikit-learn.org/stable/modules/generated/sklearn.metrics.mean_squared_error.html \n",
    "https://scikit-learn.org/stable/modules/generated/sklearn.metrics.r2_score.html "
   ]
  },
  {
   "cell_type": "markdown",
   "metadata": {},
   "source": [
    "columns:\n",
    "    \n",
    "Sipariş Numarası: Her siparişe ait unique ID.\n",
    "Sipariş Satırı: Aynı “Sipariş Numarası” içinde sipariş edilen ürünlerin satır numarası.  (Aynı siparişe ilişkin farklı ürünleri belirtilen satır numarası olarak değerlendirilebilir)\n",
    "Sipariş Tipi: Sevk edilecek siparişin tipi.\n",
    "Malzeme Numarası: Ürüne ait unique ID.\n",
    "Sipariş Edilen Miktar: Ürüne ait sipariş miktarı.\n",
    "Sku Plt. Standartı: Her ürüne ait bir palete yüklenebilecek ürün miktarı. (ürünün boyutlarına göre değişkenlik gösterir)\n",
    "Müşteri No: Siparişin sevk edileceği müşteriye ait unique ID.\n",
    "Sipariş Tarihi: Siparişin DHL depo yönetim sistemindeki tarihi. (Yıl – Ay- Gün formatında)"
   ]
  },
  {
   "cell_type": "markdown",
   "metadata": {},
   "source": [
    "additional data:\n",
    "\n",
    "holidays data?\n"
   ]
  },
  {
   "cell_type": "code",
   "execution_count": 1,
   "metadata": {},
   "outputs": [],
   "source": [
    "import pandas as pd\n",
    "import numpy as np\n",
    "from tqdm import tqdm\n",
    "from sklearn.ensemble import RandomForestRegressor\n",
    "from sklearn.pipeline import Pipeline\n",
    "from sklearn.impute import SimpleImputer\n",
    "from sklearn.preprocessing import StandardScaler, OneHotEncoder\n",
    "from sklearn.model_selection import train_test_split, cross_val_score, cross_validate, KFold, GridSearchCV\n",
    "from sklearn.compose import ColumnTransformer\n",
    "from xgboost import XGBRegressor\n",
    "from sklearn.metrics import r2_score\n",
    "from sklearn.model_selection import train_test_split"
   ]
  },
  {
   "cell_type": "code",
   "execution_count": 2,
   "metadata": {},
   "outputs": [
    {
     "data": {
      "text/html": [
       "<div>\n",
       "<style scoped>\n",
       "    .dataframe tbody tr th:only-of-type {\n",
       "        vertical-align: middle;\n",
       "    }\n",
       "\n",
       "    .dataframe tbody tr th {\n",
       "        vertical-align: top;\n",
       "    }\n",
       "\n",
       "    .dataframe thead th {\n",
       "        text-align: right;\n",
       "    }\n",
       "</style>\n",
       "<table border=\"1\" class=\"dataframe\">\n",
       "  <thead>\n",
       "    <tr style=\"text-align: right;\">\n",
       "      <th></th>\n",
       "      <th>Sipariş Numarası</th>\n",
       "      <th>Sipariş Satırı</th>\n",
       "      <th>Sipariş Tipi</th>\n",
       "      <th>Malzeme Numarası</th>\n",
       "      <th>Sipariş Edilen Miktar</th>\n",
       "      <th>Sku Plt. Standartı</th>\n",
       "      <th>Müşteri No</th>\n",
       "      <th>Sipariş Tarihi</th>\n",
       "    </tr>\n",
       "  </thead>\n",
       "  <tbody>\n",
       "    <tr>\n",
       "      <th>0</th>\n",
       "      <td>72616887</td>\n",
       "      <td>1</td>\n",
       "      <td>Müşteri Siparişleri</td>\n",
       "      <td>61001960</td>\n",
       "      <td>60</td>\n",
       "      <td>228</td>\n",
       "      <td>C-10008</td>\n",
       "      <td>2020-01-02</td>\n",
       "    </tr>\n",
       "    <tr>\n",
       "      <th>1</th>\n",
       "      <td>72616888</td>\n",
       "      <td>1</td>\n",
       "      <td>Müşteri Siparişleri</td>\n",
       "      <td>61000066</td>\n",
       "      <td>25</td>\n",
       "      <td>96</td>\n",
       "      <td>C-10185</td>\n",
       "      <td>2020-01-02</td>\n",
       "    </tr>\n",
       "    <tr>\n",
       "      <th>2</th>\n",
       "      <td>72616888</td>\n",
       "      <td>2</td>\n",
       "      <td>Müşteri Siparişleri</td>\n",
       "      <td>61001960</td>\n",
       "      <td>50</td>\n",
       "      <td>228</td>\n",
       "      <td>C-10185</td>\n",
       "      <td>2020-01-02</td>\n",
       "    </tr>\n",
       "    <tr>\n",
       "      <th>3</th>\n",
       "      <td>72616889</td>\n",
       "      <td>1</td>\n",
       "      <td>Müşteri Siparişleri</td>\n",
       "      <td>61000066</td>\n",
       "      <td>40</td>\n",
       "      <td>96</td>\n",
       "      <td>C-10188</td>\n",
       "      <td>2020-01-02</td>\n",
       "    </tr>\n",
       "    <tr>\n",
       "      <th>4</th>\n",
       "      <td>72616889</td>\n",
       "      <td>2</td>\n",
       "      <td>Müşteri Siparişleri</td>\n",
       "      <td>61001960</td>\n",
       "      <td>20</td>\n",
       "      <td>228</td>\n",
       "      <td>C-10188</td>\n",
       "      <td>2020-01-02</td>\n",
       "    </tr>\n",
       "  </tbody>\n",
       "</table>\n",
       "</div>"
      ],
      "text/plain": [
       "   Sipariş Numarası  Sipariş Satırı         Sipariş Tipi Malzeme Numarası  \\\n",
       "0          72616887               1  Müşteri Siparişleri         61001960   \n",
       "1          72616888               1  Müşteri Siparişleri         61000066   \n",
       "2          72616888               2  Müşteri Siparişleri         61001960   \n",
       "3          72616889               1  Müşteri Siparişleri         61000066   \n",
       "4          72616889               2  Müşteri Siparişleri         61001960   \n",
       "\n",
       "   Sipariş Edilen Miktar  Sku Plt. Standartı Müşteri No Sipariş Tarihi  \n",
       "0                     60                 228    C-10008     2020-01-02  \n",
       "1                     25                  96    C-10185     2020-01-02  \n",
       "2                     50                 228    C-10185     2020-01-02  \n",
       "3                     40                  96    C-10188     2020-01-02  \n",
       "4                     20                 228    C-10188     2020-01-02  "
      ]
     },
     "execution_count": 2,
     "metadata": {},
     "output_type": "execute_result"
    }
   ],
   "source": [
    "df = pd.read_csv('train_set.csv', parse_dates=['Sipariş Tarihi'])\n",
    "df.head()"
   ]
  },
  {
   "cell_type": "code",
   "execution_count": 3,
   "metadata": {},
   "outputs": [
    {
     "data": {
      "text/plain": [
       "(276753, 8)"
      ]
     },
     "execution_count": 3,
     "metadata": {},
     "output_type": "execute_result"
    }
   ],
   "source": [
    "df.shape"
   ]
  },
  {
   "cell_type": "code",
   "execution_count": 4,
   "metadata": {},
   "outputs": [],
   "source": [
    "df.columns = ['order_num', 'order_item', 'order_type', 'material_num', 'order_amount', 'pallet_std', 'customer_num', 'order_date']"
   ]
  },
  {
   "cell_type": "code",
   "execution_count": 5,
   "metadata": {},
   "outputs": [],
   "source": [
    "df = df.groupby(['order_num', 'material_num']).agg({'order_item':'max', 'order_type':'max', 'order_amount':'sum', 'pallet_std':'min',\n",
    "                                               'customer_num':'max', 'order_date':'max'}).reset_index()"
   ]
  },
  {
   "cell_type": "code",
   "execution_count": 6,
   "metadata": {},
   "outputs": [],
   "source": [
    "df.sort_values(by=['order_num'], inplace=True)"
   ]
  },
  {
   "cell_type": "code",
   "execution_count": 7,
   "metadata": {},
   "outputs": [
    {
     "name": "stdout",
     "output_type": "stream",
     "text": [
      "number of unique order:  37085\n",
      "number of unique customer:  283\n",
      "average order by customers:  131\n",
      "number of unique order types:  3\n",
      "number of unique materials:  466\n",
      "number of unique pallet types:  90\n"
     ]
    }
   ],
   "source": [
    "print('number of unique order: ', len(df['order_num'].unique()))\n",
    "print('number of unique customer: ', len(df['customer_num'].unique()))\n",
    "print('average order by customers: ', int(len(df['order_num'].unique())/len(df['customer_num'].unique())))\n",
    "print('number of unique order types: ', len(df['order_type'].unique()))\n",
    "print('number of unique materials: ', len(df['material_num'].unique()))\n",
    "print('number of unique pallet types: ', len(df['pallet_std'].unique()))"
   ]
  },
  {
   "cell_type": "code",
   "execution_count": 8,
   "metadata": {},
   "outputs": [
    {
     "data": {
      "text/html": [
       "<div>\n",
       "<style scoped>\n",
       "    .dataframe tbody tr th:only-of-type {\n",
       "        vertical-align: middle;\n",
       "    }\n",
       "\n",
       "    .dataframe tbody tr th {\n",
       "        vertical-align: top;\n",
       "    }\n",
       "\n",
       "    .dataframe thead th {\n",
       "        text-align: right;\n",
       "    }\n",
       "</style>\n",
       "<table border=\"1\" class=\"dataframe\">\n",
       "  <thead>\n",
       "    <tr style=\"text-align: right;\">\n",
       "      <th></th>\n",
       "      <th>order_num</th>\n",
       "      <th>order_item</th>\n",
       "      <th>order_amount</th>\n",
       "      <th>pallet_std</th>\n",
       "    </tr>\n",
       "  </thead>\n",
       "  <tbody>\n",
       "    <tr>\n",
       "      <th>count</th>\n",
       "      <td>2.566770e+05</td>\n",
       "      <td>256677.000000</td>\n",
       "      <td>256677.000000</td>\n",
       "      <td>256677.000000</td>\n",
       "    </tr>\n",
       "    <tr>\n",
       "      <th>mean</th>\n",
       "      <td>7.264149e+07</td>\n",
       "      <td>86.211055</td>\n",
       "      <td>29.495635</td>\n",
       "      <td>128.215189</td>\n",
       "    </tr>\n",
       "    <tr>\n",
       "      <th>std</th>\n",
       "      <td>1.411038e+04</td>\n",
       "      <td>850.232238</td>\n",
       "      <td>147.388895</td>\n",
       "      <td>78.267588</td>\n",
       "    </tr>\n",
       "    <tr>\n",
       "      <th>min</th>\n",
       "      <td>7.261689e+07</td>\n",
       "      <td>1.000000</td>\n",
       "      <td>1.000000</td>\n",
       "      <td>1.000000</td>\n",
       "    </tr>\n",
       "    <tr>\n",
       "      <th>25%</th>\n",
       "      <td>7.262930e+07</td>\n",
       "      <td>3.000000</td>\n",
       "      <td>1.000000</td>\n",
       "      <td>72.000000</td>\n",
       "    </tr>\n",
       "    <tr>\n",
       "      <th>50%</th>\n",
       "      <td>7.264187e+07</td>\n",
       "      <td>8.000000</td>\n",
       "      <td>4.000000</td>\n",
       "      <td>96.000000</td>\n",
       "    </tr>\n",
       "    <tr>\n",
       "      <th>75%</th>\n",
       "      <td>7.265357e+07</td>\n",
       "      <td>20.000000</td>\n",
       "      <td>19.000000</td>\n",
       "      <td>185.000000</td>\n",
       "    </tr>\n",
       "    <tr>\n",
       "      <th>max</th>\n",
       "      <td>7.266620e+07</td>\n",
       "      <td>9999.000000</td>\n",
       "      <td>12210.000000</td>\n",
       "      <td>650.000000</td>\n",
       "    </tr>\n",
       "  </tbody>\n",
       "</table>\n",
       "</div>"
      ],
      "text/plain": [
       "          order_num     order_item   order_amount     pallet_std\n",
       "count  2.566770e+05  256677.000000  256677.000000  256677.000000\n",
       "mean   7.264149e+07      86.211055      29.495635     128.215189\n",
       "std    1.411038e+04     850.232238     147.388895      78.267588\n",
       "min    7.261689e+07       1.000000       1.000000       1.000000\n",
       "25%    7.262930e+07       3.000000       1.000000      72.000000\n",
       "50%    7.264187e+07       8.000000       4.000000      96.000000\n",
       "75%    7.265357e+07      20.000000      19.000000     185.000000\n",
       "max    7.266620e+07    9999.000000   12210.000000     650.000000"
      ]
     },
     "execution_count": 8,
     "metadata": {},
     "output_type": "execute_result"
    }
   ],
   "source": [
    "df.describe()"
   ]
  },
  {
   "cell_type": "code",
   "execution_count": 9,
   "metadata": {},
   "outputs": [
    {
     "name": "stdout",
     "output_type": "stream",
     "text": [
      "interval columns not set, guessing: ['order_num', 'order_item', 'order_amount', 'pallet_std']\n"
     ]
    },
    {
     "data": {
      "text/html": [
       "<div>\n",
       "<style scoped>\n",
       "    .dataframe tbody tr th:only-of-type {\n",
       "        vertical-align: middle;\n",
       "    }\n",
       "\n",
       "    .dataframe tbody tr th {\n",
       "        vertical-align: top;\n",
       "    }\n",
       "\n",
       "    .dataframe thead th {\n",
       "        text-align: right;\n",
       "    }\n",
       "</style>\n",
       "<table border=\"1\" class=\"dataframe\">\n",
       "  <thead>\n",
       "    <tr style=\"text-align: right;\">\n",
       "      <th></th>\n",
       "      <th>order_num</th>\n",
       "      <th>material_num</th>\n",
       "      <th>order_item</th>\n",
       "      <th>order_type</th>\n",
       "      <th>order_amount</th>\n",
       "      <th>pallet_std</th>\n",
       "      <th>customer_num</th>\n",
       "      <th>order_date</th>\n",
       "    </tr>\n",
       "  </thead>\n",
       "  <tbody>\n",
       "    <tr>\n",
       "      <th>order_num</th>\n",
       "      <td>1.000000</td>\n",
       "      <td>0.554811</td>\n",
       "      <td>NaN</td>\n",
       "      <td>NaN</td>\n",
       "      <td>NaN</td>\n",
       "      <td>NaN</td>\n",
       "      <td>NaN</td>\n",
       "      <td>0.999918</td>\n",
       "    </tr>\n",
       "    <tr>\n",
       "      <th>material_num</th>\n",
       "      <td>0.554811</td>\n",
       "      <td>1.000000</td>\n",
       "      <td>1.0</td>\n",
       "      <td>0.777909</td>\n",
       "      <td>0.684437</td>\n",
       "      <td>0.999994</td>\n",
       "      <td>0.908309</td>\n",
       "      <td>0.835337</td>\n",
       "    </tr>\n",
       "    <tr>\n",
       "      <th>order_item</th>\n",
       "      <td>NaN</td>\n",
       "      <td>1.000000</td>\n",
       "      <td>1.0</td>\n",
       "      <td>NaN</td>\n",
       "      <td>NaN</td>\n",
       "      <td>NaN</td>\n",
       "      <td>NaN</td>\n",
       "      <td>NaN</td>\n",
       "    </tr>\n",
       "    <tr>\n",
       "      <th>order_type</th>\n",
       "      <td>NaN</td>\n",
       "      <td>0.777909</td>\n",
       "      <td>NaN</td>\n",
       "      <td>1.000000</td>\n",
       "      <td>NaN</td>\n",
       "      <td>NaN</td>\n",
       "      <td>1.000000</td>\n",
       "      <td>NaN</td>\n",
       "    </tr>\n",
       "    <tr>\n",
       "      <th>order_amount</th>\n",
       "      <td>NaN</td>\n",
       "      <td>0.684437</td>\n",
       "      <td>NaN</td>\n",
       "      <td>NaN</td>\n",
       "      <td>1.000000</td>\n",
       "      <td>NaN</td>\n",
       "      <td>NaN</td>\n",
       "      <td>0.764918</td>\n",
       "    </tr>\n",
       "    <tr>\n",
       "      <th>pallet_std</th>\n",
       "      <td>NaN</td>\n",
       "      <td>0.999994</td>\n",
       "      <td>NaN</td>\n",
       "      <td>NaN</td>\n",
       "      <td>NaN</td>\n",
       "      <td>1.000000</td>\n",
       "      <td>0.540038</td>\n",
       "      <td>NaN</td>\n",
       "    </tr>\n",
       "    <tr>\n",
       "      <th>customer_num</th>\n",
       "      <td>NaN</td>\n",
       "      <td>0.908309</td>\n",
       "      <td>NaN</td>\n",
       "      <td>1.000000</td>\n",
       "      <td>NaN</td>\n",
       "      <td>0.540038</td>\n",
       "      <td>1.000000</td>\n",
       "      <td>0.868886</td>\n",
       "    </tr>\n",
       "    <tr>\n",
       "      <th>order_date</th>\n",
       "      <td>0.999918</td>\n",
       "      <td>0.835337</td>\n",
       "      <td>NaN</td>\n",
       "      <td>NaN</td>\n",
       "      <td>0.764918</td>\n",
       "      <td>NaN</td>\n",
       "      <td>0.868886</td>\n",
       "      <td>1.000000</td>\n",
       "    </tr>\n",
       "  </tbody>\n",
       "</table>\n",
       "</div>"
      ],
      "text/plain": [
       "              order_num  material_num  order_item  order_type  order_amount  \\\n",
       "order_num      1.000000      0.554811         NaN         NaN           NaN   \n",
       "material_num   0.554811      1.000000         1.0    0.777909      0.684437   \n",
       "order_item          NaN      1.000000         1.0         NaN           NaN   \n",
       "order_type          NaN      0.777909         NaN    1.000000           NaN   \n",
       "order_amount        NaN      0.684437         NaN         NaN      1.000000   \n",
       "pallet_std          NaN      0.999994         NaN         NaN           NaN   \n",
       "customer_num        NaN      0.908309         NaN    1.000000           NaN   \n",
       "order_date     0.999918      0.835337         NaN         NaN      0.764918   \n",
       "\n",
       "              pallet_std  customer_num  order_date  \n",
       "order_num            NaN           NaN    0.999918  \n",
       "material_num    0.999994      0.908309    0.835337  \n",
       "order_item           NaN           NaN         NaN  \n",
       "order_type           NaN      1.000000         NaN  \n",
       "order_amount         NaN           NaN    0.764918  \n",
       "pallet_std      1.000000      0.540038         NaN  \n",
       "customer_num    0.540038      1.000000    0.868886  \n",
       "order_date           NaN      0.868886    1.000000  "
      ]
     },
     "execution_count": 9,
     "metadata": {},
     "output_type": "execute_result"
    }
   ],
   "source": [
    "import phik\n",
    "phi_corr = df.phik_matrix()\n",
    "phi_corr[phi_corr.abs()>0.5]"
   ]
  },
  {
   "cell_type": "markdown",
   "metadata": {},
   "source": [
    "### eda"
   ]
  },
  {
   "cell_type": "code",
   "execution_count": 13,
   "metadata": {},
   "outputs": [
    {
     "data": {
      "text/plain": [
       "[<matplotlib.lines.Line2D at 0x214aaeaf580>]"
      ]
     },
     "execution_count": 13,
     "metadata": {},
     "output_type": "execute_result"
    },
    {
     "data": {
      "image/png": "[encoded data removed]",
      "text/plain": [
       "<Figure size 1152x576 with 1 Axes>"
      ]
     },
     "metadata": {
      "needs_background": "light"
     },
     "output_type": "display_data"
    }
   ],
   "source": [
    "# all sales\n",
    "import matplotlib.pyplot as plt\n",
    "ts=df.groupby([\"order_date\"])[\"order_amount\"].sum()\n",
    "plt.figure(figsize=(16,8))\n",
    "plt.title('Total Sales')\n",
    "plt.xlabel('Time')\n",
    "plt.ylabel('Sales')\n",
    "plt.plot(ts)"
   ]
  },
  {
   "cell_type": "markdown",
   "metadata": {},
   "source": [
    "### feature engineering"
   ]
  },
  {
   "cell_type": "code",
   "execution_count": 14,
   "metadata": {},
   "outputs": [],
   "source": [
    "# these may be useless???\n",
    "df['order_weekday'] =  df['order_date'].dt.weekday\n",
    "df['order_month'] = df['order_date'].dt.month\n",
    "df['order_day'] = df['order_date'].dt.day"
   ]
  },
  {
   "cell_type": "code",
   "execution_count": 15,
   "metadata": {},
   "outputs": [
    {
     "data": {
      "text/plain": [
       "223      72617120\n",
       "902      72618012\n",
       "1082     72618229\n",
       "1139     72618331\n",
       "1443     72618687\n",
       "           ...   \n",
       "36710    72665449\n",
       "36784    72665565\n",
       "36864    72665689\n",
       "36950    72665783\n",
       "36989    72665836\n",
       "Name: order_num, Length: 2422, dtype: int64"
      ]
     },
     "execution_count": 15,
     "metadata": {},
     "output_type": "execute_result"
    }
   ],
   "source": [
    "# geçmişte iptal edilen sipariş var mı\n",
    "item_nums = df.groupby(['order_num']).agg({'order_amount':'count', 'order_item':'max'}).reset_index()\n",
    "cancelled_items_exist = item_nums[~(item_nums['order_amount'].values == item_nums['order_item'].values)]['order_num']\n",
    "cancelled_items_exist"
   ]
  },
  {
   "cell_type": "code",
   "execution_count": 16,
   "metadata": {},
   "outputs": [],
   "source": [
    "df.loc[:,'is_cancelled_item_exist'] = 0\n",
    "df.loc[df['order_num'].isin(cancelled_items_exist), 'is_cancelled_item_exist'] = 1"
   ]
  },
  {
   "cell_type": "markdown",
   "metadata": {},
   "source": [
    "### müşteri ürünü sipariş ettikten sonra ne kadar zaman geçti"
   ]
  },
  {
   "cell_type": "code",
   "execution_count": 17,
   "metadata": {},
   "outputs": [],
   "source": [
    "material_order_dates = df.groupby(['customer_num','order_num', 'material_num'])['order_date'].min().reset_index()\n",
    "material_order_dates['shifted_date'] = material_order_dates.groupby(['customer_num','order_num', 'material_num'])['order_date'].diff()"
   ]
  },
  {
   "cell_type": "code",
   "execution_count": 18,
   "metadata": {},
   "outputs": [],
   "source": [
    "# last 1, 2, 3, 5, 7, 10 orders"
   ]
  },
  {
   "cell_type": "code",
   "execution_count": 19,
   "metadata": {},
   "outputs": [],
   "source": [
    "order_amounts = df.groupby(['customer_num', 'material_num','order_num'])['order_amount'].sum().reset_index()\n",
    "for period in [1,2,3,5,7,10]:\n",
    "    col_name = 'last_' + str(period) + '_period_sum'\n",
    "    order_amounts['rolling_sum'] = order_amounts.groupby(['customer_num', 'material_num'])['order_amount'] \\\n",
    "    .rolling(period, min_periods=period).sum().values\n",
    "    \n",
    "    order_amounts[col_name] = order_amounts.groupby(['customer_num', 'material_num'])['rolling_sum'].shift(1)"
   ]
  },
  {
   "cell_type": "code",
   "execution_count": 20,
   "metadata": {},
   "outputs": [
    {
     "data": {
      "text/plain": [
       "customer_num          0.000000\n",
       "material_num          0.000000\n",
       "order_num             0.000000\n",
       "order_amount          0.000000\n",
       "rolling_sum           0.348594\n",
       "last_1_period_sum     0.071315\n",
       "last_2_period_sum     0.124312\n",
       "last_3_period_sum     0.168804\n",
       "last_5_period_sum     0.240906\n",
       "last_7_period_sum     0.299014\n",
       "last_10_period_sum    0.370707\n",
       "dtype: float64"
      ]
     },
     "execution_count": 20,
     "metadata": {},
     "output_type": "execute_result"
    }
   ],
   "source": [
    "order_amounts.isna().sum()/order_amounts.shape[0]"
   ]
  },
  {
   "cell_type": "code",
   "execution_count": 21,
   "metadata": {},
   "outputs": [],
   "source": [
    "df = pd.merge(df, order_amounts.drop(['order_amount', 'rolling_sum'], axis=1), on=['customer_num', 'material_num', 'order_num'])"
   ]
  },
  {
   "cell_type": "markdown",
   "metadata": {},
   "source": [
    "### order_item numbers in an order"
   ]
  },
  {
   "cell_type": "code",
   "execution_count": 22,
   "metadata": {},
   "outputs": [],
   "source": [
    "item_counts = df.groupby(['order_num'])['order_item'].count().reset_index()\n",
    "item_counts.columns = ['order_num', 'num_order_item']\n",
    "df = pd.merge(df, item_counts, on=['order_num'])"
   ]
  },
  {
   "cell_type": "markdown",
   "metadata": {},
   "source": [
    "### modelling"
   ]
  },
  {
   "cell_type": "code",
   "execution_count": 23,
   "metadata": {},
   "outputs": [],
   "source": [
    "drops = ['order_num', 'order_date']\n",
    "label = ['order_amount']\n",
    "categorical = ['material_num', 'order_item', 'order_type', 'pallet_std', 'customer_num',\n",
    "               'order_weekday', 'order_month', 'order_day', 'is_cancelled_item_exist']\n",
    "numerical = ['last_1_period_sum', 'last_2_period_sum', 'last_3_period_sum',\n",
    "            'last_5_period_sum', 'last_7_period_sum', 'last_10_period_sum', 'num_order_item']"
   ]
  },
  {
   "cell_type": "code",
   "execution_count": 24,
   "metadata": {},
   "outputs": [],
   "source": [
    "def create_pipeline_without_model(reg_name, reg_object):\n",
    "    \n",
    "    numeric_transformer = Pipeline(steps=[\n",
    "        ('imputer', SimpleImputer(strategy='constant', fill_value=0.0)),\n",
    "        ('scaler', StandardScaler())])\n",
    "    \n",
    "    categorical_transformer = Pipeline(steps=[\n",
    "        ('one-hot', OneHotEncoder(handle_unknown='ignore'))])\n",
    "\n",
    "\n",
    "    preprocessor = ColumnTransformer(\n",
    "                                    transformers=[\n",
    "                                                  ('num1', numeric_transformer, numerical),       \n",
    "                                                  ('cat_str1', categorical_transformer, categorical),\n",
    "                                                  ])\n",
    "\n",
    "    pipeline = Pipeline(steps=[('preprocessor', preprocessor),\n",
    "                               (reg_name, reg_object)])\n",
    "    \n",
    "    return pipeline"
   ]
  },
  {
   "cell_type": "code",
   "execution_count": 28,
   "metadata": {},
   "outputs": [],
   "source": [
    "df = df.sample(50_000)"
   ]
  },
  {
   "cell_type": "code",
   "execution_count": 38,
   "metadata": {},
   "outputs": [
    {
     "name": "stdout",
     "output_type": "stream",
     "text": [
      "Train scores: \n",
      "R2 score:0.9309753237170147, RMSE:37.270103057120934\n",
      "-----\n",
      "Test scores: \n",
      "R2 score:0.6561045038119568, RMSE:86.97656902318452\n"
     ]
    }
   ],
   "source": [
    "y = df[label]\n",
    "X = df[categorical+numerical]\n",
    "\n",
    "X_train, X_test, y_train, y_test = train_test_split(X, y, test_size=0.20, random_state=1)\n",
    "\n",
    "pipe1 = create_pipeline_without_model('regressor', XGBRegressor())\n",
    "pipe1.fit(X_train, y_train)\n",
    "preds_train = pipe1.predict(X_train)\n",
    "preds_test = pipe1.predict(X_test)\n",
    "\n",
    "print('Train scores: ')\n",
    "print(\"R2 score:{}, RMSE:{}\".format(r2_score(y_train, preds_train), mean_squared_error(y_train, preds_train, squared=False)))\n",
    "print('-----')\n",
    "print('Test scores: ')\n",
    "print(\"R2 score:{}, RMSE:{}\".format(r2_score(y_test, preds_test), mean_squared_error(y_test, preds_test, squared=False)))"
   ]
  },
  {
   "cell_type": "code",
   "execution_count": 39,
   "metadata": {},
   "outputs": [],
   "source": [
    "def evaluate_model_with_CV(X, y, model):\n",
    "    cv = KFold(n_splits=5, shuffle=True, random_state=1)\n",
    "    scores = cross_validate(model, X, y, scoring=['neg_root_mean_squared_error', 'r2'], n_jobs=-1, \n",
    "                        return_estimator=True, return_train_score=True, cv=cv)\n",
    "    # ['fit_time', 'score_time', 'estimator', 'test_neg_root_mean_squared_error', \n",
    "    # 'train_neg_root_mean_squared_error', 'test_r2', 'train_r2']\n",
    "\n",
    "    return scores"
   ]
  },
  {
   "cell_type": "code",
   "execution_count": 40,
   "metadata": {},
   "outputs": [],
   "source": [
    "def print_metrics(y_pred, y_test, model):\n",
    "    print(\"Model results: \", type(model).__name__)\n",
    "    print(classification_report(y_test, y_pred))\n",
    "    print(\"Confusion matrix:\")\n",
    "    cm = confusion_matrix(y_test,y_pred, labels= model.classes_)\n",
    "    disp = ConfusionMatrixDisplay(confusion_matrix=cm,display_labels= model.classes_)\n",
    "    disp.plot()"
   ]
  },
  {
   "cell_type": "code",
   "execution_count": 41,
   "metadata": {},
   "outputs": [],
   "source": [
    "from sklearn.linear_model import LinearRegression, Lasso, Ridge, ElasticNet, BayesianRidge\n",
    "from sklearn.tree import DecisionTreeRegressor\n",
    "from sklearn.ensemble import RandomForestRegressor\n",
    "from sklearn.neighbors import KNeighborsRegressor\n",
    "from sklearn.svm import SVR, LinearSVR\n",
    "from xgboost import XGBRegressor\n",
    "from sklearn.kernel_ridge import KernelRidge"
   ]
  },
  {
   "cell_type": "code",
   "execution_count": 42,
   "metadata": {},
   "outputs": [],
   "source": [
    "regressors = [\n",
    "    (\"XGBRegressor\", XGBRegressor()),\n",
    "    (\"SVR\", SVR()),\n",
    "    (\"LinearSVR\", LinearSVR()),\n",
    "    (\"KernelRidge\", KernelRidge()),\n",
    "    (\"LinearRegression\", LinearRegression()),\n",
    "    (\"Ridge\",Ridge()),\n",
    "    (\"Lasso\",Lasso()),\n",
    "    (\"BayesianRidge\", BayesianRidge()),\n",
    "    (\"ElasticNet\", ElasticNet()),\n",
    "]"
   ]
  },
  {
   "cell_type": "code",
   "execution_count": 43,
   "metadata": {},
   "outputs": [],
   "source": [
    "from sklearn.metrics import mean_squared_error"
   ]
  },
  {
   "cell_type": "code",
   "execution_count": 44,
   "metadata": {},
   "outputs": [
    {
     "name": "stdout",
     "output_type": "stream",
     "text": [
      "Train scores: \n",
      "R2 score:0.5723674290996097, RMSE:92.76705987132958\n",
      "-----\n",
      "Test scores: \n",
      "R2 score:0.44361534529710467, RMSE:110.63093928087655\n"
     ]
    }
   ],
   "source": [
    "y = df[label]\n",
    "X = df[categorical+numerical]\n",
    "\n",
    "X_train, X_test, y_train, y_test = train_test_split(X, y, test_size=0.20, random_state=1)\n",
    "\n",
    "pipe1 = create_pipeline_without_model('regressor', LinearRegression())\n",
    "pipe1.fit(X_train, y_train)\n",
    "preds_train = pipe1.predict(X_train)\n",
    "preds_test = pipe1.predict(X_test)\n",
    "\n",
    "print('Train scores: ')\n",
    "print(\"R2 score:{}, RMSE:{}\".format(r2_score(y_train, preds_train), mean_squared_error(y_train, preds_train, squared=False)))\n",
    "print('-----')\n",
    "print('Test scores: ')\n",
    "print(\"R2 score:{}, RMSE:{}\".format(r2_score(y_test, preds_test), mean_squared_error(y_test, preds_test, squared=False)))"
   ]
  },
  {
   "cell_type": "code",
   "execution_count": 45,
   "metadata": {
    "scrolled": true
   },
   "outputs": [
    {
     "name": "stderr",
     "output_type": "stream",
     "text": [
      "100%|███████████████████████████████████████████████████████████████████████████████████| 9/9 [15:54<00:00, 106.03s/it]\n"
     ]
    }
   ],
   "source": [
    "random_state = 1\n",
    "RMSE_train_mean = []\n",
    "RMSE_train_std = []\n",
    "RMSE_test_mean = []\n",
    "RMSE_test_std = []\n",
    "R2_train_mean = []\n",
    "R2_train_std = []\n",
    "R2_test_mean = []\n",
    "R2_test_std = []\n",
    "names = []\n",
    "TIME = []\n",
    "\n",
    "for name, regressor in tqdm(regressors):\n",
    "    \n",
    "    pipe = create_pipeline_without_model(name, regressor)\n",
    "    results = evaluate_model_with_CV(X, y, pipe)\n",
    "                        \n",
    "    names.append(name)\n",
    "    RMSE_train_mean.append(results['train_neg_root_mean_squared_error'].mean())\n",
    "    RMSE_train_std.append(results['train_neg_root_mean_squared_error'].std())\n",
    "    RMSE_test_mean.append(results['test_neg_root_mean_squared_error'].mean())\n",
    "    RMSE_test_std.append(results['test_neg_root_mean_squared_error'].std())\n",
    "    R2_train_mean.append(results['train_r2'].mean())\n",
    "    R2_train_std.append(results['train_r2'].std())\n",
    "    R2_test_mean.append(results['test_r2'].mean())\n",
    "    R2_test_std.append(results['test_r2'].std())\n",
    "    TIME.append(results['fit_time'].mean())\n",
    "\n",
    "    \n",
    "scores = pd.DataFrame({ \"Model\": names,\n",
    "                        \"RMSE_train_mean\": RMSE_train_mean,\n",
    "                        \"RMSE_train_std\": RMSE_train_std,\n",
    "                        \"RMSE_test_mean\": RMSE_test_mean,\n",
    "                        \"RMSE_test_std\": RMSE_test_std,\n",
    "                       \n",
    "                        \"R2_train_mean\": R2_train_mean,\n",
    "                        \"R2_train_std\": R2_train_std,\n",
    "                        \"R2_test_mean\": R2_test_mean,\n",
    "                        \"R2_test_std\": R2_test_std,\n",
    "                        \"Time Taken\": TIME, })"
   ]
  },
  {
   "cell_type": "code",
   "execution_count": 48,
   "metadata": {},
   "outputs": [
    {
     "data": {
      "text/html": [
       "<div>\n",
       "<style scoped>\n",
       "    .dataframe tbody tr th:only-of-type {\n",
       "        vertical-align: middle;\n",
       "    }\n",
       "\n",
       "    .dataframe tbody tr th {\n",
       "        vertical-align: top;\n",
       "    }\n",
       "\n",
       "    .dataframe thead th {\n",
       "        text-align: right;\n",
       "    }\n",
       "</style>\n",
       "<table border=\"1\" class=\"dataframe\">\n",
       "  <thead>\n",
       "    <tr style=\"text-align: right;\">\n",
       "      <th></th>\n",
       "      <th>Model</th>\n",
       "      <th>RMSE_train_mean</th>\n",
       "      <th>RMSE_train_std</th>\n",
       "      <th>RMSE_test_mean</th>\n",
       "      <th>RMSE_test_std</th>\n",
       "      <th>R2_train_mean</th>\n",
       "      <th>R2_train_std</th>\n",
       "      <th>R2_test_mean</th>\n",
       "      <th>R2_test_std</th>\n",
       "      <th>Time Taken</th>\n",
       "    </tr>\n",
       "  </thead>\n",
       "  <tbody>\n",
       "    <tr>\n",
       "      <th>0</th>\n",
       "      <td>XGBRegressor</td>\n",
       "      <td>-36.106694</td>\n",
       "      <td>0.713502</td>\n",
       "      <td>-96.392914</td>\n",
       "      <td>8.227279</td>\n",
       "      <td>0.935968</td>\n",
       "      <td>0.006035</td>\n",
       "      <td>0.508243</td>\n",
       "      <td>0.148266</td>\n",
       "      <td>3.431800</td>\n",
       "    </tr>\n",
       "    <tr>\n",
       "      <th>1</th>\n",
       "      <td>SVR</td>\n",
       "      <td>-137.712956</td>\n",
       "      <td>5.422769</td>\n",
       "      <td>-136.196684</td>\n",
       "      <td>21.600385</td>\n",
       "      <td>0.073786</td>\n",
       "      <td>0.005564</td>\n",
       "      <td>0.078060</td>\n",
       "      <td>0.020346</td>\n",
       "      <td>177.244065</td>\n",
       "    </tr>\n",
       "    <tr>\n",
       "      <th>2</th>\n",
       "      <td>LinearSVR</td>\n",
       "      <td>-111.806008</td>\n",
       "      <td>2.239665</td>\n",
       "      <td>-112.444694</td>\n",
       "      <td>10.467265</td>\n",
       "      <td>0.388305</td>\n",
       "      <td>0.024323</td>\n",
       "      <td>0.355267</td>\n",
       "      <td>0.087346</td>\n",
       "      <td>0.502606</td>\n",
       "    </tr>\n",
       "    <tr>\n",
       "      <th>3</th>\n",
       "      <td>KernelRidge</td>\n",
       "      <td>NaN</td>\n",
       "      <td>NaN</td>\n",
       "      <td>NaN</td>\n",
       "      <td>NaN</td>\n",
       "      <td>NaN</td>\n",
       "      <td>NaN</td>\n",
       "      <td>NaN</td>\n",
       "      <td>NaN</td>\n",
       "      <td>271.452696</td>\n",
       "    </tr>\n",
       "    <tr>\n",
       "      <th>4</th>\n",
       "      <td>LinearRegression</td>\n",
       "      <td>-89.908282</td>\n",
       "      <td>1.895030</td>\n",
       "      <td>-109.401797</td>\n",
       "      <td>4.197505</td>\n",
       "      <td>0.603433</td>\n",
       "      <td>0.032399</td>\n",
       "      <td>0.364318</td>\n",
       "      <td>0.186123</td>\n",
       "      <td>1.394654</td>\n",
       "    </tr>\n",
       "    <tr>\n",
       "      <th>5</th>\n",
       "      <td>Ridge</td>\n",
       "      <td>-90.677301</td>\n",
       "      <td>1.903598</td>\n",
       "      <td>-105.536722</td>\n",
       "      <td>6.722451</td>\n",
       "      <td>0.596660</td>\n",
       "      <td>0.032436</td>\n",
       "      <td>0.405281</td>\n",
       "      <td>0.192340</td>\n",
       "      <td>0.215189</td>\n",
       "    </tr>\n",
       "    <tr>\n",
       "      <th>6</th>\n",
       "      <td>Lasso</td>\n",
       "      <td>-107.349707</td>\n",
       "      <td>1.632432</td>\n",
       "      <td>-112.134373</td>\n",
       "      <td>6.975192</td>\n",
       "      <td>0.435017</td>\n",
       "      <td>0.040154</td>\n",
       "      <td>0.335027</td>\n",
       "      <td>0.191425</td>\n",
       "      <td>1.882395</td>\n",
       "    </tr>\n",
       "    <tr>\n",
       "      <th>7</th>\n",
       "      <td>BayesianRidge</td>\n",
       "      <td>NaN</td>\n",
       "      <td>NaN</td>\n",
       "      <td>NaN</td>\n",
       "      <td>NaN</td>\n",
       "      <td>NaN</td>\n",
       "      <td>NaN</td>\n",
       "      <td>NaN</td>\n",
       "      <td>NaN</td>\n",
       "      <td>0.079391</td>\n",
       "    </tr>\n",
       "    <tr>\n",
       "      <th>8</th>\n",
       "      <td>ElasticNet</td>\n",
       "      <td>-108.787554</td>\n",
       "      <td>1.721007</td>\n",
       "      <td>-111.027131</td>\n",
       "      <td>7.587444</td>\n",
       "      <td>0.420014</td>\n",
       "      <td>0.037988</td>\n",
       "      <td>0.359610</td>\n",
       "      <td>0.140352</td>\n",
       "      <td>0.694322</td>\n",
       "    </tr>\n",
       "  </tbody>\n",
       "</table>\n",
       "</div>"
      ],
      "text/plain": [
       "              Model  RMSE_train_mean  RMSE_train_std  RMSE_test_mean  \\\n",
       "0      XGBRegressor       -36.106694        0.713502      -96.392914   \n",
       "1               SVR      -137.712956        5.422769     -136.196684   \n",
       "2         LinearSVR      -111.806008        2.239665     -112.444694   \n",
       "3       KernelRidge              NaN             NaN             NaN   \n",
       "4  LinearRegression       -89.908282        1.895030     -109.401797   \n",
       "5             Ridge       -90.677301        1.903598     -105.536722   \n",
       "6             Lasso      -107.349707        1.632432     -112.134373   \n",
       "7     BayesianRidge              NaN             NaN             NaN   \n",
       "8        ElasticNet      -108.787554        1.721007     -111.027131   \n",
       "\n",
       "   RMSE_test_std  R2_train_mean  R2_train_std  R2_test_mean  R2_test_std  \\\n",
       "0       8.227279       0.935968      0.006035      0.508243     0.148266   \n",
       "1      21.600385       0.073786      0.005564      0.078060     0.020346   \n",
       "2      10.467265       0.388305      0.024323      0.355267     0.087346   \n",
       "3            NaN            NaN           NaN           NaN          NaN   \n",
       "4       4.197505       0.603433      0.032399      0.364318     0.186123   \n",
       "5       6.722451       0.596660      0.032436      0.405281     0.192340   \n",
       "6       6.975192       0.435017      0.040154      0.335027     0.191425   \n",
       "7            NaN            NaN           NaN           NaN          NaN   \n",
       "8       7.587444       0.420014      0.037988      0.359610     0.140352   \n",
       "\n",
       "   Time Taken  \n",
       "0    3.431800  \n",
       "1  177.244065  \n",
       "2    0.502606  \n",
       "3  271.452696  \n",
       "4    1.394654  \n",
       "5    0.215189  \n",
       "6    1.882395  \n",
       "7    0.079391  \n",
       "8    0.694322  "
      ]
     },
     "execution_count": 48,
     "metadata": {},
     "output_type": "execute_result"
    }
   ],
   "source": [
    "scores"
   ]
  }
 ],
 "metadata": {
  "kernelspec": {
   "display_name": "Python 3",
   "language": "python",
   "name": "python3"
  },
  "language_info": {
   "codemirror_mode": {
    "name": "ipython",
    "version": 3
   },
   "file_extension": ".py",
   "mimetype": "text/x-python",
   "name": "python",
   "nbconvert_exporter": "python",
   "pygments_lexer": "ipython3",
   "version": "3.8.5"
  }
 },
 "nbformat": 4,
 "nbformat_minor": 4
}
