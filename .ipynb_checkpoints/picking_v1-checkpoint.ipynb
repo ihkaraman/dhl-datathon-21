{
 "cells": [
  {
   "cell_type": "markdown",
   "metadata": {},
   "source": [
    "-Wave No hergün 1’den başlar\n",
    "\n",
    "- Ekipman/ personel maliyetin için günlük max toplama miktarı kısıtımız aşağıdaki gibi olacaktır:\n",
    "01 operasyonu için: 25.000\n",
    "02 operasyonu için: 175.000\n",
    "\n",
    "- Sipariş Edilen Tarih < Toplama Tarihi < Sevkiyat Tarihi"
   ]
  },
  {
   "cell_type": "code",
   "execution_count": 1,
   "metadata": {},
   "outputs": [],
   "source": [
    "import pandas as pd"
   ]
  },
  {
   "cell_type": "code",
   "execution_count": 2,
   "metadata": {},
   "outputs": [
    {
     "name": "stderr",
     "output_type": "stream",
     "text": [
      "C:\\Users\\IsmailKaraman\\anaconda3\\lib\\site-packages\\IPython\\core\\interactiveshell.py:3155: DtypeWarning: Columns (1,5,7,8) have mixed types.Specify dtype option on import or set low_memory=False.\n",
      "  has_raised = await self.run_ast_nodes(code_ast.body, cell_name,\n"
     ]
    }
   ],
   "source": [
    "picking_df = pd.read_csv('data/datathon_picking.csv', index_col='Unnamed: 0')"
   ]
  },
  {
   "cell_type": "code",
   "execution_count": 3,
   "metadata": {},
   "outputs": [
    {
     "data": {
      "text/html": [
       "<div>\n",
       "<style scoped>\n",
       "    .dataframe tbody tr th:only-of-type {\n",
       "        vertical-align: middle;\n",
       "    }\n",
       "\n",
       "    .dataframe tbody tr th {\n",
       "        vertical-align: top;\n",
       "    }\n",
       "\n",
       "    .dataframe thead th {\n",
       "        text-align: right;\n",
       "    }\n",
       "</style>\n",
       "<table border=\"1\" class=\"dataframe\">\n",
       "  <thead>\n",
       "    <tr style=\"text-align: right;\">\n",
       "      <th></th>\n",
       "      <th>Siparis No</th>\n",
       "      <th>Siparis Tipi</th>\n",
       "      <th>Urun Kodu</th>\n",
       "      <th>Toplanan Miktar</th>\n",
       "      <th>Toplama Tarihi</th>\n",
       "      <th>Toplama Saati</th>\n",
       "      <th>Siparişin Düştüğü Tarih</th>\n",
       "      <th>Sevkiyat Tarihi</th>\n",
       "      <th>Müşteri</th>\n",
       "      <th>Operasyon Numarası</th>\n",
       "    </tr>\n",
       "  </thead>\n",
       "  <tbody>\n",
       "    <tr>\n",
       "      <th>0</th>\n",
       "      <td>72616784</td>\n",
       "      <td>10.0</td>\n",
       "      <td>61000058</td>\n",
       "      <td>45</td>\n",
       "      <td>28122019</td>\n",
       "      <td>11:10</td>\n",
       "      <td>26122019</td>\n",
       "      <td>2012020</td>\n",
       "      <td>C10005</td>\n",
       "      <td>O1</td>\n",
       "    </tr>\n",
       "    <tr>\n",
       "      <th>1</th>\n",
       "      <td>72616784</td>\n",
       "      <td>10.0</td>\n",
       "      <td>61000058</td>\n",
       "      <td>45</td>\n",
       "      <td>28122019</td>\n",
       "      <td>11:11</td>\n",
       "      <td>26122019</td>\n",
       "      <td>2012020</td>\n",
       "      <td>C10005</td>\n",
       "      <td>O1</td>\n",
       "    </tr>\n",
       "    <tr>\n",
       "      <th>2</th>\n",
       "      <td>72616784</td>\n",
       "      <td>10.0</td>\n",
       "      <td>61000058</td>\n",
       "      <td>45</td>\n",
       "      <td>28122019</td>\n",
       "      <td>11:11</td>\n",
       "      <td>26122019</td>\n",
       "      <td>2012020</td>\n",
       "      <td>C10005</td>\n",
       "      <td>O1</td>\n",
       "    </tr>\n",
       "    <tr>\n",
       "      <th>3</th>\n",
       "      <td>72616784</td>\n",
       "      <td>10.0</td>\n",
       "      <td>61000058</td>\n",
       "      <td>45</td>\n",
       "      <td>28122019</td>\n",
       "      <td>11:12</td>\n",
       "      <td>26122019</td>\n",
       "      <td>2012020</td>\n",
       "      <td>C10005</td>\n",
       "      <td>O1</td>\n",
       "    </tr>\n",
       "    <tr>\n",
       "      <th>4</th>\n",
       "      <td>72616784</td>\n",
       "      <td>10.0</td>\n",
       "      <td>61000058</td>\n",
       "      <td>45</td>\n",
       "      <td>28122019</td>\n",
       "      <td>11:10</td>\n",
       "      <td>26122019</td>\n",
       "      <td>2012020</td>\n",
       "      <td>C10005</td>\n",
       "      <td>O1</td>\n",
       "    </tr>\n",
       "  </tbody>\n",
       "</table>\n",
       "</div>"
      ],
      "text/plain": [
       "  Siparis No  Siparis Tipi Urun Kodu  Toplanan Miktar Toplama Tarihi  \\\n",
       "0   72616784          10.0  61000058               45       28122019   \n",
       "1   72616784          10.0  61000058               45       28122019   \n",
       "2   72616784          10.0  61000058               45       28122019   \n",
       "3   72616784          10.0  61000058               45       28122019   \n",
       "4   72616784          10.0  61000058               45       28122019   \n",
       "\n",
       "  Toplama Saati Siparişin Düştüğü Tarih Sevkiyat Tarihi Müşteri  \\\n",
       "0         11:10                26122019         2012020  C10005   \n",
       "1         11:11                26122019         2012020  C10005   \n",
       "2         11:11                26122019         2012020  C10005   \n",
       "3         11:12                26122019         2012020  C10005   \n",
       "4         11:10                26122019         2012020  C10005   \n",
       "\n",
       "  Operasyon Numarası  \n",
       "0                 O1  \n",
       "1                 O1  \n",
       "2                 O1  \n",
       "3                 O1  \n",
       "4                 O1  "
      ]
     },
     "execution_count": 3,
     "metadata": {},
     "output_type": "execute_result"
    }
   ],
   "source": [
    "picking_df.head()"
   ]
  },
  {
   "cell_type": "code",
   "execution_count": 4,
   "metadata": {},
   "outputs": [],
   "source": [
    "picking_df.columns = ['order_num', 'order_type', 'material_num', 'picked_amount', 'picking_date', \n",
    "                      'picking_hour', 'order_receive_date', 'shipping_date', 'customer_num', 'operation_type']"
   ]
  },
  {
   "cell_type": "code",
   "execution_count": 5,
   "metadata": {},
   "outputs": [],
   "source": [
    "# from analysis we saw that customer number 'C-10170' is replaced with 'C-10277', so we replace all the values\n",
    "picking_df.replace('C-10170', 'C-10277', inplace=True)"
   ]
  },
  {
   "cell_type": "code",
   "execution_count": 6,
   "metadata": {},
   "outputs": [
    {
     "data": {
      "text/html": [
       "<div>\n",
       "<style scoped>\n",
       "    .dataframe tbody tr th:only-of-type {\n",
       "        vertical-align: middle;\n",
       "    }\n",
       "\n",
       "    .dataframe tbody tr th {\n",
       "        vertical-align: top;\n",
       "    }\n",
       "\n",
       "    .dataframe thead th {\n",
       "        text-align: right;\n",
       "    }\n",
       "</style>\n",
       "<table border=\"1\" class=\"dataframe\">\n",
       "  <thead>\n",
       "    <tr style=\"text-align: right;\">\n",
       "      <th></th>\n",
       "      <th>order_num</th>\n",
       "      <th>order_type</th>\n",
       "      <th>material_num</th>\n",
       "      <th>picked_amount</th>\n",
       "      <th>picking_date</th>\n",
       "      <th>picking_hour</th>\n",
       "      <th>order_receive_date</th>\n",
       "      <th>shipping_date</th>\n",
       "      <th>customer_num</th>\n",
       "      <th>operation_type</th>\n",
       "    </tr>\n",
       "  </thead>\n",
       "  <tbody>\n",
       "    <tr>\n",
       "      <th>0</th>\n",
       "      <td>72616784</td>\n",
       "      <td>10.0</td>\n",
       "      <td>61000058</td>\n",
       "      <td>45</td>\n",
       "      <td>28122019</td>\n",
       "      <td>11:10</td>\n",
       "      <td>26122019</td>\n",
       "      <td>2012020</td>\n",
       "      <td>C10005</td>\n",
       "      <td>O1</td>\n",
       "    </tr>\n",
       "    <tr>\n",
       "      <th>1</th>\n",
       "      <td>72616784</td>\n",
       "      <td>10.0</td>\n",
       "      <td>61000058</td>\n",
       "      <td>45</td>\n",
       "      <td>28122019</td>\n",
       "      <td>11:11</td>\n",
       "      <td>26122019</td>\n",
       "      <td>2012020</td>\n",
       "      <td>C10005</td>\n",
       "      <td>O1</td>\n",
       "    </tr>\n",
       "    <tr>\n",
       "      <th>2</th>\n",
       "      <td>72616784</td>\n",
       "      <td>10.0</td>\n",
       "      <td>61000058</td>\n",
       "      <td>45</td>\n",
       "      <td>28122019</td>\n",
       "      <td>11:11</td>\n",
       "      <td>26122019</td>\n",
       "      <td>2012020</td>\n",
       "      <td>C10005</td>\n",
       "      <td>O1</td>\n",
       "    </tr>\n",
       "    <tr>\n",
       "      <th>3</th>\n",
       "      <td>72616784</td>\n",
       "      <td>10.0</td>\n",
       "      <td>61000058</td>\n",
       "      <td>45</td>\n",
       "      <td>28122019</td>\n",
       "      <td>11:12</td>\n",
       "      <td>26122019</td>\n",
       "      <td>2012020</td>\n",
       "      <td>C10005</td>\n",
       "      <td>O1</td>\n",
       "    </tr>\n",
       "    <tr>\n",
       "      <th>4</th>\n",
       "      <td>72616784</td>\n",
       "      <td>10.0</td>\n",
       "      <td>61000058</td>\n",
       "      <td>45</td>\n",
       "      <td>28122019</td>\n",
       "      <td>11:10</td>\n",
       "      <td>26122019</td>\n",
       "      <td>2012020</td>\n",
       "      <td>C10005</td>\n",
       "      <td>O1</td>\n",
       "    </tr>\n",
       "  </tbody>\n",
       "</table>\n",
       "</div>"
      ],
      "text/plain": [
       "  order_num  order_type material_num  picked_amount picking_date picking_hour  \\\n",
       "0  72616784        10.0     61000058             45     28122019        11:10   \n",
       "1  72616784        10.0     61000058             45     28122019        11:11   \n",
       "2  72616784        10.0     61000058             45     28122019        11:11   \n",
       "3  72616784        10.0     61000058             45     28122019        11:12   \n",
       "4  72616784        10.0     61000058             45     28122019        11:10   \n",
       "\n",
       "  order_receive_date shipping_date customer_num operation_type  \n",
       "0           26122019       2012020       C10005             O1  \n",
       "1           26122019       2012020       C10005             O1  \n",
       "2           26122019       2012020       C10005             O1  \n",
       "3           26122019       2012020       C10005             O1  \n",
       "4           26122019       2012020       C10005             O1  "
      ]
     },
     "execution_count": 6,
     "metadata": {},
     "output_type": "execute_result"
    }
   ],
   "source": [
    "picking_df.head()"
   ]
  },
  {
   "cell_type": "code",
   "execution_count": 7,
   "metadata": {},
   "outputs": [],
   "source": [
    "def convert_string_to_date(str_date):\n",
    "    \n",
    "    str_date = str(str_date)\n",
    "    str_date = str_date.replace('/','')\n",
    "    str_date = str_date.replace('.','')\n",
    "    \n",
    "    len_date = len(str_date)\n",
    "    \n",
    "    if len_date>7:\n",
    "        return pd.Timestamp(int(str_date[4:]), int(str_date[2:4]), int(str_date[:2]))   \n",
    "    elif len_date==7:\n",
    "        return pd.Timestamp(int(str_date[3:]), int(str_date[1:3]), int(str_date[:1]))   \n",
    "    elif len_date==6:\n",
    "        return pd.Timestamp(int(str_date[2:]), int(str_date[1:2]), int(str_date[:1]))   "
   ]
  },
  {
   "cell_type": "code",
   "execution_count": 8,
   "metadata": {},
   "outputs": [],
   "source": [
    "picking_df['picking_date'] = picking_df['picking_date'].apply(convert_string_to_date)\n",
    "picking_df['order_receive_date'] = picking_df['order_receive_date'].apply(convert_string_to_date)\n",
    "picking_df['shipping_date'] = picking_df['shipping_date'].apply(convert_string_to_date)\n",
    "picking_df['picking_hour'] = pd.to_datetime(picking_df['picking_hour'])"
   ]
  },
  {
   "cell_type": "code",
   "execution_count": 9,
   "metadata": {
    "scrolled": true
   },
   "outputs": [
    {
     "data": {
      "text/plain": [
       "(712390, 10)"
      ]
     },
     "execution_count": 9,
     "metadata": {},
     "output_type": "execute_result"
    }
   ],
   "source": [
    "picking_df.shape"
   ]
  },
  {
   "cell_type": "code",
   "execution_count": 18,
   "metadata": {},
   "outputs": [],
   "source": [
    "at2 = picking_df.groupby(['order_num', 'material_num']).agg(\n",
    "                                           {'order_receive_date':'min', 'picked_amount':'sum',\n",
    "                                            'customer_num':'min', 'operation_type':'min'}).reset_index()"
   ]
  },
  {
   "cell_type": "code",
   "execution_count": 19,
   "metadata": {},
   "outputs": [
    {
     "data": {
      "text/plain": [
       "(485591, 6)"
      ]
     },
     "execution_count": 19,
     "metadata": {},
     "output_type": "execute_result"
    }
   ],
   "source": [
    "at2.shape"
   ]
  },
  {
   "cell_type": "code",
   "execution_count": 17,
   "metadata": {},
   "outputs": [
    {
     "data": {
      "text/plain": [
       "(485591, 7)"
      ]
     },
     "execution_count": 17,
     "metadata": {},
     "output_type": "execute_result"
    }
   ],
   "source": [
    "at.shape"
   ]
  },
  {
   "cell_type": "code",
   "execution_count": null,
   "metadata": {},
   "outputs": [],
   "source": [
    "picking_df = picking_df.groupby(['order_num', 'material_num','shipping_date']).agg(\n",
    "                                           {'order_receive_date':'min', 'picked_amount':'sum',\n",
    "                                            'customer_num':'min', 'operation_type':'min'}).reset_index()"
   ]
  },
  {
   "cell_type": "code",
   "execution_count": null,
   "metadata": {},
   "outputs": [],
   "source": [
    "picking_df."
   ]
  },
  {
   "cell_type": "code",
   "execution_count": null,
   "metadata": {},
   "outputs": [],
   "source": [
    "picking_df.head()"
   ]
  },
  {
   "cell_type": "code",
   "execution_count": null,
   "metadata": {},
   "outputs": [],
   "source": [
    "picking_df['time_for_shipping'] = (picking_df['shipping_date'] - picking_df['order_receive_date']).dt.days"
   ]
  },
  {
   "cell_type": "code",
   "execution_count": null,
   "metadata": {
    "scrolled": false
   },
   "outputs": [],
   "source": [
    "picking_df.sort_values(by=['picking_hour']).head()"
   ]
  },
  {
   "cell_type": "code",
   "execution_count": null,
   "metadata": {},
   "outputs": [],
   "source": [
    "picking_df[picking_df['time_for_shipping']==0]"
   ]
  },
  {
   "cell_type": "code",
   "execution_count": null,
   "metadata": {},
   "outputs": [],
   "source": [
    "picking_df['time_for_shipping'].value_counts().plot(kind='bar')"
   ]
  },
  {
   "cell_type": "code",
   "execution_count": null,
   "metadata": {},
   "outputs": [],
   "source": [
    "avg_prod_shipping = pd.DataFrame()\n",
    "avg_prod_shipping['avg_shipping_time'] = picking_df.groupby('material_num').agg({'time_for_shipping':'mean'})['time_for_shipping']\n",
    "avg_prod_shipping['shipping_count'] = picking_df.groupby('material_num').agg({'time_for_shipping':'count'})['time_for_shipping']\n",
    "avg_prod_shipping = avg_prod_shipping.sort_values('avg_shipping_time').reset_index()\n",
    "avg_prod_shipping.query('avg_shipping_time == 0 and shipping_count > 10')\n",
    "# orders for below products are immediate"
   ]
  },
  {
   "cell_type": "code",
   "execution_count": null,
   "metadata": {},
   "outputs": [],
   "source": [
    "avg_cust_shipping = pd.DataFrame()\n",
    "avg_cust_shipping['avg_shipping_time'] = picking_df.groupby('customer_num').agg({'time_for_shipping':'mean'})['time_for_shipping']\n",
    "avg_cust_shipping['shipping_count'] = picking_df.groupby('customer_num').agg({'time_for_shipping':'count'})['time_for_shipping']\n",
    "avg_cust_shipping = avg_cust_shipping.sort_values('avg_shipping_time').reset_index()\n",
    "avg_cust_shipping.query('avg_shipping_time == 0 and shipping_count > 10')\n",
    "# below customers give their orders immediate, same day shipping"
   ]
  },
  {
   "cell_type": "markdown",
   "metadata": {},
   "source": [
    "## assumptions \n",
    "\n",
    "1. all orders will be ready for shipping at the end of shipping date (ex: 6 pm)\n",
    "2. all orders are recieved at the beginning of receive date\n",
    "3. picking is done asap to be able to meet unexpected orders\n",
    "4. we can pick orders for next days to utilize waves more\n",
    "5. different orders can be picked in one wave and one order can be picked by different waves. packing operation handles the \n",
    "6. one item in an order cannot be splitted and cannot be put in different waves\n",
    "7. tahminler ne kadar iyi de olsa güvenilmez olduğu için sadece tahminlere göre topla/toplama kararı verilmiş, kesin siparişler harici toplama yapılmamıştır."
   ]
  },
  {
   "cell_type": "markdown",
   "metadata": {},
   "source": [
    "## to do\n",
    "\n",
    "1. only meet the constraints\n",
    "2. add the future orders as predictions\n",
    "3. balance the workload, not 10,1,3,22 waves for 4 days, should be 8,9,9,10\n",
    "4. minimize the workload for sunday\n",
    "5. add holidays"
   ]
  },
  {
   "cell_type": "code",
   "execution_count": 20,
   "metadata": {},
   "outputs": [],
   "source": [
    "df = picking_df[['order_num', 'material_num', 'order_receive_date', 'shipping_date',\n",
    "            'customer_num', 'operation_type', 'picked_amount']].copy()"
   ]
  },
  {
   "cell_type": "code",
   "execution_count": 21,
   "metadata": {},
   "outputs": [],
   "source": [
    "df.sort_values(by=['order_receive_date', 'order_num'], inplace=True)"
   ]
  },
  {
   "cell_type": "code",
   "execution_count": null,
   "metadata": {},
   "outputs": [],
   "source": [
    "df.head()"
   ]
  },
  {
   "cell_type": "code",
   "execution_count": null,
   "metadata": {},
   "outputs": [],
   "source": [
    "df['shipping_date'].dt.weekday.value_counts().plot(kind='bar')"
   ]
  },
  {
   "cell_type": "markdown",
   "metadata": {},
   "source": [
    "df[df['order_receive_date']=='2020-02-03']"
   ]
  },
  {
   "cell_type": "code",
   "execution_count": 54,
   "metadata": {},
   "outputs": [],
   "source": [
    "# first fit\n",
    "def bin_packing(w, c):\n",
    "    \n",
    "    n = len(w)\n",
    "    order = sorted([i for i in range(n)], key=lambda i: w[i], reverse=True)\n",
    "    print(order)\n",
    "    bin_for_item = [-1 for i in range(n)]\n",
    "    bin_space = []\n",
    "    \n",
    "    for i in order:\n",
    "        \n",
    "        for j in range(len(bin_space)):\n",
    "            \n",
    "            if w[i]<=bin_space[j]:\n",
    "                bin_for_item[i]=j\n",
    "                bin_space[j] -=w[i]\n",
    "                break\n",
    "                \n",
    "        if bin_for_item[i] < 0:\n",
    "            \n",
    "            j = len(bin_space)\n",
    "            if \n",
    "            bin_for_item[i]=j\n",
    "            bin_space.append(c-w[i])\n",
    "            \n",
    "    n_bins = len(bin_space)\n",
    "    return n_bins, bin_for_item"
   ]
  },
  {
   "cell_type": "code",
   "execution_count": 55,
   "metadata": {},
   "outputs": [
    {
     "name": "stdout",
     "output_type": "stream",
     "text": [
      "[0, 3, 4, 5, 6, 7, 8, 9, 1, 2]\n"
     ]
    }
   ],
   "source": [
    "weights = df[df['order_receive_date']=='2020-03-04']['picked_amount'].to_list()[0:10]\n",
    "\n",
    "f1 = bin_packing(weights, 100)"
   ]
  },
  {
   "cell_type": "code",
   "execution_count": null,
   "metadata": {},
   "outputs": [],
   "source": []
  },
  {
   "cell_type": "code",
   "execution_count": 61,
   "metadata": {},
   "outputs": [],
   "source": [
    "def receive_orders(date, orders, checklist):\n",
    "\n",
    "    new_orders = orders[orders['order_receive_date']==date]\n",
    "    checklist = pd.concat([checklist, new_orders], axis=0).sort_values(by='shipping_date')\n",
    "\n",
    "    checklist['time_for_shipping'] = (checklist['shipping_date'] - checklist['order_receive_date']).dt.days  \n",
    "        \n",
    "    return checklist"
   ]
  },
  {
   "cell_type": "code",
   "execution_count": 74,
   "metadata": {},
   "outputs": [
    {
     "data": {
      "text/plain": [
       "187012"
      ]
     },
     "execution_count": 74,
     "metadata": {},
     "output_type": "execute_result"
    }
   ],
   "source": [
    "df.duplicated().sum()"
   ]
  },
  {
   "cell_type": "code",
   "execution_count": 70,
   "metadata": {},
   "outputs": [
    {
     "data": {
      "text/plain": [
       "(712390, 7)"
      ]
     },
     "execution_count": 70,
     "metadata": {},
     "output_type": "execute_result"
    }
   ],
   "source": [
    "df.shape"
   ]
  },
  {
   "cell_type": "code",
   "execution_count": 79,
   "metadata": {},
   "outputs": [
    {
     "data": {
      "text/html": [
       "<div>\n",
       "<style scoped>\n",
       "    .dataframe tbody tr th:only-of-type {\n",
       "        vertical-align: middle;\n",
       "    }\n",
       "\n",
       "    .dataframe tbody tr th {\n",
       "        vertical-align: top;\n",
       "    }\n",
       "\n",
       "    .dataframe thead th {\n",
       "        text-align: right;\n",
       "    }\n",
       "</style>\n",
       "<table border=\"1\" class=\"dataframe\">\n",
       "  <thead>\n",
       "    <tr style=\"text-align: right;\">\n",
       "      <th></th>\n",
       "      <th>order_num</th>\n",
       "      <th>material_num</th>\n",
       "      <th>order_receive_date</th>\n",
       "      <th>shipping_date</th>\n",
       "      <th>customer_num</th>\n",
       "      <th>operation_type</th>\n",
       "      <th>picked_amount</th>\n",
       "    </tr>\n",
       "  </thead>\n",
       "  <tbody>\n",
       "    <tr>\n",
       "      <th>0</th>\n",
       "      <td>72616784</td>\n",
       "      <td>61000058</td>\n",
       "      <td>2019-12-26</td>\n",
       "      <td>2020-01-02</td>\n",
       "      <td>C10005</td>\n",
       "      <td>O1</td>\n",
       "      <td>45</td>\n",
       "    </tr>\n",
       "    <tr>\n",
       "      <th>1</th>\n",
       "      <td>72616784</td>\n",
       "      <td>61000058</td>\n",
       "      <td>2019-12-26</td>\n",
       "      <td>2020-01-02</td>\n",
       "      <td>C10005</td>\n",
       "      <td>O1</td>\n",
       "      <td>45</td>\n",
       "    </tr>\n",
       "    <tr>\n",
       "      <th>2</th>\n",
       "      <td>72616784</td>\n",
       "      <td>61000058</td>\n",
       "      <td>2019-12-26</td>\n",
       "      <td>2020-01-02</td>\n",
       "      <td>C10005</td>\n",
       "      <td>O1</td>\n",
       "      <td>45</td>\n",
       "    </tr>\n",
       "    <tr>\n",
       "      <th>3</th>\n",
       "      <td>72616784</td>\n",
       "      <td>61000058</td>\n",
       "      <td>2019-12-26</td>\n",
       "      <td>2020-01-02</td>\n",
       "      <td>C10005</td>\n",
       "      <td>O1</td>\n",
       "      <td>45</td>\n",
       "    </tr>\n",
       "    <tr>\n",
       "      <th>4</th>\n",
       "      <td>72616784</td>\n",
       "      <td>61000058</td>\n",
       "      <td>2019-12-26</td>\n",
       "      <td>2020-01-02</td>\n",
       "      <td>C10005</td>\n",
       "      <td>O1</td>\n",
       "      <td>45</td>\n",
       "    </tr>\n",
       "  </tbody>\n",
       "</table>\n",
       "</div>"
      ],
      "text/plain": [
       "  order_num material_num order_receive_date shipping_date customer_num  \\\n",
       "0  72616784     61000058         2019-12-26    2020-01-02       C10005   \n",
       "1  72616784     61000058         2019-12-26    2020-01-02       C10005   \n",
       "2  72616784     61000058         2019-12-26    2020-01-02       C10005   \n",
       "3  72616784     61000058         2019-12-26    2020-01-02       C10005   \n",
       "4  72616784     61000058         2019-12-26    2020-01-02       C10005   \n",
       "\n",
       "  operation_type  picked_amount  \n",
       "0             O1             45  \n",
       "1             O1             45  \n",
       "2             O1             45  \n",
       "3             O1             45  \n",
       "4             O1             45  "
      ]
     },
     "execution_count": 79,
     "metadata": {},
     "output_type": "execute_result"
    }
   ],
   "source": [
    "df.head()"
   ]
  },
  {
   "cell_type": "code",
   "execution_count": 78,
   "metadata": {},
   "outputs": [
    {
     "ename": "SyntaxError",
     "evalue": "invalid syntax (<ipython-input-78-5b8d51272a96>, line 17)",
     "output_type": "error",
     "traceback": [
      "\u001b[1;36m  File \u001b[1;32m\"<ipython-input-78-5b8d51272a96>\"\u001b[1;36m, line \u001b[1;32m17\u001b[0m\n\u001b[1;33m    must_pick i materiala göre sırala\u001b[0m\n\u001b[1;37m              ^\u001b[0m\n\u001b[1;31mSyntaxError\u001b[0m\u001b[1;31m:\u001b[0m invalid syntax\n"
     ]
    }
   ],
   "source": [
    "def pick_orders(checklist, capacity, date):\n",
    "    \n",
    "    picking_list = pd.DataFrame()\n",
    "    \n",
    "    # creating must_pick orders list\n",
    "    must_pick = checklist[checklist['time_for_shipping']==0]\n",
    "\n",
    "    # deleting must_pick orders from checklist\n",
    "    checklist = checklist[checklist['time_for_shipping']>0]\n",
    "    \n",
    "    num_wave = 0\n",
    "    picking_type = 'normal'\n",
    "    \n",
    "    while True:\n",
    "        \n",
    "        num_wave += 1\n",
    "        wave_set = set()\n",
    "        \n",
    "        must_pick i materiala göre sırala\n",
    "        \n",
    "        tmp_pick = must_pick.copy()\n",
    "        for idx, row in tmp_pick.iterrows():\n",
    "\n",
    "            row_picking = {}\n",
    "            \n",
    "            mat_num = row['material_num']\n",
    "            amount = row['picked_amount']\n",
    "               \n",
    "            row_picking['wave_no'] = num_wave\n",
    "            row_picking['material'] = mat_num\n",
    "            row_picking['order_num'] = row['order_num']\n",
    "            row_picking['picking_date'] = date\n",
    "            row_picking['shipping_date'] = row['shipping_date']\n",
    "            row_picking['customer_num'] = row['customer_num']\n",
    "            row_picking['operation_type'] = row['operation_type']\n",
    "            row_picking['picking_type'] = picking_type\n",
    "            row_picking['amount'] = amount\n",
    "            \n",
    "            # adding picking list\n",
    "            picking_list = pd.concat([picking_list, pd.DataFrame(row_picking)]) \n",
    "            # updating wave capacity\n",
    "            wave_set.add(mat_num)\n",
    "                    \n",
    "            # updating daily capacity\n",
    "            capacity -= amount\n",
    "            # removing from must_pick list\n",
    "            must_pick.drop(idx, axis=0, inplace=True)\n",
    "\n",
    "                \n",
    "            if capacity < 0:\n",
    "                picking_type = 'overwork'\n",
    "            \n",
    "            if wave len(wave_set>=8 :\n",
    "                break\n",
    "        \n",
    "        break\n",
    "            \n",
    "        \n",
    "    return picking_list"
   ]
  },
  {
   "cell_type": "code",
   "execution_count": null,
   "metadata": {},
   "outputs": [],
   "source": [
    "def additional_picking(picking_list, checklist, remain_capacity):\n",
    "    \n",
    "    look checklist kesinleşmiş order\n",
    "        bottleneck varsa bottleneck'i çöz\n",
    "            bottleneck'i çözerken de gelecek order tahminlere bakın\n",
    "    \n",
    "    look closing orders in checklist\n",
    "        eğer shipping dateden önce order gelmesini tahmin ediyorsam toplama\n",
    "        eğer tahmin yoksa topla\n",
    "        \n",
    "        \n",
    "        if predicted in the near future \n",
    "\n",
    "        \n",
    "        \n",
    "        \n",
    "        \n",
    "    .sort_values(by=['time_for_shipping'], inplace=True)\n",
    "    \n",
    "    return picking_list, checklist"
   ]
  },
  {
   "cell_type": "code",
   "execution_count": null,
   "metadata": {
    "scrolled": true
   },
   "outputs": [],
   "source": [
    "def pick(orders, daily_capacity, picking_plans):\n",
    "    \n",
    "    checklist = pd.DataFrame()\n",
    "    \n",
    "\n",
    "    # for date in pd.date_range(df['order_receive_date'].min(), df['order_receive_date'].max()):\n",
    "    for date in pd.date_range('2020-01-02', orders['order_receive_date'].max()):    \n",
    "\n",
    "        # updating checklist\n",
    "        checklist = receive_orders(date, orders, checklist)\n",
    "\n",
    "        # check there is any item in must_pick list\n",
    "        if len(must_pick) > 0:\n",
    "\n",
    "            picking_list, remain_capacity = pick_orders(checklist, daily_capacity, date)\n",
    "            \n",
    "            if remain_capacity > 0:\n",
    "                \n",
    "                picking_list,  = additional_picking(picking_list, checklist, remain_capacity)\n",
    "            \n",
    "        else:\n",
    "            \n",
    "            add future plans ()\n",
    "            additional_picking(picking_list, checklist, daily_capacity)\n",
    "            \n",
    "            check next days orders\n",
    "            \n",
    "            future picking or additional picking\n",
    "\n",
    "\n",
    "        # updating checklist\n",
    "\n",
    "\n",
    "        return picking_plans"
   ]
  },
  {
   "cell_type": "code",
   "execution_count": null,
   "metadata": {},
   "outputs": [],
   "source": [
    "df_O1 = df[df['operation_type']=='O1']\n",
    "df_O2 = df[df['operation_type']=='O2']\n",
    "\n",
    "picking_plans = pd.DataFrame(columns=['date', 'wave_num','operation_type','order_num', 'customer_num', 'material_num', \n",
    "                                      'order_receive_date','shipping_date','picked_amount'])"
   ]
  },
  {
   "cell_type": "code",
   "execution_count": null,
   "metadata": {},
   "outputs": [],
   "source": [
    "picking_plans = pick(orders for O1, 25000, picking_plans)\n",
    "picking_plans = pick(orders for O2, 175000, picking_plans)"
   ]
  },
  {
   "cell_type": "code",
   "execution_count": null,
   "metadata": {},
   "outputs": [],
   "source": [
    "\n",
    "\n",
    "for each day:\n",
    "    checklist : items that has to be shipped ob that day\n",
    "    \n",
    "    for checklist\n",
    "        check # of avail place in wave - max 8\n",
    "        check daily total limit - max 25k for O1, 175k for O2\n",
    "        \n",
    "    if any place left:\n",
    "        pick next days order\n",
    "    \n",
    "    \n",
    "    \n",
    "    2. ertesi günler için totali geçiyor muyum\n",
    "        \n",
    "    "
   ]
  },
  {
   "cell_type": "code",
   "execution_count": null,
   "metadata": {},
   "outputs": [],
   "source": [
    "for each day:\n",
    "    update the checklist with received orders\n",
    "    pick the must_pick orders (must_pick orders are the ones that will be picked that day)\n",
    "        min waves \n",
    "            if the picker is not full, add more items from the list\n",
    "            find the closest one check \n",
    "        check the constraints\n",
    "            O1 <= 25k\n",
    "            O2 <= 175k\n",
    "            # of material <= 8\n",
    "            \n",
    "    update checklist\n",
    "        "
   ]
  },
  {
   "cell_type": "code",
   "execution_count": null,
   "metadata": {},
   "outputs": [],
   "source": []
  }
 ],
 "metadata": {
  "kernelspec": {
   "display_name": "Python 3",
   "language": "python",
   "name": "python3"
  },
  "language_info": {
   "codemirror_mode": {
    "name": "ipython",
    "version": 3
   },
   "file_extension": ".py",
   "mimetype": "text/x-python",
   "name": "python",
   "nbconvert_exporter": "python",
   "pygments_lexer": "ipython3",
   "version": "3.8.5"
  }
 },
 "nbformat": 4,
 "nbformat_minor": 4
}
