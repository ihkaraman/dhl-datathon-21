{
 "cells": [
  {
   "cell_type": "code",
   "execution_count": 3,
   "metadata": {},
   "outputs": [
    {
     "ename": "NameError",
     "evalue": "name 'jt' is not defined",
     "output_type": "error",
     "traceback": [
      "\u001b[1;31m---------------------------------------------------------------------------\u001b[0m",
      "\u001b[1;31mNameError\u001b[0m                                 Traceback (most recent call last)",
      "\u001b[1;32m<ipython-input-3-5806a2dabdbf>\u001b[0m in \u001b[0;36m<module>\u001b[1;34m\u001b[0m\n\u001b[1;32m----> 1\u001b[1;33m \u001b[0mjt\u001b[0m \u001b[1;33m-\u001b[0m\u001b[0mt\u001b[0m\u001b[1;33m\u001b[0m\u001b[1;33m\u001b[0m\u001b[0m\n\u001b[0m",
      "\u001b[1;31mNameError\u001b[0m: name 'jt' is not defined"
     ]
    }
   ],
   "source": []
  },
  {
   "cell_type": "code",
   "execution_count": 1,
   "metadata": {},
   "outputs": [],
   "source": [
    "import pandas as pd\n",
    "from sklearn.ensemble import RandomForestRegressor\n",
    "from sklearn.metrics import r2_score\n",
    "from sklearn.model_selection import train_test_split\n",
    "from sklearn.pipeline import Pipeline\n",
    "from sklearn.preprocessing import StandardScaler, OneHotEncoder\n",
    "from sklearn.compose import ColumnTransformer\n",
    "import numpy as np\n",
    "import seaborn as sns\n",
    "import matplotlib.pyplot as plt\n",
    "from xgboost import XGBRegressor\n",
    "from sklearn.ensemble import GradientBoostingRegressor\n",
    "from sklearn.linear_model import LinearRegression\n",
    "from sklearn.linear_model import Lasso\n",
    "from sklearn.linear_model import ElasticNet\n",
    "from sklearn.tree import DecisionTreeRegressor\n",
    "from sklearn.neighbors import KNeighborsRegressor\n",
    "from sklearn.linear_model import Lasso\n",
    "from sklearn.linear_model import Ridge\n",
    "from sklearn.model_selection import StratifiedKFold\n",
    "from sklearn.model_selection import cross_validate"
   ]
  },
  {
   "cell_type": "code",
   "execution_count": 2,
   "metadata": {},
   "outputs": [],
   "source": [
    "import time\n",
    "import pandas as pd\n",
    "import numpy as np\n",
    "import seaborn as sns\n",
    "import matplotlib.pyplot as plt\n",
    "from sklearn.preprocessing import StandardScaler\n",
    "from sklearn.model_selection import train_test_split\n",
    "from sklearn.metrics import mean_squared_error\n",
    "from sklearn.model_selection import RepeatedStratifiedKFold\n",
    "from sklearn.model_selection import GridSearchCV, RandomizedSearchCV\n",
    "from sklearn.model_selection import cross_val_score\n",
    "from xgboost import XGBRegressor\n",
    "from sklearn.tree import DecisionTreeRegressor\n",
    "from sklearn.gaussian_process import GaussianProcessRegressor\n",
    "from sklearn.linear_model import LinearRegression\n",
    "from sklearn.linear_model import Ridge\n",
    "from sklearn.linear_model import Lars\n",
    "from sklearn.linear_model import TheilSenRegressor\n",
    "from sklearn.linear_model import HuberRegressor\n",
    "from sklearn.linear_model import PassiveAggressiveRegressor\n",
    "from sklearn.linear_model import ARDRegression\n",
    "from sklearn.linear_model import BayesianRidge\n",
    "from sklearn.linear_model import ElasticNet\n",
    "from sklearn.linear_model import OrthogonalMatchingPursuit\n",
    "from sklearn.svm import SVR\n",
    "from sklearn.svm import NuSVR\n",
    "from sklearn.svm import LinearSVR\n",
    "from sklearn.kernel_ridge import KernelRidge\n",
    "from sklearn.isotonic import IsotonicRegression\n",
    "from sklearn.ensemble import RandomForestRegressor"
   ]
  },
  {
   "cell_type": "code",
   "execution_count": 3,
   "metadata": {},
   "outputs": [],
   "source": [
    "train = pd.read_csv(\"train_set.csv\")\n",
    "test = pd.read_csv(\"test_set.csv\")\n",
    "sub = pd.read_csv(\"submission.csv\")"
   ]
  },
  {
   "cell_type": "code",
   "execution_count": 4,
   "metadata": {},
   "outputs": [
    {
     "data": {
      "text/html": [
       "<div>\n",
       "<style scoped>\n",
       "    .dataframe tbody tr th:only-of-type {\n",
       "        vertical-align: middle;\n",
       "    }\n",
       "\n",
       "    .dataframe tbody tr th {\n",
       "        vertical-align: top;\n",
       "    }\n",
       "\n",
       "    .dataframe thead th {\n",
       "        text-align: right;\n",
       "    }\n",
       "</style>\n",
       "<table border=\"1\" class=\"dataframe\">\n",
       "  <thead>\n",
       "    <tr style=\"text-align: right;\">\n",
       "      <th></th>\n",
       "      <th>Sipariş Numarası</th>\n",
       "      <th>Sipariş Satırı</th>\n",
       "      <th>Sipariş Tipi</th>\n",
       "      <th>Malzeme Numarası</th>\n",
       "      <th>Sipariş Edilen Miktar</th>\n",
       "      <th>Sku Plt. Standartı</th>\n",
       "      <th>Müşteri No</th>\n",
       "      <th>Sipariş Tarihi</th>\n",
       "    </tr>\n",
       "  </thead>\n",
       "  <tbody>\n",
       "    <tr>\n",
       "      <th>0</th>\n",
       "      <td>72616887</td>\n",
       "      <td>1</td>\n",
       "      <td>Müşteri Siparişleri</td>\n",
       "      <td>61001960</td>\n",
       "      <td>60</td>\n",
       "      <td>228</td>\n",
       "      <td>C-10008</td>\n",
       "      <td>2020-01-02</td>\n",
       "    </tr>\n",
       "    <tr>\n",
       "      <th>1</th>\n",
       "      <td>72616888</td>\n",
       "      <td>1</td>\n",
       "      <td>Müşteri Siparişleri</td>\n",
       "      <td>61000066</td>\n",
       "      <td>25</td>\n",
       "      <td>96</td>\n",
       "      <td>C-10185</td>\n",
       "      <td>2020-01-02</td>\n",
       "    </tr>\n",
       "    <tr>\n",
       "      <th>2</th>\n",
       "      <td>72616888</td>\n",
       "      <td>2</td>\n",
       "      <td>Müşteri Siparişleri</td>\n",
       "      <td>61001960</td>\n",
       "      <td>50</td>\n",
       "      <td>228</td>\n",
       "      <td>C-10185</td>\n",
       "      <td>2020-01-02</td>\n",
       "    </tr>\n",
       "    <tr>\n",
       "      <th>3</th>\n",
       "      <td>72616889</td>\n",
       "      <td>1</td>\n",
       "      <td>Müşteri Siparişleri</td>\n",
       "      <td>61000066</td>\n",
       "      <td>40</td>\n",
       "      <td>96</td>\n",
       "      <td>C-10188</td>\n",
       "      <td>2020-01-02</td>\n",
       "    </tr>\n",
       "    <tr>\n",
       "      <th>4</th>\n",
       "      <td>72616889</td>\n",
       "      <td>2</td>\n",
       "      <td>Müşteri Siparişleri</td>\n",
       "      <td>61001960</td>\n",
       "      <td>20</td>\n",
       "      <td>228</td>\n",
       "      <td>C-10188</td>\n",
       "      <td>2020-01-02</td>\n",
       "    </tr>\n",
       "    <tr>\n",
       "      <th>...</th>\n",
       "      <td>...</td>\n",
       "      <td>...</td>\n",
       "      <td>...</td>\n",
       "      <td>...</td>\n",
       "      <td>...</td>\n",
       "      <td>...</td>\n",
       "      <td>...</td>\n",
       "      <td>...</td>\n",
       "    </tr>\n",
       "    <tr>\n",
       "      <th>276748</th>\n",
       "      <td>72666126</td>\n",
       "      <td>1</td>\n",
       "      <td>Paketli Siparişler</td>\n",
       "      <td>61007050</td>\n",
       "      <td>2376</td>\n",
       "      <td>72</td>\n",
       "      <td>C-10005</td>\n",
       "      <td>2020-12-28</td>\n",
       "    </tr>\n",
       "    <tr>\n",
       "      <th>276749</th>\n",
       "      <td>72666165</td>\n",
       "      <td>1</td>\n",
       "      <td>Paketli Siparişler</td>\n",
       "      <td>PL08105A</td>\n",
       "      <td>12012</td>\n",
       "      <td>185</td>\n",
       "      <td>C-10005</td>\n",
       "      <td>2020-12-29</td>\n",
       "    </tr>\n",
       "    <tr>\n",
       "      <th>276750</th>\n",
       "      <td>72666166</td>\n",
       "      <td>1</td>\n",
       "      <td>Paketli Siparişler</td>\n",
       "      <td>PL08105A</td>\n",
       "      <td>12210</td>\n",
       "      <td>185</td>\n",
       "      <td>C-10005</td>\n",
       "      <td>2020-12-29</td>\n",
       "    </tr>\n",
       "    <tr>\n",
       "      <th>276751</th>\n",
       "      <td>72666197</td>\n",
       "      <td>1</td>\n",
       "      <td>Paketli Siparişler</td>\n",
       "      <td>PL08105A</td>\n",
       "      <td>11837</td>\n",
       "      <td>185</td>\n",
       "      <td>C-10005</td>\n",
       "      <td>2020-12-30</td>\n",
       "    </tr>\n",
       "    <tr>\n",
       "      <th>276752</th>\n",
       "      <td>72666198</td>\n",
       "      <td>1</td>\n",
       "      <td>Paketli Siparişler</td>\n",
       "      <td>PL08105A</td>\n",
       "      <td>12210</td>\n",
       "      <td>185</td>\n",
       "      <td>C-10005</td>\n",
       "      <td>2020-12-30</td>\n",
       "    </tr>\n",
       "  </tbody>\n",
       "</table>\n",
       "<p>276753 rows × 8 columns</p>\n",
       "</div>"
      ],
      "text/plain": [
       "        Sipariş Numarası  Sipariş Satırı         Sipariş Tipi  \\\n",
       "0               72616887               1  Müşteri Siparişleri   \n",
       "1               72616888               1  Müşteri Siparişleri   \n",
       "2               72616888               2  Müşteri Siparişleri   \n",
       "3               72616889               1  Müşteri Siparişleri   \n",
       "4               72616889               2  Müşteri Siparişleri   \n",
       "...                  ...             ...                  ...   \n",
       "276748          72666126               1   Paketli Siparişler   \n",
       "276749          72666165               1   Paketli Siparişler   \n",
       "276750          72666166               1   Paketli Siparişler   \n",
       "276751          72666197               1   Paketli Siparişler   \n",
       "276752          72666198               1   Paketli Siparişler   \n",
       "\n",
       "       Malzeme Numarası  Sipariş Edilen Miktar  Sku Plt. Standartı Müşteri No  \\\n",
       "0              61001960                     60                 228    C-10008   \n",
       "1              61000066                     25                  96    C-10185   \n",
       "2              61001960                     50                 228    C-10185   \n",
       "3              61000066                     40                  96    C-10188   \n",
       "4              61001960                     20                 228    C-10188   \n",
       "...                 ...                    ...                 ...        ...   \n",
       "276748         61007050                   2376                  72    C-10005   \n",
       "276749         PL08105A                  12012                 185    C-10005   \n",
       "276750         PL08105A                  12210                 185    C-10005   \n",
       "276751         PL08105A                  11837                 185    C-10005   \n",
       "276752         PL08105A                  12210                 185    C-10005   \n",
       "\n",
       "       Sipariş Tarihi  \n",
       "0          2020-01-02  \n",
       "1          2020-01-02  \n",
       "2          2020-01-02  \n",
       "3          2020-01-02  \n",
       "4          2020-01-02  \n",
       "...               ...  \n",
       "276748     2020-12-28  \n",
       "276749     2020-12-29  \n",
       "276750     2020-12-29  \n",
       "276751     2020-12-30  \n",
       "276752     2020-12-30  \n",
       "\n",
       "[276753 rows x 8 columns]"
      ]
     },
     "execution_count": 4,
     "metadata": {},
     "output_type": "execute_result"
    }
   ],
   "source": [
    "train"
   ]
  },
  {
   "cell_type": "code",
   "execution_count": 5,
   "metadata": {},
   "outputs": [
    {
     "data": {
      "text/plain": [
       "Sipariş Numarası         0\n",
       "Sipariş Satırı           0\n",
       "Sipariş Tipi             0\n",
       "Malzeme Numarası         0\n",
       "Sipariş Edilen Miktar    0\n",
       "Sku Plt. Standartı       0\n",
       "Müşteri No               0\n",
       "Sipariş Tarihi           0\n",
       "dtype: int64"
      ]
     },
     "execution_count": 5,
     "metadata": {},
     "output_type": "execute_result"
    }
   ],
   "source": [
    "train.isnull().sum()"
   ]
  },
  {
   "cell_type": "code",
   "execution_count": 6,
   "metadata": {},
   "outputs": [
    {
     "data": {
      "text/html": [
       "<div>\n",
       "<style scoped>\n",
       "    .dataframe tbody tr th:only-of-type {\n",
       "        vertical-align: middle;\n",
       "    }\n",
       "\n",
       "    .dataframe tbody tr th {\n",
       "        vertical-align: top;\n",
       "    }\n",
       "\n",
       "    .dataframe thead th {\n",
       "        text-align: right;\n",
       "    }\n",
       "</style>\n",
       "<table border=\"1\" class=\"dataframe\">\n",
       "  <thead>\n",
       "    <tr style=\"text-align: right;\">\n",
       "      <th></th>\n",
       "      <th>Sipariş Numarası</th>\n",
       "      <th>Sipariş Satırı</th>\n",
       "      <th>Sipariş Tipi</th>\n",
       "      <th>Malzeme Numarası</th>\n",
       "      <th>Sku Plt. Standartı</th>\n",
       "      <th>Müşteri No</th>\n",
       "      <th>Sipariş Tarihi</th>\n",
       "    </tr>\n",
       "  </thead>\n",
       "  <tbody>\n",
       "    <tr>\n",
       "      <th>0</th>\n",
       "      <td>72666244</td>\n",
       "      <td>1</td>\n",
       "      <td>Paketli Siparişler</td>\n",
       "      <td>CN05756A</td>\n",
       "      <td>36</td>\n",
       "      <td>C-10005</td>\n",
       "      <td>2021-01-03</td>\n",
       "    </tr>\n",
       "    <tr>\n",
       "      <th>1</th>\n",
       "      <td>72666256</td>\n",
       "      <td>1</td>\n",
       "      <td>Müşteri Siparişleri</td>\n",
       "      <td>TR02237A</td>\n",
       "      <td>160</td>\n",
       "      <td>C-10176</td>\n",
       "      <td>2021-01-04</td>\n",
       "    </tr>\n",
       "    <tr>\n",
       "      <th>2</th>\n",
       "      <td>72666257</td>\n",
       "      <td>1</td>\n",
       "      <td>Müşteri Siparişleri</td>\n",
       "      <td>61013510</td>\n",
       "      <td>240</td>\n",
       "      <td>C-10154</td>\n",
       "      <td>2021-01-04</td>\n",
       "    </tr>\n",
       "    <tr>\n",
       "      <th>3</th>\n",
       "      <td>72666259</td>\n",
       "      <td>1</td>\n",
       "      <td>Müşteri Siparişleri</td>\n",
       "      <td>61013508</td>\n",
       "      <td>364</td>\n",
       "      <td>C-10160</td>\n",
       "      <td>2021-01-04</td>\n",
       "    </tr>\n",
       "    <tr>\n",
       "      <th>4</th>\n",
       "      <td>72666265</td>\n",
       "      <td>1</td>\n",
       "      <td>Müşteri Siparişleri</td>\n",
       "      <td>TR02237A</td>\n",
       "      <td>160</td>\n",
       "      <td>C-10024</td>\n",
       "      <td>2021-01-04</td>\n",
       "    </tr>\n",
       "  </tbody>\n",
       "</table>\n",
       "</div>"
      ],
      "text/plain": [
       "   Sipariş Numarası  Sipariş Satırı         Sipariş Tipi Malzeme Numarası  \\\n",
       "0          72666244               1   Paketli Siparişler         CN05756A   \n",
       "1          72666256               1  Müşteri Siparişleri         TR02237A   \n",
       "2          72666257               1  Müşteri Siparişleri         61013510   \n",
       "3          72666259               1  Müşteri Siparişleri         61013508   \n",
       "4          72666265               1  Müşteri Siparişleri         TR02237A   \n",
       "\n",
       "   Sku Plt. Standartı Müşteri No Sipariş Tarihi  \n",
       "0                  36    C-10005     2021-01-03  \n",
       "1                 160    C-10176     2021-01-04  \n",
       "2                 240    C-10154     2021-01-04  \n",
       "3                 364    C-10160     2021-01-04  \n",
       "4                 160    C-10024     2021-01-04  "
      ]
     },
     "execution_count": 6,
     "metadata": {},
     "output_type": "execute_result"
    }
   ],
   "source": [
    "test.head()"
   ]
  },
  {
   "cell_type": "code",
   "execution_count": 7,
   "metadata": {},
   "outputs": [
    {
     "data": {
      "text/plain": [
       "Sipariş Numarası      0\n",
       "Sipariş Satırı        0\n",
       "Sipariş Tipi          0\n",
       "Malzeme Numarası      0\n",
       "Sku Plt. Standartı    0\n",
       "Müşteri No            0\n",
       "Sipariş Tarihi        0\n",
       "dtype: int64"
      ]
     },
     "execution_count": 7,
     "metadata": {},
     "output_type": "execute_result"
    }
   ],
   "source": [
    "test.isnull().sum()"
   ]
  },
  {
   "cell_type": "code",
   "execution_count": 8,
   "metadata": {},
   "outputs": [
    {
     "data": {
      "text/plain": [
       "array(['Müşteri Siparişleri', 'Transfer', 'Paketli Siparişler'],\n",
       "      dtype=object)"
      ]
     },
     "execution_count": 8,
     "metadata": {},
     "output_type": "execute_result"
    }
   ],
   "source": [
    "train[\"Sipariş Tipi\"].unique()"
   ]
  },
  {
   "cell_type": "code",
   "execution_count": 9,
   "metadata": {},
   "outputs": [
    {
     "data": {
      "text/plain": [
       "array([228,  96, 196, 216, 210,  57,  64, 192,  56,  52,  98,  84,  80,\n",
       "       224, 132, 175,  63, 128,  60,  48, 200, 280, 185, 100,  72,  55,\n",
       "       225, 320, 120,  54,  36, 108, 245, 300, 168, 250, 161, 650, 342,\n",
       "        45, 408, 182,  42, 333, 140, 344, 205, 372,  24,  28, 147,  27,\n",
       "        10, 261, 105,   8,  49, 189,  70, 336,  50, 144, 114,  18, 378,\n",
       "       125,  30, 520, 504, 270, 364, 288, 310, 312, 305, 180, 297, 112,\n",
       "       215, 400, 133,  85, 322,  95, 234, 155,   1, 259,  40, 258],\n",
       "      dtype=int64)"
      ]
     },
     "execution_count": 9,
     "metadata": {},
     "output_type": "execute_result"
    }
   ],
   "source": [
    "train[\"Sku Plt. Standartı\"].unique()"
   ]
  },
  {
   "cell_type": "code",
   "execution_count": 10,
   "metadata": {
    "scrolled": true
   },
   "outputs": [
    {
     "data": {
      "text/html": [
       "<div>\n",
       "<style scoped>\n",
       "    .dataframe tbody tr th:only-of-type {\n",
       "        vertical-align: middle;\n",
       "    }\n",
       "\n",
       "    .dataframe tbody tr th {\n",
       "        vertical-align: top;\n",
       "    }\n",
       "\n",
       "    .dataframe thead th {\n",
       "        text-align: right;\n",
       "    }\n",
       "</style>\n",
       "<table border=\"1\" class=\"dataframe\">\n",
       "  <thead>\n",
       "    <tr style=\"text-align: right;\">\n",
       "      <th></th>\n",
       "      <th>Sipariş Numarası</th>\n",
       "      <th>Sipariş Satırı</th>\n",
       "      <th>Sipariş Tipi</th>\n",
       "      <th>Malzeme Numarası</th>\n",
       "      <th>Sipariş Edilen Miktar</th>\n",
       "      <th>Sku Plt. Standartı</th>\n",
       "      <th>Müşteri No</th>\n",
       "      <th>Sipariş Tarihi</th>\n",
       "    </tr>\n",
       "  </thead>\n",
       "  <tbody>\n",
       "    <tr>\n",
       "      <th>146149</th>\n",
       "      <td>72643683</td>\n",
       "      <td>89</td>\n",
       "      <td>Müşteri Siparişleri</td>\n",
       "      <td>61003831</td>\n",
       "      <td>5</td>\n",
       "      <td>60</td>\n",
       "      <td>C-10001</td>\n",
       "      <td>2020-07-13</td>\n",
       "    </tr>\n",
       "    <tr>\n",
       "      <th>161840</th>\n",
       "      <td>72646548</td>\n",
       "      <td>89</td>\n",
       "      <td>Müşteri Siparişleri</td>\n",
       "      <td>FCN01816</td>\n",
       "      <td>89</td>\n",
       "      <td>280</td>\n",
       "      <td>C-10096</td>\n",
       "      <td>2020-08-07</td>\n",
       "    </tr>\n",
       "    <tr>\n",
       "      <th>217469</th>\n",
       "      <td>72655238</td>\n",
       "      <td>89</td>\n",
       "      <td>Müşteri Siparişleri</td>\n",
       "      <td>TR02287A</td>\n",
       "      <td>1</td>\n",
       "      <td>225</td>\n",
       "      <td>C-10069</td>\n",
       "      <td>2020-10-06</td>\n",
       "    </tr>\n",
       "    <tr>\n",
       "      <th>236402</th>\n",
       "      <td>72658847</td>\n",
       "      <td>89</td>\n",
       "      <td>Müşteri Siparişleri</td>\n",
       "      <td>CN01148A</td>\n",
       "      <td>3</td>\n",
       "      <td>132</td>\n",
       "      <td>C-10001</td>\n",
       "      <td>2020-10-31</td>\n",
       "    </tr>\n",
       "  </tbody>\n",
       "</table>\n",
       "</div>"
      ],
      "text/plain": [
       "        Sipariş Numarası  Sipariş Satırı         Sipariş Tipi  \\\n",
       "146149          72643683              89  Müşteri Siparişleri   \n",
       "161840          72646548              89  Müşteri Siparişleri   \n",
       "217469          72655238              89  Müşteri Siparişleri   \n",
       "236402          72658847              89  Müşteri Siparişleri   \n",
       "\n",
       "       Malzeme Numarası  Sipariş Edilen Miktar  Sku Plt. Standartı Müşteri No  \\\n",
       "146149         61003831                      5                  60    C-10001   \n",
       "161840         FCN01816                     89                 280    C-10096   \n",
       "217469         TR02287A                      1                 225    C-10069   \n",
       "236402         CN01148A                      3                 132    C-10001   \n",
       "\n",
       "       Sipariş Tarihi  \n",
       "146149     2020-07-13  \n",
       "161840     2020-08-07  \n",
       "217469     2020-10-06  \n",
       "236402     2020-10-31  "
      ]
     },
     "execution_count": 10,
     "metadata": {},
     "output_type": "execute_result"
    }
   ],
   "source": [
    "train[train[\"Sipariş Satırı\"]==89]"
   ]
  },
  {
   "cell_type": "code",
   "execution_count": 11,
   "metadata": {},
   "outputs": [
    {
     "data": {
      "text/plain": [
       "array([   1,    2,    3,    6,    5,    7,    4,   12,   13,   10,   11,\n",
       "          8,    9,   29,   30,   15,   20,   22,   23,   19,   18,   21,\n",
       "         16,   14,   17,   25,   28,   26,   27,   24,   31,   36,   32,\n",
       "         33,   34,   35,   37,   42,   39,   53,   52,   43,   41,   38,\n",
       "         51,   56,   40,   50,   45,   57,   54,   55,   48,   49,   46,\n",
       "         47,   44,   59,   63,   60,   58,   62,   65,   61,   64,   66,\n",
       "         76,   67,   69,   68,   70,   72,   71,   73,   74,   75,   79,\n",
       "         77,   78,   80,   82,   81,   84,   83,   85,   87,   88,   86,\n",
       "         89,   91,   92,   90,   94,   93, 9999], dtype=int64)"
      ]
     },
     "execution_count": 11,
     "metadata": {},
     "output_type": "execute_result"
    }
   ],
   "source": [
    "train[\"Sipariş Satırı\"].unique()"
   ]
  },
  {
   "cell_type": "code",
   "execution_count": 12,
   "metadata": {},
   "outputs": [],
   "source": [
    "train['order_weekday'] =  pd.to_datetime(train['Sipariş Tarihi']).dt.weekday\n",
    "train['order_month'] = pd.to_datetime(train['Sipariş Tarihi']).dt.month\n",
    "train['order_day'] = pd.to_datetime(train['Sipariş Tarihi']).dt.day"
   ]
  },
  {
   "cell_type": "code",
   "execution_count": 13,
   "metadata": {},
   "outputs": [],
   "source": [
    "train['Sipariş Satırı'] = train['Sipariş Satırı'].replace(9999, np.nan)\n",
    "train.dropna(inplace=True)"
   ]
  },
  {
   "cell_type": "code",
   "execution_count": 14,
   "metadata": {},
   "outputs": [],
   "source": [
    "order_returns = pd.DataFrame(train.groupby(['Sipariş Numarası'])['Sipariş Satırı'].count()).reset_index()\n",
    "order_returns.columns = ['Sipariş Numarası', 'Sipariş Satır Sayısı']\n",
    "train = pd.merge(train, order_returns, on=['Sipariş Numarası'], how='left')"
   ]
  },
  {
   "cell_type": "code",
   "execution_count": 16,
   "metadata": {},
   "outputs": [],
   "source": [
    "sip_df = train.groupby(['Müşteri No','Sipariş Numarası'])['Sipariş Satır Sayısı'].max().reset_index()\n",
    "sip_df['Geçmiş Sipariş Satır Sayısı'] = sip_df.groupby(['Müşteri No'])['Sipariş Satır Sayısı'].shift(1)\n",
    "sip_df.drop(columns=[\"Sipariş Satır Sayısı\"],inplace=True)"
   ]
  },
  {
   "cell_type": "code",
   "execution_count": 17,
   "metadata": {},
   "outputs": [],
   "source": [
    "train = pd.merge(train, sip_df, on=['Müşteri No','Sipariş Numarası'], how='left')\n",
    "train.dropna(subset=[\"Sipariş Satır Sayısı\"],inplace=True)"
   ]
  },
  {
   "cell_type": "code",
   "execution_count": 21,
   "metadata": {},
   "outputs": [],
   "source": [
    "label = ['Sipariş Edilen Miktar']\n",
    "\n",
    "categorical_str = [\n",
    "'Sipariş Tipi',\n",
    "'Müşteri No',\n",
    "'Malzeme Numarası'\n",
    "] \n",
    "\n",
    "categorical_int = [\n",
    "'Sku Plt. Standartı',\n",
    "'order_month',\n",
    "'order_weekday',\n",
    "'order_day'\n",
    "]\n",
    "\n",
    "numerical = [\n",
    "'Sipariş Satır Sayısı',\n",
    "'Sipariş Satırı',\n",
    "'Geçmiş Sipariş Satır Sayısı'\n",
    "]\n",
    "\n",
    "drops = [\n",
    "'Sipariş Numarası',\n",
    "'Sipariş Tarihi']"
   ]
  },
  {
   "cell_type": "code",
   "execution_count": 22,
   "metadata": {},
   "outputs": [],
   "source": [
    "merged_train = train[categorical_str+categorical_int+numerical+label]"
   ]
  },
  {
   "cell_type": "code",
   "execution_count": 23,
   "metadata": {
    "scrolled": false
   },
   "outputs": [
    {
     "data": {
      "image/png": "[encoded data removed]",
      "text/plain": [
       "<Figure size 1152x864 with 2 Axes>"
      ]
     },
     "metadata": {
      "needs_background": "light"
     },
     "output_type": "display_data"
    }
   ],
   "source": [
    "matrix = merged_train.corr().abs()\n",
    "\n",
    "# Create a mask\n",
    "mask = np.triu(np.ones_like(matrix, dtype=bool))\n",
    "\n",
    "# Create a custom diverging palette\n",
    "cmap = sns.diverging_palette(250, 15, s=75, l=40, n=9, center=\"light\", as_cmap=True)\n",
    "plt.figure(figsize=(16, 12))\n",
    "sns.heatmap(matrix, mask=mask, center=0, annot=True, fmt='.2f', square=True, cmap='crest')\n",
    "\n",
    "plt.show();"
   ]
  },
  {
   "cell_type": "code",
   "execution_count": 24,
   "metadata": {},
   "outputs": [],
   "source": [
    "def create_pipeline_rf():\n",
    "    \n",
    "    numeric_transformer = Pipeline(steps=[\n",
    "        ('scaler', StandardScaler())])\n",
    "    \n",
    "\n",
    "    categorical_str_transformer = Pipeline(steps=[\n",
    "        ('one-hot', OneHotEncoder(handle_unknown='ignore'))])\n",
    "    \n",
    "\n",
    "    categorical_int_transformer = Pipeline(steps=[\n",
    "        ('one-hot', OneHotEncoder(handle_unknown='ignore'))])\n",
    "    \n",
    "\n",
    "    preprocessor = ColumnTransformer(\n",
    "                                    transformers=[\n",
    "                                                  ('num1', numeric_transformer, numerical),\n",
    "                                                  \n",
    "                                                  ('cat_str1', categorical_str_transformer, categorical_str),\n",
    "                                                  \n",
    "                                                  ('cat_int1', categorical_int_transformer, categorical_int),\n",
    "                                                  ])\n",
    "\n",
    "    pipeline = Pipeline(steps=[('preprocessor', preprocessor),\n",
    "                          ('regressor',XGBRegressor(gamma = 0.05, learning_rate= 0.1, max_depth=5,\n",
    "                                                     n_estimators= 1000, n_jobs= 8, objective= 'reg:squarederror',\n",
    "                                                     reg_alpha= 0.5, reg_lambda= 1, scale_pos_weight=1, subsample= 1.0))])\n",
    "    \n",
    "    return pipeline"
   ]
  },
  {
   "cell_type": "code",
   "execution_count": 25,
   "metadata": {},
   "outputs": [],
   "source": [
    "def rmse(predictions, targets):\n",
    "    return np.sqrt(((predictions - targets) ** 2).mean())"
   ]
  },
  {
   "cell_type": "code",
   "execution_count": 26,
   "metadata": {},
   "outputs": [
    {
     "name": "stderr",
     "output_type": "stream",
     "text": [
      "C:\\Users\\IsmailKaraman\\anaconda3\\lib\\site-packages\\sklearn\\model_selection\\_split.py:670: UserWarning: The least populated class in y has only 1 members, which is less than n_splits=5.\n",
      "  warnings.warn((\"The least populated class in y has only %d\"\n"
     ]
    },
    {
     "name": "stdout",
     "output_type": "stream",
     "text": [
      "R2 score:0.6793246646536522, RMSE:76.45134547189264\n"
     ]
    }
   ],
   "source": [
    "y = merged_train['Sipariş Edilen Miktar']\n",
    "X = merged_train[categorical_str+categorical_int+numerical]\n",
    "\n",
    "X_train, X_test, y_train, y_test = train_test_split(X, y, test_size=0.20, random_state=15)\n",
    "\n",
    "pipe1 = create_pipeline_rf()\n",
    "pipe1.fit(X_train, y_train)\n",
    "preds = pipe1.predict(X_test)\n",
    "\n",
    "cv = StratifiedKFold(n_splits=5, shuffle=True, random_state=1)\n",
    "scores = cross_validate(pipe1, X, y, scoring=('r2', 'neg_mean_squared_error'), n_jobs=-1, \n",
    "                        return_estimator=True, return_train_score=True, cv=cv)\n",
    "\n",
    "print(\"R2 score:{}, RMSE:{}\".format(np.mean(scores[\"test_r2\"]),np.mean(np.sqrt(-scores['test_neg_mean_squared_error']))))"
   ]
  },
  {
   "cell_type": "code",
   "execution_count": 29,
   "metadata": {},
   "outputs": [
    {
     "data": {
      "image/png": "[encoded data removed]",
      "text/plain": [
       "<Figure size 720x504 with 1 Axes>"
      ]
     },
     "metadata": {
      "needs_background": "light"
     },
     "output_type": "display_data"
    }
   ],
   "source": [
    "from sklearn.inspection import permutation_importance\n",
    "\n",
    "result = permutation_importance(pipe1, X_test, y_test, n_repeats=10,\n",
    "                                random_state=42, n_jobs=2)\n",
    "sorted_idx = result.importances_mean.argsort()\n",
    "\n",
    "fig, ax = plt.subplots(figsize=(10,7))\n",
    "ax.boxplot(result.importances[sorted_idx].T,\n",
    "           vert=False, labels=X_test.columns[sorted_idx])\n",
    "ax.set_title(\"Permutation Importances (test set)\")\n",
    "fig.tight_layout()\n",
    "plt.show()"
   ]
  },
  {
   "cell_type": "code",
   "execution_count": 30,
   "metadata": {},
   "outputs": [
    {
     "data": {
      "text/html": [
       "<div>\n",
       "<style scoped>\n",
       "    .dataframe tbody tr th:only-of-type {\n",
       "        vertical-align: middle;\n",
       "    }\n",
       "\n",
       "    .dataframe tbody tr th {\n",
       "        vertical-align: top;\n",
       "    }\n",
       "\n",
       "    .dataframe thead th {\n",
       "        text-align: right;\n",
       "    }\n",
       "</style>\n",
       "<table border=\"1\" class=\"dataframe\">\n",
       "  <thead>\n",
       "    <tr style=\"text-align: right;\">\n",
       "      <th></th>\n",
       "      <th>Sipariş Numarası</th>\n",
       "      <th>Sipariş Satırı</th>\n",
       "      <th>Sipariş Tipi</th>\n",
       "      <th>Malzeme Numarası</th>\n",
       "      <th>Sku Plt. Standartı</th>\n",
       "      <th>Müşteri No</th>\n",
       "      <th>Sipariş Tarihi</th>\n",
       "    </tr>\n",
       "  </thead>\n",
       "  <tbody>\n",
       "    <tr>\n",
       "      <th>0</th>\n",
       "      <td>72666244</td>\n",
       "      <td>1</td>\n",
       "      <td>Paketli Siparişler</td>\n",
       "      <td>CN05756A</td>\n",
       "      <td>36</td>\n",
       "      <td>C-10005</td>\n",
       "      <td>2021-01-03</td>\n",
       "    </tr>\n",
       "    <tr>\n",
       "      <th>1</th>\n",
       "      <td>72666256</td>\n",
       "      <td>1</td>\n",
       "      <td>Müşteri Siparişleri</td>\n",
       "      <td>TR02237A</td>\n",
       "      <td>160</td>\n",
       "      <td>C-10176</td>\n",
       "      <td>2021-01-04</td>\n",
       "    </tr>\n",
       "    <tr>\n",
       "      <th>2</th>\n",
       "      <td>72666257</td>\n",
       "      <td>1</td>\n",
       "      <td>Müşteri Siparişleri</td>\n",
       "      <td>61013510</td>\n",
       "      <td>240</td>\n",
       "      <td>C-10154</td>\n",
       "      <td>2021-01-04</td>\n",
       "    </tr>\n",
       "    <tr>\n",
       "      <th>3</th>\n",
       "      <td>72666259</td>\n",
       "      <td>1</td>\n",
       "      <td>Müşteri Siparişleri</td>\n",
       "      <td>61013508</td>\n",
       "      <td>364</td>\n",
       "      <td>C-10160</td>\n",
       "      <td>2021-01-04</td>\n",
       "    </tr>\n",
       "    <tr>\n",
       "      <th>4</th>\n",
       "      <td>72666265</td>\n",
       "      <td>1</td>\n",
       "      <td>Müşteri Siparişleri</td>\n",
       "      <td>TR02237A</td>\n",
       "      <td>160</td>\n",
       "      <td>C-10024</td>\n",
       "      <td>2021-01-04</td>\n",
       "    </tr>\n",
       "  </tbody>\n",
       "</table>\n",
       "</div>"
      ],
      "text/plain": [
       "   Sipariş Numarası  Sipariş Satırı         Sipariş Tipi Malzeme Numarası  \\\n",
       "0          72666244               1   Paketli Siparişler         CN05756A   \n",
       "1          72666256               1  Müşteri Siparişleri         TR02237A   \n",
       "2          72666257               1  Müşteri Siparişleri         61013510   \n",
       "3          72666259               1  Müşteri Siparişleri         61013508   \n",
       "4          72666265               1  Müşteri Siparişleri         TR02237A   \n",
       "\n",
       "   Sku Plt. Standartı Müşteri No Sipariş Tarihi  \n",
       "0                  36    C-10005     2021-01-03  \n",
       "1                 160    C-10176     2021-01-04  \n",
       "2                 240    C-10154     2021-01-04  \n",
       "3                 364    C-10160     2021-01-04  \n",
       "4                 160    C-10024     2021-01-04  "
      ]
     },
     "execution_count": 30,
     "metadata": {},
     "output_type": "execute_result"
    }
   ],
   "source": [
    "test.head()"
   ]
  },
  {
   "cell_type": "code",
   "execution_count": 31,
   "metadata": {},
   "outputs": [],
   "source": [
    "test['order_weekday'] =  pd.to_datetime(test['Sipariş Tarihi']).dt.weekday\n",
    "test['order_month'] = pd.to_datetime(test['Sipariş Tarihi']).dt.month\n",
    "test['order_day'] = pd.to_datetime(test['Sipariş Tarihi']).dt.day"
   ]
  },
  {
   "cell_type": "code",
   "execution_count": 32,
   "metadata": {},
   "outputs": [],
   "source": [
    "order_returns = pd.DataFrame(test.groupby(['Sipariş Numarası'])['Sipariş Satırı'].count()).reset_index()\n",
    "order_returns.columns = ['Sipariş Numarası', 'Sipariş Satır Sayısı']\n",
    "test = pd.merge(test, order_returns, on=['Sipariş Numarası'], how='left')"
   ]
  },
  {
   "cell_type": "code",
   "execution_count": 33,
   "metadata": {},
   "outputs": [],
   "source": [
    "sip_df = test.groupby(['Müşteri No','Sipariş Numarası'])['Sipariş Satır Sayısı'].max().reset_index()\n",
    "sip_df['Geçmiş Sipariş Satır Sayısı'] = sip_df.groupby(['Müşteri No'])['Sipariş Satır Sayısı'].shift(1)\n",
    "sip_df.drop(columns=[\"Sipariş Satır Sayısı\"],inplace=True)"
   ]
  },
  {
   "cell_type": "code",
   "execution_count": 34,
   "metadata": {},
   "outputs": [],
   "source": [
    "test = pd.merge(test, sip_df, on=['Müşteri No','Sipariş Numarası'], how='left')"
   ]
  },
  {
   "cell_type": "code",
   "execution_count": 35,
   "metadata": {},
   "outputs": [],
   "source": [
    "merged_test = test[categorical_str+categorical_int+numerical]"
   ]
  },
  {
   "cell_type": "code",
   "execution_count": 36,
   "metadata": {},
   "outputs": [],
   "source": [
    "preds = pipe1.predict(merged_test)"
   ]
  },
  {
   "cell_type": "code",
   "execution_count": 109,
   "metadata": {},
   "outputs": [],
   "source": [
    "test = pd.read_csv(\"test_set.csv\", parse_dates=['Sipariş Tarihi'])"
   ]
  },
  {
   "cell_type": "code",
   "execution_count": 110,
   "metadata": {},
   "outputs": [],
   "source": [
    "test['preds'] = preds"
   ]
  },
  {
   "cell_type": "code",
   "execution_count": 111,
   "metadata": {},
   "outputs": [
    {
     "data": {
      "text/html": [
       "<div>\n",
       "<style scoped>\n",
       "    .dataframe tbody tr th:only-of-type {\n",
       "        vertical-align: middle;\n",
       "    }\n",
       "\n",
       "    .dataframe tbody tr th {\n",
       "        vertical-align: top;\n",
       "    }\n",
       "\n",
       "    .dataframe thead th {\n",
       "        text-align: right;\n",
       "    }\n",
       "</style>\n",
       "<table border=\"1\" class=\"dataframe\">\n",
       "  <thead>\n",
       "    <tr style=\"text-align: right;\">\n",
       "      <th></th>\n",
       "      <th>Sipariş Numarası</th>\n",
       "      <th>Sipariş Satırı</th>\n",
       "      <th>Sipariş Tipi</th>\n",
       "      <th>Malzeme Numarası</th>\n",
       "      <th>Sku Plt. Standartı</th>\n",
       "      <th>Müşteri No</th>\n",
       "      <th>Sipariş Tarihi</th>\n",
       "      <th>preds</th>\n",
       "    </tr>\n",
       "  </thead>\n",
       "  <tbody>\n",
       "    <tr>\n",
       "      <th>0</th>\n",
       "      <td>72666244</td>\n",
       "      <td>1</td>\n",
       "      <td>Paketli Siparişler</td>\n",
       "      <td>CN05756A</td>\n",
       "      <td>36</td>\n",
       "      <td>C-10005</td>\n",
       "      <td>2021-01-03</td>\n",
       "      <td>385.970093</td>\n",
       "    </tr>\n",
       "    <tr>\n",
       "      <th>1</th>\n",
       "      <td>72666256</td>\n",
       "      <td>1</td>\n",
       "      <td>Müşteri Siparişleri</td>\n",
       "      <td>TR02237A</td>\n",
       "      <td>160</td>\n",
       "      <td>C-10176</td>\n",
       "      <td>2021-01-04</td>\n",
       "      <td>49.800400</td>\n",
       "    </tr>\n",
       "    <tr>\n",
       "      <th>2</th>\n",
       "      <td>72666257</td>\n",
       "      <td>1</td>\n",
       "      <td>Müşteri Siparişleri</td>\n",
       "      <td>61013510</td>\n",
       "      <td>240</td>\n",
       "      <td>C-10154</td>\n",
       "      <td>2021-01-04</td>\n",
       "      <td>35.986172</td>\n",
       "    </tr>\n",
       "    <tr>\n",
       "      <th>3</th>\n",
       "      <td>72666259</td>\n",
       "      <td>1</td>\n",
       "      <td>Müşteri Siparişleri</td>\n",
       "      <td>61013508</td>\n",
       "      <td>364</td>\n",
       "      <td>C-10160</td>\n",
       "      <td>2021-01-04</td>\n",
       "      <td>69.607155</td>\n",
       "    </tr>\n",
       "    <tr>\n",
       "      <th>4</th>\n",
       "      <td>72666265</td>\n",
       "      <td>1</td>\n",
       "      <td>Müşteri Siparişleri</td>\n",
       "      <td>TR02237A</td>\n",
       "      <td>160</td>\n",
       "      <td>C-10024</td>\n",
       "      <td>2021-01-04</td>\n",
       "      <td>39.658070</td>\n",
       "    </tr>\n",
       "    <tr>\n",
       "      <th>...</th>\n",
       "      <td>...</td>\n",
       "      <td>...</td>\n",
       "      <td>...</td>\n",
       "      <td>...</td>\n",
       "      <td>...</td>\n",
       "      <td>...</td>\n",
       "      <td>...</td>\n",
       "      <td>...</td>\n",
       "    </tr>\n",
       "    <tr>\n",
       "      <th>46931</th>\n",
       "      <td>72674481</td>\n",
       "      <td>12</td>\n",
       "      <td>Müşteri Siparişleri</td>\n",
       "      <td>FCN01816</td>\n",
       "      <td>280</td>\n",
       "      <td>C-10028</td>\n",
       "      <td>2021-02-27</td>\n",
       "      <td>3.750903</td>\n",
       "    </tr>\n",
       "    <tr>\n",
       "      <th>46932</th>\n",
       "      <td>72674483</td>\n",
       "      <td>11</td>\n",
       "      <td>Müşteri Siparişleri</td>\n",
       "      <td>PL07963A</td>\n",
       "      <td>300</td>\n",
       "      <td>C-10012</td>\n",
       "      <td>2021-02-27</td>\n",
       "      <td>1.219391</td>\n",
       "    </tr>\n",
       "    <tr>\n",
       "      <th>46933</th>\n",
       "      <td>72674483</td>\n",
       "      <td>23</td>\n",
       "      <td>Müşteri Siparişleri</td>\n",
       "      <td>61003831</td>\n",
       "      <td>60</td>\n",
       "      <td>C-10012</td>\n",
       "      <td>2021-02-27</td>\n",
       "      <td>0.940352</td>\n",
       "    </tr>\n",
       "    <tr>\n",
       "      <th>46934</th>\n",
       "      <td>72674488</td>\n",
       "      <td>12</td>\n",
       "      <td>Müşteri Siparişleri</td>\n",
       "      <td>61003464</td>\n",
       "      <td>144</td>\n",
       "      <td>C-10001</td>\n",
       "      <td>2021-02-27</td>\n",
       "      <td>2.455906</td>\n",
       "    </tr>\n",
       "    <tr>\n",
       "      <th>46935</th>\n",
       "      <td>72674488</td>\n",
       "      <td>13</td>\n",
       "      <td>Müşteri Siparişleri</td>\n",
       "      <td>61003474</td>\n",
       "      <td>144</td>\n",
       "      <td>C-10001</td>\n",
       "      <td>2021-02-27</td>\n",
       "      <td>4.261790</td>\n",
       "    </tr>\n",
       "  </tbody>\n",
       "</table>\n",
       "<p>46936 rows × 8 columns</p>\n",
       "</div>"
      ],
      "text/plain": [
       "       Sipariş Numarası  Sipariş Satırı         Sipariş Tipi Malzeme Numarası  \\\n",
       "0              72666244               1   Paketli Siparişler         CN05756A   \n",
       "1              72666256               1  Müşteri Siparişleri         TR02237A   \n",
       "2              72666257               1  Müşteri Siparişleri         61013510   \n",
       "3              72666259               1  Müşteri Siparişleri         61013508   \n",
       "4              72666265               1  Müşteri Siparişleri         TR02237A   \n",
       "...                 ...             ...                  ...              ...   \n",
       "46931          72674481              12  Müşteri Siparişleri         FCN01816   \n",
       "46932          72674483              11  Müşteri Siparişleri         PL07963A   \n",
       "46933          72674483              23  Müşteri Siparişleri         61003831   \n",
       "46934          72674488              12  Müşteri Siparişleri         61003464   \n",
       "46935          72674488              13  Müşteri Siparişleri         61003474   \n",
       "\n",
       "       Sku Plt. Standartı Müşteri No Sipariş Tarihi       preds  \n",
       "0                      36    C-10005     2021-01-03  385.970093  \n",
       "1                     160    C-10176     2021-01-04   49.800400  \n",
       "2                     240    C-10154     2021-01-04   35.986172  \n",
       "3                     364    C-10160     2021-01-04   69.607155  \n",
       "4                     160    C-10024     2021-01-04   39.658070  \n",
       "...                   ...        ...            ...         ...  \n",
       "46931                 280    C-10028     2021-02-27    3.750903  \n",
       "46932                 300    C-10012     2021-02-27    1.219391  \n",
       "46933                  60    C-10012     2021-02-27    0.940352  \n",
       "46934                 144    C-10001     2021-02-27    2.455906  \n",
       "46935                 144    C-10001     2021-02-27    4.261790  \n",
       "\n",
       "[46936 rows x 8 columns]"
      ]
     },
     "execution_count": 111,
     "metadata": {},
     "output_type": "execute_result"
    }
   ],
   "source": [
    "test"
   ]
  },
  {
   "cell_type": "code",
   "execution_count": 112,
   "metadata": {},
   "outputs": [],
   "source": [
    "sub = pd.read_csv(\"submission.csv\")"
   ]
  },
  {
   "cell_type": "code",
   "execution_count": 114,
   "metadata": {},
   "outputs": [
    {
     "name": "stderr",
     "output_type": "stream",
     "text": [
      "<ipython-input-114-e4a742b9104a>:1: FutureWarning: Series.dt.weekofyear and Series.dt.week have been deprecated.  Please use Series.dt.isocalendar().week instead.\n",
      "  test['yılhafta'] = test['Sipariş Tarihi'].dt.year.astype(str) + '0' + (test['Sipariş Tarihi'].dt.week + 1).astype(str)\n"
     ]
    }
   ],
   "source": [
    "test['yılhafta'] = test['Sipariş Tarihi'].dt.year.astype(str) + '0' + (test['Sipariş Tarihi'].dt.week + 1).astype(str)\n",
    "test.loc[0, 'yılhafta'] = '202101'\n",
    "final_preds['yılhafta'] = final_preds['yılhafta'].replace('2021054', '202101')"
   ]
  },
  {
   "cell_type": "code",
   "execution_count": 115,
   "metadata": {},
   "outputs": [],
   "source": [
    "final_preds = test.groupby(['yılhafta', 'Malzeme Numarası', 'Müşteri No'])['preds'].sum().reset_index()"
   ]
  },
  {
   "cell_type": "code",
   "execution_count": 123,
   "metadata": {},
   "outputs": [],
   "source": [
    "final_preds.columns = ['yılhafta', 'Malzeme Numarası', 'Müşteri', 'Sipariş Edilen Miktar']"
   ]
  },
  {
   "cell_type": "code",
   "execution_count": 128,
   "metadata": {},
   "outputs": [],
   "source": [
    "final_preds['Sipariş Edilen Miktar'] = final_preds['Sipariş Edilen Miktar'].astype('float64')\n",
    "final_preds['yılhafta'] = final_preds['yılhafta'].astype('int64')"
   ]
  },
  {
   "cell_type": "code",
   "execution_count": 131,
   "metadata": {},
   "outputs": [],
   "source": [
    "sub = pd.merge(sub.drop(['Sipariş Edilen Miktar'], axis=1), final_preds, \n",
    "               on=['yılhafta', 'Malzeme Numarası','Müşteri'], how='left')"
   ]
  },
  {
   "cell_type": "code",
   "execution_count": 133,
   "metadata": {},
   "outputs": [],
   "source": [
    "sub.to_csv('submission.csv')"
   ]
  },
  {
   "cell_type": "code",
   "execution_count": null,
   "metadata": {},
   "outputs": [],
   "source": []
  },
  {
   "cell_type": "code",
   "execution_count": null,
   "metadata": {},
   "outputs": [],
   "source": [
    "import phik\n",
    "phik_overview = merged_train.phik_matrix()\n",
    "\n",
    "matrix = phik_overview.abs()\n",
    "\n",
    "# Create a mask\n",
    "mask = np.triu(np.ones_like(matrix, dtype=bool))\n",
    "\n",
    "# Create a custom diverging palette\n",
    "cmap = sns.diverging_palette(250, 15, s=75, l=40, n=9, center=\"light\", as_cmap=True)\n",
    "plt.figure(figsize=(18, 12))\n",
    "sns.heatmap(matrix[matrix>0.5], mask=mask, center=0, annot=True, fmt='.2f', square=True, cmap='Dark2_r')\n",
    "\n",
    "plt.show();"
   ]
  },
  {
   "cell_type": "code",
   "execution_count": null,
   "metadata": {},
   "outputs": [],
   "source": [
    "sampled_data = merged_train.sample(n=50000, random_state=1)"
   ]
  },
  {
   "cell_type": "code",
   "execution_count": null,
   "metadata": {},
   "outputs": [],
   "source": [
    "sampled_data"
   ]
  },
  {
   "cell_type": "code",
   "execution_count": null,
   "metadata": {},
   "outputs": [],
   "source": [
    "def create_pipeline(reg_name, reg_object):\n",
    "    \n",
    "    numeric_transformer = Pipeline(steps=[\n",
    "        ('scaler', StandardScaler())])\n",
    "    \n",
    "\n",
    "    categorical_str_transformer = Pipeline(steps=[\n",
    "        ('one-hot', OneHotEncoder(handle_unknown='ignore'))])\n",
    "    \n",
    "\n",
    "    categorical_int_transformer = Pipeline(steps=[\n",
    "        ('one-hot', OneHotEncoder(handle_unknown='ignore'))])\n",
    "    \n",
    "\n",
    "    preprocessor = ColumnTransformer(\n",
    "                                    transformers=[\n",
    "                                                  ('num1', numeric_transformer, numerical),\n",
    "                                                  \n",
    "                                                  ('cat_str1', categorical_str_transformer, categorical_str),\n",
    "                                                  \n",
    "                                                  ('cat_int1', categorical_int_transformer, categorical_int),\n",
    "                                                  ])\n",
    "\n",
    "    pipeline = Pipeline(steps=[('preprocessor', preprocessor),\n",
    "                          (reg_name, reg_object)])\n",
    "    \n",
    "    return pipeline"
   ]
  },
  {
   "cell_type": "code",
   "execution_count": null,
   "metadata": {},
   "outputs": [],
   "source": [
    "regressors = {\n",
    "    \"XGBRegressor\": XGBRegressor(),\n",
    "    \"RandomForestRegressor\": RandomForestRegressor(),\n",
    "    \"DecisionTreeRegressor\": DecisionTreeRegressor(),\n",
    "    \"SVR\": SVR(),\n",
    "    \"LinearSVR\": LinearSVR(),\n",
    "    \"LinearRegression\": LinearRegression(),\n",
    "    \"Ridge\":Ridge()\n",
    "}"
   ]
  },
  {
   "cell_type": "code",
   "execution_count": null,
   "metadata": {},
   "outputs": [],
   "source": [
    "df_models = pd.DataFrame(columns=['model', 'run_time', 'rmse', 'rmse_cv'])\n",
    "y = sampled_data['Sipariş Edilen Miktar']\n",
    "X = sampled_data[categorical_str+categorical_int+numerical]\n",
    "X_train, X_test, y_train, y_test = train_test_split(X, y, test_size=0.20, random_state=1)\n",
    "for value, key in regressors.items():\n",
    "\n",
    "    print('*',value, key)\n",
    "\n",
    "    start_time = time.time()\n",
    "    \n",
    "    \n",
    "    pipe2 = create_pipeline(value,key)\n",
    "    pipe2.fit(X_train, y_train)\n",
    "    y_pred = pipe2.predict(X_test)\n",
    "    \n",
    "    cv = StratifiedKFold(n_splits=5, shuffle=True, random_state=1)\n",
    "    scores = cross_validate(pipe2, X, y, scoring=('r2', 'neg_mean_squared_error'), n_jobs=-1, \n",
    "                        return_estimator=True, return_train_score=True, cv=cv)\n",
    "    \"\"\"scores = cross_val_score(pipe2, \n",
    "                             X_train, \n",
    "                             y_train,\n",
    "                             scoring=\"neg_root_mean_squared_error\", \n",
    "                             cv=5)\"\"\"\n",
    "\n",
    " \n",
    "\n",
    "    row = {'model': key,\n",
    "           'run_time': format(scores['fit_time']),\n",
    "           'train_r2': scores['train_r2'],\n",
    "           'test_r2': scores['test_r2'],\n",
    "           'rmse': scores['test_neg_mean_squared_error'],\n",
    "           'rmse_cv': np.mean(np.sqrt(-scores['test_neg_mean_squared_error']))\n",
    "    }\n",
    "\n",
    "    df_models = df_models.append(row, ignore_index=True)"
   ]
  },
  {
   "cell_type": "code",
   "execution_count": null,
   "metadata": {},
   "outputs": [],
   "source": [
    "df_models.head(20).sort_values(by='rmse_cv', ascending=True)"
   ]
  },
  {
   "cell_type": "markdown",
   "metadata": {},
   "source": [
    "#### Hyperparameter Tuning for XGBRegressor"
   ]
  },
  {
   "cell_type": "code",
   "execution_count": null,
   "metadata": {
    "scrolled": false
   },
   "outputs": [],
   "source": [
    "pipe1[1].get_params()"
   ]
  },
  {
   "cell_type": "code",
   "execution_count": null,
   "metadata": {},
   "outputs": [],
   "source": [
    "param_grid = dict(\n",
    "    n_jobs=[8],\n",
    "    learning_rate=[0.1, 0.5],\n",
    "    objective=['reg:squarederror'],\n",
    "    max_depth=[5, 10, 15], \n",
    "    n_estimators=[100, 500, 1000],\n",
    "    subsample=[0.2, 0.8, 1.0],\n",
    "    gamma=[0.05, 0.5],\n",
    "    scale_pos_weight=[0, 1],\n",
    "    reg_alpha=[0, 0.5],\n",
    "    reg_lambda=[1, 0],\n",
    ")"
   ]
  },
  {
   "cell_type": "code",
   "execution_count": null,
   "metadata": {},
   "outputs": [],
   "source": [
    "def prepare_param_grid(params):\n",
    "    \n",
    "    param_grid = {}\n",
    "    for key, value in params.items():\n",
    "        new_key = 'regressor__' + key \n",
    "        param_grid[new_key] = value\n",
    "    return param_grid"
   ]
  },
  {
   "cell_type": "code",
   "execution_count": null,
   "metadata": {},
   "outputs": [],
   "source": [
    "from sklearn.experimental import enable_halving_search_cv\n",
    "from sklearn.model_selection import HalvingGridSearchCV\n",
    "halving_grid_search = HalvingGridSearchCV(estimator=pipe1,\n",
    "                           param_grid=prepare_param_grid(param_grid),\n",
    "                           scoring='neg_root_mean_squared_error', n_jobs=-1\n",
    "                           )\n",
    "\n",
    "best_model = halving_grid_search.fit(X_train, y_train)\n",
    "print('Optimum parameters', best_model.best_params_)"
   ]
  },
  {
   "cell_type": "markdown",
   "metadata": {},
   "source": [
    "## Test"
   ]
  },
  {
   "cell_type": "code",
   "execution_count": null,
   "metadata": {},
   "outputs": [],
   "source": [
    "test['order_weekday'] =  pd.to_datetime(test['Sipariş Tarihi']).dt.weekday\n",
    "test['order_month'] = pd.to_datetime(test['Sipariş Tarihi']).dt.month\n",
    "test['order_day'] = pd.to_datetime(test['Sipariş Tarihi']).dt.day"
   ]
  },
  {
   "cell_type": "code",
   "execution_count": null,
   "metadata": {},
   "outputs": [],
   "source": [
    "test['Sipariş Satırı'] = test['Sipariş Satırı'].replace(9999, np.nan)\n",
    "test.dropna(inplace=True)"
   ]
  },
  {
   "cell_type": "code",
   "execution_count": null,
   "metadata": {},
   "outputs": [],
   "source": [
    "order_returns = pd.DataFrame(test.groupby(['Sipariş Numarası'])['Sipariş Satırı'].max()).reset_index()\n",
    "test = pd.merge(test, order_returns, on=['Sipariş Numarası'], how='left')\n",
    "test = test.rename(columns={'Sipariş Satırı_y': 'Sipariş Toplamı','Sipariş Satırı_x':'Sipariş Satırı'})"
   ]
  },
  {
   "cell_type": "code",
   "execution_count": null,
   "metadata": {},
   "outputs": [],
   "source": [
    "sip_df = test[['Müşteri No','Sipariş Numarası','Sipariş Toplamı']].copy()\n",
    "sip_df['tail'] = sip_df.groupby(['Müşteri No','Sipariş Numarası'])['Sipariş Toplamı'].tail(1)\n",
    "sip_df['shifted_sipariş_toplamı'] = sip_df.groupby(['Müşteri No'])['tail'].shift(1)\n",
    "sip_df['shifted_sipariş_toplamı'].fillna(0.0)"
   ]
  },
  {
   "cell_type": "code",
   "execution_count": null,
   "metadata": {},
   "outputs": [],
   "source": [
    "sip_df.drop(columns=[\"Sipariş Toplamı\",\"tail\"],inplace=True)\n",
    "sip_df.dropna(subset=[\"shifted_sipariş_toplamı\"],inplace=True)"
   ]
  },
  {
   "cell_type": "code",
   "execution_count": null,
   "metadata": {},
   "outputs": [],
   "source": [
    "test = pd.merge(test, sip_df, on=['Müşteri No','Sipariş Numarası'], how='left')\n",
    "test.dropna(subset=[\"shifted_sipariş_toplamı\"],inplace=True)"
   ]
  },
  {
   "cell_type": "code",
   "execution_count": null,
   "metadata": {},
   "outputs": [],
   "source": [
    "merged_test = test[categorical_str+categorical_int+numerical]"
   ]
  },
  {
   "cell_type": "code",
   "execution_count": null,
   "metadata": {},
   "outputs": [],
   "source": [
    "def create_pipeline_test():\n",
    "    \n",
    "    numeric_transformer = Pipeline(steps=[\n",
    "        ('scaler', StandardScaler())])\n",
    "    \n",
    "\n",
    "    categorical_str_transformer = Pipeline(steps=[\n",
    "        ('one-hot', OneHotEncoder(handle_unknown='ignore'))])\n",
    "    \n",
    "\n",
    "    categorical_int_transformer = Pipeline(steps=[\n",
    "        ('one-hot', OneHotEncoder(handle_unknown='ignore'))])\n",
    "    \n",
    "\n",
    "    preprocessor = ColumnTransformer(\n",
    "                                    transformers=[\n",
    "                                                  ('num1', numeric_transformer, numerical),\n",
    "                                                  \n",
    "                                                  ('cat_str1', categorical_str_transformer, categorical_str),\n",
    "                                                  \n",
    "                                                  ('cat_int1', categorical_int_transformer, categorical_int),\n",
    "                                                  ])\n",
    "\n",
    "    pipeline = Pipeline(steps=[('preprocessor', preprocessor),\n",
    "                          ('regressor',XGBRegressor(gamma = 0.05, learning_rate= 0.1, max_depth=5,\n",
    "                                                     n_estimators= 1000, n_jobs= 8, objective= 'reg:squarederror',\n",
    "                                                     reg_alpha= 0.5, reg_lambda= 1, scale_pos_weight=1, subsample= 1.0))])\n",
    "    \n",
    "    return pipeline"
   ]
  },
  {
   "cell_type": "code",
   "execution_count": null,
   "metadata": {},
   "outputs": [],
   "source": [
    "y = merged_train['Sipariş Edilen Miktar']\n",
    "X = merged_train[categorical_str+categorical_int+numerical]\n",
    "\n",
    "pipe1 = create_pipeline_test()\n",
    "pipe1.fit(X, y)\n",
    "preds = pipe1.predict(merged_test)\n",
    "\n",
    "print(preds)"
   ]
  },
  {
   "cell_type": "code",
   "execution_count": null,
   "metadata": {},
   "outputs": [],
   "source": [
    "pd.DataFrame(preds)"
   ]
  }
 ],
 "metadata": {
  "kernelspec": {
   "display_name": "Python 3",
   "language": "python",
   "name": "python3"
  },
  "language_info": {
   "codemirror_mode": {
    "name": "ipython",
    "version": 3
   },
   "file_extension": ".py",
   "mimetype": "text/x-python",
   "name": "python",
   "nbconvert_exporter": "python",
   "pygments_lexer": "ipython3",
   "version": "3.8.3"
  }
 },
 "nbformat": 4,
 "nbformat_minor": 5
}
