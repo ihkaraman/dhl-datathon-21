{
 "cells": [
  {
   "cell_type": "markdown",
   "metadata": {},
   "source": [
    "roadmap\n",
    "\n",
    "- ürün segmentasyonu\n",
    "    - abc analysis    \n",
    "    - pareto diagram\n",
    "    - volume forecasting\n",
    "    - sevkiyat sürelerinden bir şey çıkabilir mi?\n",
    "        - malzeme bazlı ortalama sevkiyat süresi\n",
    "        - müşteri bazlı ortalama sevkiyat süreisi\n",
    "\n",
    "- hacim tahminleme\n",
    "    - rnn\n",
    "    - lstm\n",
    "    - ek veriler:\n",
    "        dolar kuru\n",
    "        enflasyon\n",
    "    \n",
    "- toplama algoritması geliştirilmesi\n",
    "    - minimize number of waves in each day\n",
    "    - calculate time available for picking\n",
    "    - kısıtlara bak\n",
    "    - toplama algoritması öner"
   ]
  },
  {
   "cell_type": "markdown",
   "metadata": {},
   "source": [
    "## notes from mentors\n",
    "\n",
    "- Merhaba,  sipariş edilen miktar ve toplanan miktar arasında bazen fark olabilir, sipariş verildikten sonra revize gelmiş olabilir.  sipariş edilen ve gerçekleşen verilerin arasındaki sapma oranını da parametrik olarak dahil edebilirsiniz ya da tamamen ignore edebilirsiniz,"
   ]
  },
  {
   "cell_type": "code",
   "execution_count": 1,
   "metadata": {},
   "outputs": [],
   "source": [
    "import pandas as pd\n",
    "import numpy as np\n",
    "import matplotlib.pyplot as plt"
   ]
  },
  {
   "cell_type": "code",
   "execution_count": 2,
   "metadata": {},
   "outputs": [
    {
     "name": "stderr",
     "output_type": "stream",
     "text": [
      "C:\\Users\\IsmailKaraman\\anaconda3\\lib\\site-packages\\IPython\\core\\interactiveshell.py:3155: DtypeWarning: Columns (0,3) have mixed types.Specify dtype option on import or set low_memory=False.\n",
      "  has_raised = await self.run_ast_nodes(code_ast.body, cell_name,\n",
      "C:\\Users\\IsmailKaraman\\anaconda3\\lib\\site-packages\\IPython\\core\\interactiveshell.py:3155: DtypeWarning: Columns (1,7,8) have mixed types.Specify dtype option on import or set low_memory=False.\n",
      "  has_raised = await self.run_ast_nodes(code_ast.body, cell_name,\n"
     ]
    }
   ],
   "source": [
    "order_df = pd.read_csv('datathon_order.csv', parse_dates=['Sipariş Tarihi'])\n",
    "picking_df = pd.read_csv('datathon_picking.csv', index_col='Unnamed: 0', parse_dates=['Toplama Tarihi'])"
   ]
  },
  {
   "cell_type": "code",
   "execution_count": 3,
   "metadata": {},
   "outputs": [],
   "source": [
    "order_df.columns = ['order_num', 'order_item', 'order_type', 'material_num', 'order_amount', \n",
    "                    'palette_std', 'customer_num', 'order_date', 'operation_type']"
   ]
  },
  {
   "cell_type": "code",
   "execution_count": 4,
   "metadata": {},
   "outputs": [],
   "source": [
    "picking_df.columns = ['order_num', 'order_type', 'material_num', 'picked_amount', 'picking_date', \n",
    "                      'picking_hour', 'order_receive_date', 'shipping_date', 'customer_num', 'operation_type']"
   ]
  },
  {
   "cell_type": "code",
   "execution_count": 5,
   "metadata": {},
   "outputs": [],
   "source": [
    "def convert_string_to_date(str_date):\n",
    "    \n",
    "    str_date = str(str_date)\n",
    "    str_date = str_date.replace('/','')\n",
    "    str_date = str_date.replace('.','')\n",
    "    \n",
    "    len_date = len(str_date)\n",
    "    \n",
    "    if len_date>7:\n",
    "        return pd.Timestamp(int(str_date[4:]), int(str_date[2:4]), int(str_date[:2]))   \n",
    "    elif len_date==7:\n",
    "        return pd.Timestamp(int(str_date[3:]), int(str_date[1:3]), int(str_date[:1]))   \n",
    "    elif len_date==6:\n",
    "        return pd.Timestamp(int(str_date[2:]), int(str_date[1:2]), int(str_date[:1]))   "
   ]
  },
  {
   "cell_type": "code",
   "execution_count": 6,
   "metadata": {},
   "outputs": [
    {
     "data": {
      "text/plain": [
       "Index(['order_num', 'order_type', 'material_num', 'picked_amount',\n",
       "       'picking_date', 'picking_hour', 'order_receive_date', 'shipping_date',\n",
       "       'customer_num', 'operation_type'],\n",
       "      dtype='object')"
      ]
     },
     "execution_count": 6,
     "metadata": {},
     "output_type": "execute_result"
    }
   ],
   "source": [
    "picking_df.columns"
   ]
  },
  {
   "cell_type": "code",
   "execution_count": 7,
   "metadata": {},
   "outputs": [],
   "source": [
    "picking_df['picking_date'] = picking_df['picking_date'].apply(convert_string_to_date)\n",
    "picking_df['order_receive_date'] = picking_df['order_receive_date'].apply(convert_string_to_date)\n",
    "picking_df['shipping_date'] = picking_df['shipping_date'].apply(convert_string_to_date)\n",
    "picking_df['picking_hour'] = pd.to_datetime(picking_df['picking_hour'])"
   ]
  },
  {
   "cell_type": "code",
   "execution_count": 8,
   "metadata": {},
   "outputs": [],
   "source": [
    "order_df['order_item'] = order_df['order_item'].fillna(0)"
   ]
  },
  {
   "cell_type": "code",
   "execution_count": 9,
   "metadata": {},
   "outputs": [],
   "source": [
    "order_df['order_num'] = order_df['order_num'].astype('str')\n",
    "order_df['order_item'] = order_df['order_item'].astype('int16')\n",
    "order_df['material_num'] = order_df['material_num'].astype('str')\n",
    "order_df['order_amount'] = order_df['order_amount'].astype('int32')\n",
    "\n",
    "# order_df['order_type'] = order_df['order_type'].astype('category')\n",
    "# order_df['palette_std'] = order_df['palette_std'].astype('category')\n",
    "# order_df['customer_num'] = order_df['customer_num'].astype('category')\n",
    "# order_df['operation_type'] = order_df['operation_type'].astype('category')"
   ]
  },
  {
   "cell_type": "code",
   "execution_count": 25,
   "metadata": {},
   "outputs": [
    {
     "data": {
      "text/html": [
       "<div>\n",
       "<style scoped>\n",
       "    .dataframe tbody tr th:only-of-type {\n",
       "        vertical-align: middle;\n",
       "    }\n",
       "\n",
       "    .dataframe tbody tr th {\n",
       "        vertical-align: top;\n",
       "    }\n",
       "\n",
       "    .dataframe thead th {\n",
       "        text-align: right;\n",
       "    }\n",
       "</style>\n",
       "<table border=\"1\" class=\"dataframe\">\n",
       "  <thead>\n",
       "    <tr style=\"text-align: right;\">\n",
       "      <th></th>\n",
       "      <th>order_num</th>\n",
       "      <th>material_num</th>\n",
       "      <th>order_item</th>\n",
       "      <th>order_type</th>\n",
       "      <th>order_amount</th>\n",
       "      <th>palette_std</th>\n",
       "      <th>customer_num</th>\n",
       "      <th>order_date</th>\n",
       "      <th>operation_type</th>\n",
       "    </tr>\n",
       "  </thead>\n",
       "  <tbody>\n",
       "    <tr>\n",
       "      <th>0</th>\n",
       "      <td>1161248270</td>\n",
       "      <td>4016984</td>\n",
       "      <td>1</td>\n",
       "      <td>NaN</td>\n",
       "      <td>24</td>\n",
       "      <td>210.0</td>\n",
       "      <td>M10354</td>\n",
       "      <td>2020-02-05</td>\n",
       "      <td>O2</td>\n",
       "    </tr>\n",
       "    <tr>\n",
       "      <th>1</th>\n",
       "      <td>1161248270</td>\n",
       "      <td>91704</td>\n",
       "      <td>1</td>\n",
       "      <td>NaN</td>\n",
       "      <td>2</td>\n",
       "      <td>80.0</td>\n",
       "      <td>M10354</td>\n",
       "      <td>2020-02-05</td>\n",
       "      <td>O2</td>\n",
       "    </tr>\n",
       "    <tr>\n",
       "      <th>2</th>\n",
       "      <td>4507790922</td>\n",
       "      <td>4027905</td>\n",
       "      <td>1</td>\n",
       "      <td>NaN</td>\n",
       "      <td>40</td>\n",
       "      <td>210.0</td>\n",
       "      <td>M10140</td>\n",
       "      <td>2020-08-25</td>\n",
       "      <td>O2</td>\n",
       "    </tr>\n",
       "    <tr>\n",
       "      <th>3</th>\n",
       "      <td>4507790922</td>\n",
       "      <td>4054097</td>\n",
       "      <td>1</td>\n",
       "      <td>NaN</td>\n",
       "      <td>3</td>\n",
       "      <td>48.0</td>\n",
       "      <td>M10140</td>\n",
       "      <td>2020-08-25</td>\n",
       "      <td>O2</td>\n",
       "    </tr>\n",
       "    <tr>\n",
       "      <th>4</th>\n",
       "      <td>4507790922</td>\n",
       "      <td>4055166</td>\n",
       "      <td>1</td>\n",
       "      <td>NaN</td>\n",
       "      <td>5</td>\n",
       "      <td>78.0</td>\n",
       "      <td>M10140</td>\n",
       "      <td>2020-08-25</td>\n",
       "      <td>O2</td>\n",
       "    </tr>\n",
       "  </tbody>\n",
       "</table>\n",
       "</div>"
      ],
      "text/plain": [
       "    order_num material_num  order_item  order_type  order_amount  palette_std  \\\n",
       "0  1161248270      4016984           1         NaN            24        210.0   \n",
       "1  1161248270        91704           1         NaN             2         80.0   \n",
       "2  4507790922      4027905           1         NaN            40        210.0   \n",
       "3  4507790922      4054097           1         NaN             3         48.0   \n",
       "4  4507790922      4055166           1         NaN             5         78.0   \n",
       "\n",
       "  customer_num order_date operation_type  \n",
       "0       M10354 2020-02-05             O2  \n",
       "1       M10354 2020-02-05             O2  \n",
       "2       M10140 2020-08-25             O2  \n",
       "3       M10140 2020-08-25             O2  \n",
       "4       M10140 2020-08-25             O2  "
      ]
     },
     "execution_count": 25,
     "metadata": {},
     "output_type": "execute_result"
    }
   ],
   "source": [
    "order_df.head()"
   ]
  },
  {
   "cell_type": "code",
   "execution_count": 10,
   "metadata": {},
   "outputs": [
    {
     "data": {
      "text/html": [
       "<div>\n",
       "<style scoped>\n",
       "    .dataframe tbody tr th:only-of-type {\n",
       "        vertical-align: middle;\n",
       "    }\n",
       "\n",
       "    .dataframe tbody tr th {\n",
       "        vertical-align: top;\n",
       "    }\n",
       "\n",
       "    .dataframe thead th {\n",
       "        text-align: right;\n",
       "    }\n",
       "</style>\n",
       "<table border=\"1\" class=\"dataframe\">\n",
       "  <thead>\n",
       "    <tr style=\"text-align: right;\">\n",
       "      <th></th>\n",
       "      <th>order_num</th>\n",
       "      <th>order_type</th>\n",
       "      <th>material_num</th>\n",
       "      <th>picked_amount</th>\n",
       "      <th>picking_date</th>\n",
       "      <th>picking_hour</th>\n",
       "      <th>order_receive_date</th>\n",
       "      <th>shipping_date</th>\n",
       "      <th>customer_num</th>\n",
       "      <th>operation_type</th>\n",
       "    </tr>\n",
       "  </thead>\n",
       "  <tbody>\n",
       "    <tr>\n",
       "      <th>0</th>\n",
       "      <td>72616784</td>\n",
       "      <td>10.0</td>\n",
       "      <td>61000058</td>\n",
       "      <td>45</td>\n",
       "      <td>2019-12-28</td>\n",
       "      <td>2021-11-23 11:10:00</td>\n",
       "      <td>2019-12-26</td>\n",
       "      <td>2020-01-02</td>\n",
       "      <td>C10005</td>\n",
       "      <td>O1</td>\n",
       "    </tr>\n",
       "    <tr>\n",
       "      <th>1</th>\n",
       "      <td>72616784</td>\n",
       "      <td>10.0</td>\n",
       "      <td>61000058</td>\n",
       "      <td>45</td>\n",
       "      <td>2019-12-28</td>\n",
       "      <td>2021-11-23 11:11:00</td>\n",
       "      <td>2019-12-26</td>\n",
       "      <td>2020-01-02</td>\n",
       "      <td>C10005</td>\n",
       "      <td>O1</td>\n",
       "    </tr>\n",
       "    <tr>\n",
       "      <th>2</th>\n",
       "      <td>72616784</td>\n",
       "      <td>10.0</td>\n",
       "      <td>61000058</td>\n",
       "      <td>45</td>\n",
       "      <td>2019-12-28</td>\n",
       "      <td>2021-11-23 11:11:00</td>\n",
       "      <td>2019-12-26</td>\n",
       "      <td>2020-01-02</td>\n",
       "      <td>C10005</td>\n",
       "      <td>O1</td>\n",
       "    </tr>\n",
       "    <tr>\n",
       "      <th>3</th>\n",
       "      <td>72616784</td>\n",
       "      <td>10.0</td>\n",
       "      <td>61000058</td>\n",
       "      <td>45</td>\n",
       "      <td>2019-12-28</td>\n",
       "      <td>2021-11-23 11:12:00</td>\n",
       "      <td>2019-12-26</td>\n",
       "      <td>2020-01-02</td>\n",
       "      <td>C10005</td>\n",
       "      <td>O1</td>\n",
       "    </tr>\n",
       "    <tr>\n",
       "      <th>4</th>\n",
       "      <td>72616784</td>\n",
       "      <td>10.0</td>\n",
       "      <td>61000058</td>\n",
       "      <td>45</td>\n",
       "      <td>2019-12-28</td>\n",
       "      <td>2021-11-23 11:10:00</td>\n",
       "      <td>2019-12-26</td>\n",
       "      <td>2020-01-02</td>\n",
       "      <td>C10005</td>\n",
       "      <td>O1</td>\n",
       "    </tr>\n",
       "  </tbody>\n",
       "</table>\n",
       "</div>"
      ],
      "text/plain": [
       "  order_num  order_type material_num  picked_amount picking_date  \\\n",
       "0  72616784        10.0     61000058             45   2019-12-28   \n",
       "1  72616784        10.0     61000058             45   2019-12-28   \n",
       "2  72616784        10.0     61000058             45   2019-12-28   \n",
       "3  72616784        10.0     61000058             45   2019-12-28   \n",
       "4  72616784        10.0     61000058             45   2019-12-28   \n",
       "\n",
       "         picking_hour order_receive_date shipping_date customer_num  \\\n",
       "0 2021-11-23 11:10:00         2019-12-26    2020-01-02       C10005   \n",
       "1 2021-11-23 11:11:00         2019-12-26    2020-01-02       C10005   \n",
       "2 2021-11-23 11:11:00         2019-12-26    2020-01-02       C10005   \n",
       "3 2021-11-23 11:12:00         2019-12-26    2020-01-02       C10005   \n",
       "4 2021-11-23 11:10:00         2019-12-26    2020-01-02       C10005   \n",
       "\n",
       "  operation_type  \n",
       "0             O1  \n",
       "1             O1  \n",
       "2             O1  \n",
       "3             O1  \n",
       "4             O1  "
      ]
     },
     "execution_count": 10,
     "metadata": {},
     "output_type": "execute_result"
    }
   ],
   "source": [
    "picking_df.head()"
   ]
  },
  {
   "cell_type": "code",
   "execution_count": 11,
   "metadata": {
    "scrolled": false
   },
   "outputs": [],
   "source": [
    "picking_df['order_num'] = picking_df['order_num'].astype('str')\n",
    "picking_df['material_num'] = picking_df['material_num'].astype('str')\n",
    "picking_df['picked_amount'] = picking_df['picked_amount'].astype('int32')\n",
    "\n",
    "# picking_df['order_type'] = picking_df['order_type'].astype('category')\n",
    "# picking_df['customer_num'] = picking_df['customer_num'].astype('category')\n",
    "# picking_df['operation_type'] = picking_df['operation_type'].astype('category')"
   ]
  },
  {
   "cell_type": "code",
   "execution_count": 12,
   "metadata": {},
   "outputs": [
    {
     "data": {
      "text/plain": [
       "order_num           0\n",
       "order_item          0\n",
       "order_type         12\n",
       "material_num        0\n",
       "order_amount        0\n",
       "palette_std       935\n",
       "customer_num        0\n",
       "order_date          0\n",
       "operation_type      0\n",
       "dtype: int64"
      ]
     },
     "execution_count": 12,
     "metadata": {},
     "output_type": "execute_result"
    }
   ],
   "source": [
    "order_df.isna().sum()"
   ]
  },
  {
   "cell_type": "code",
   "execution_count": 13,
   "metadata": {
    "scrolled": true
   },
   "outputs": [
    {
     "data": {
      "text/plain": [
       "order_num                 0\n",
       "order_type            27970\n",
       "material_num              0\n",
       "picked_amount             0\n",
       "picking_date              0\n",
       "picking_hour              0\n",
       "order_receive_date        0\n",
       "shipping_date             0\n",
       "customer_num              5\n",
       "operation_type            0\n",
       "dtype: int64"
      ]
     },
     "execution_count": 13,
     "metadata": {},
     "output_type": "execute_result"
    }
   ],
   "source": [
    "picking_df.isna().sum()"
   ]
  },
  {
   "cell_type": "code",
   "execution_count": 14,
   "metadata": {},
   "outputs": [
    {
     "data": {
      "text/plain": [
       "array(['10000692', '10000000', '10187005'], dtype=object)"
      ]
     },
     "execution_count": 14,
     "metadata": {},
     "output_type": "execute_result"
    }
   ],
   "source": [
    "picking_df[picking_df['customer_num'].isna()].material_num.unique()"
   ]
  },
  {
   "cell_type": "code",
   "execution_count": 15,
   "metadata": {},
   "outputs": [
    {
     "data": {
      "text/plain": [
       "array([nan], dtype=object)"
      ]
     },
     "execution_count": 15,
     "metadata": {},
     "output_type": "execute_result"
    }
   ],
   "source": [
    "picking_df[picking_df['material_num']=='10187005']['customer_num'].unique()"
   ]
  },
  {
   "cell_type": "code",
   "execution_count": 16,
   "metadata": {},
   "outputs": [],
   "source": [
    "num_unique_values_in_groups = order_df.groupby(['order_num', 'material_num']).agg({'order_item':'count',\n",
    "                                                     'order_type':'nunique',\n",
    "                                                     'order_amount':'sum',\n",
    "                                                     'palette_std':'nunique',\n",
    "                                                     'customer_num':'nunique',\n",
    "                                                     'order_date':'nunique',\n",
    "                                                     'operation_type':'nunique'\n",
    "                                                     })"
   ]
  },
  {
   "cell_type": "code",
   "execution_count": 17,
   "metadata": {},
   "outputs": [
    {
     "data": {
      "text/plain": [
       "order_item           16\n",
       "order_type            1\n",
       "order_amount      21000\n",
       "palette_std           2\n",
       "customer_num          2\n",
       "order_date            1\n",
       "operation_type        1\n",
       "dtype: int64"
      ]
     },
     "execution_count": 17,
     "metadata": {},
     "output_type": "execute_result"
    }
   ],
   "source": [
    "num_unique_values_in_groups.max()"
   ]
  },
  {
   "cell_type": "code",
   "execution_count": 18,
   "metadata": {},
   "outputs": [
    {
     "ename": "SyntaxError",
     "evalue": "invalid syntax (<ipython-input-18-4c083ab8598c>, line 1)",
     "output_type": "error",
     "traceback": [
      "\u001b[1;36m  File \u001b[1;32m\"<ipython-input-18-4c083ab8598c>\"\u001b[1;36m, line \u001b[1;32m1\u001b[0m\n\u001b[1;33m    palette_std ve customer_num sorularının cevabına göre groupby'ı revize et\u001b[0m\n\u001b[1;37m                ^\u001b[0m\n\u001b[1;31mSyntaxError\u001b[0m\u001b[1;31m:\u001b[0m invalid syntax\n"
     ]
    }
   ],
   "source": [
    "palette_std ve customer_num sorularının cevabına göre groupby'ı revize et"
   ]
  },
  {
   "cell_type": "code",
   "execution_count": 19,
   "metadata": {
    "scrolled": false
   },
   "outputs": [],
   "source": [
    "order_df = order_df.groupby(['order_num', 'material_num']).agg({'order_item':'count',\n",
    "                                                     'order_type':'max',\n",
    "                                                     'order_amount':'sum',\n",
    "                                                     'palette_std':'max',\n",
    "                                                     'customer_num':'max',\n",
    "                                                     'order_date':'max',\n",
    "                                                     'operation_type':'max'\n",
    "                                                     }).reset_index()"
   ]
  },
  {
   "cell_type": "code",
   "execution_count": 20,
   "metadata": {},
   "outputs": [],
   "source": [
    "merged_df = pd.merge(order_df, picking_df, on=['order_num', 'material_num'], how='left')"
   ]
  },
  {
   "cell_type": "code",
   "execution_count": 21,
   "metadata": {},
   "outputs": [
    {
     "data": {
      "text/html": [
       "<div>\n",
       "<style scoped>\n",
       "    .dataframe tbody tr th:only-of-type {\n",
       "        vertical-align: middle;\n",
       "    }\n",
       "\n",
       "    .dataframe tbody tr th {\n",
       "        vertical-align: top;\n",
       "    }\n",
       "\n",
       "    .dataframe thead th {\n",
       "        text-align: right;\n",
       "    }\n",
       "</style>\n",
       "<table border=\"1\" class=\"dataframe\">\n",
       "  <thead>\n",
       "    <tr style=\"text-align: right;\">\n",
       "      <th></th>\n",
       "      <th>order_num</th>\n",
       "      <th>material_num</th>\n",
       "      <th>order_item</th>\n",
       "      <th>order_type_x</th>\n",
       "      <th>order_amount</th>\n",
       "      <th>palette_std</th>\n",
       "      <th>customer_num_x</th>\n",
       "      <th>order_date</th>\n",
       "      <th>operation_type_x</th>\n",
       "      <th>order_type_y</th>\n",
       "      <th>picked_amount</th>\n",
       "      <th>picking_date</th>\n",
       "      <th>picking_hour</th>\n",
       "      <th>order_receive_date</th>\n",
       "      <th>shipping_date</th>\n",
       "      <th>customer_num_y</th>\n",
       "      <th>operation_type_y</th>\n",
       "    </tr>\n",
       "  </thead>\n",
       "  <tbody>\n",
       "    <tr>\n",
       "      <th>0</th>\n",
       "      <td>1161248270</td>\n",
       "      <td>4016984</td>\n",
       "      <td>1</td>\n",
       "      <td>NaN</td>\n",
       "      <td>24</td>\n",
       "      <td>210.0</td>\n",
       "      <td>M10354</td>\n",
       "      <td>2020-02-05</td>\n",
       "      <td>O2</td>\n",
       "      <td>NaN</td>\n",
       "      <td>210.0</td>\n",
       "      <td>2020-02-05</td>\n",
       "      <td>2021-11-23 14:38:00</td>\n",
       "      <td>2020-02-05</td>\n",
       "      <td>2020-02-06</td>\n",
       "      <td>M1269</td>\n",
       "      <td>O2</td>\n",
       "    </tr>\n",
       "    <tr>\n",
       "      <th>1</th>\n",
       "      <td>1161248270</td>\n",
       "      <td>91704</td>\n",
       "      <td>1</td>\n",
       "      <td>NaN</td>\n",
       "      <td>2</td>\n",
       "      <td>80.0</td>\n",
       "      <td>M10354</td>\n",
       "      <td>2020-02-05</td>\n",
       "      <td>O2</td>\n",
       "      <td>NaN</td>\n",
       "      <td>80.0</td>\n",
       "      <td>2020-02-05</td>\n",
       "      <td>2021-11-23 14:38:00</td>\n",
       "      <td>2020-02-05</td>\n",
       "      <td>2020-02-06</td>\n",
       "      <td>M1269</td>\n",
       "      <td>O2</td>\n",
       "    </tr>\n",
       "    <tr>\n",
       "      <th>2</th>\n",
       "      <td>4507790922</td>\n",
       "      <td>4027905</td>\n",
       "      <td>1</td>\n",
       "      <td>NaN</td>\n",
       "      <td>40</td>\n",
       "      <td>210.0</td>\n",
       "      <td>M10140</td>\n",
       "      <td>2020-08-25</td>\n",
       "      <td>O2</td>\n",
       "      <td>NaN</td>\n",
       "      <td>210.0</td>\n",
       "      <td>2020-08-25</td>\n",
       "      <td>2021-11-23 13:56:00</td>\n",
       "      <td>2020-08-25</td>\n",
       "      <td>2020-08-25</td>\n",
       "      <td>M577</td>\n",
       "      <td>O2</td>\n",
       "    </tr>\n",
       "  </tbody>\n",
       "</table>\n",
       "</div>"
      ],
      "text/plain": [
       "    order_num material_num  order_item  order_type_x  order_amount  \\\n",
       "0  1161248270      4016984           1           NaN            24   \n",
       "1  1161248270        91704           1           NaN             2   \n",
       "2  4507790922      4027905           1           NaN            40   \n",
       "\n",
       "   palette_std customer_num_x order_date operation_type_x  order_type_y  \\\n",
       "0        210.0         M10354 2020-02-05               O2           NaN   \n",
       "1         80.0         M10354 2020-02-05               O2           NaN   \n",
       "2        210.0         M10140 2020-08-25               O2           NaN   \n",
       "\n",
       "   picked_amount picking_date        picking_hour order_receive_date  \\\n",
       "0          210.0   2020-02-05 2021-11-23 14:38:00         2020-02-05   \n",
       "1           80.0   2020-02-05 2021-11-23 14:38:00         2020-02-05   \n",
       "2          210.0   2020-08-25 2021-11-23 13:56:00         2020-08-25   \n",
       "\n",
       "  shipping_date customer_num_y operation_type_y  \n",
       "0    2020-02-06          M1269               O2  \n",
       "1    2020-02-06          M1269               O2  \n",
       "2    2020-08-25           M577               O2  "
      ]
     },
     "execution_count": 21,
     "metadata": {},
     "output_type": "execute_result"
    }
   ],
   "source": [
    "merged_df.head(3)"
   ]
  },
  {
   "cell_type": "code",
   "execution_count": 22,
   "metadata": {
    "scrolled": true
   },
   "outputs": [
    {
     "data": {
      "text/plain": [
       "order_num                 0\n",
       "material_num              0\n",
       "order_item                0\n",
       "order_type_x             31\n",
       "order_amount              0\n",
       "palette_std            3151\n",
       "customer_num_x            0\n",
       "order_date                0\n",
       "operation_type_x          0\n",
       "order_type_y          26963\n",
       "picked_amount         26932\n",
       "picking_date          26932\n",
       "picking_hour          26932\n",
       "order_receive_date    26932\n",
       "shipping_date         26932\n",
       "customer_num_y        26932\n",
       "operation_type_y      26932\n",
       "dtype: int64"
      ]
     },
     "execution_count": 22,
     "metadata": {},
     "output_type": "execute_result"
    }
   ],
   "source": [
    "merged_df.isna().sum()"
   ]
  },
  {
   "cell_type": "code",
   "execution_count": 23,
   "metadata": {},
   "outputs": [],
   "source": []
  },
  {
   "cell_type": "code",
   "execution_count": 24,
   "metadata": {},
   "outputs": [
    {
     "ename": "NameError",
     "evalue": "name 'daily_picking' is not defined",
     "output_type": "error",
     "traceback": [
      "\u001b[1;31m---------------------------------------------------------------------------\u001b[0m",
      "\u001b[1;31mNameError\u001b[0m                                 Traceback (most recent call last)",
      "\u001b[1;32m<ipython-input-24-52d32eb6dde3>\u001b[0m in \u001b[0;36m<module>\u001b[1;34m\u001b[0m\n\u001b[0;32m      2\u001b[0m \u001b[0mplt\u001b[0m\u001b[1;33m.\u001b[0m\u001b[0mfigure\u001b[0m\u001b[1;33m(\u001b[0m\u001b[0mfigsize\u001b[0m\u001b[1;33m=\u001b[0m\u001b[1;33m(\u001b[0m\u001b[1;36m15\u001b[0m\u001b[1;33m,\u001b[0m\u001b[1;36m5\u001b[0m\u001b[1;33m)\u001b[0m\u001b[1;33m)\u001b[0m\u001b[1;33m\u001b[0m\u001b[1;33m\u001b[0m\u001b[0m\n\u001b[0;32m      3\u001b[0m \u001b[0mplt\u001b[0m\u001b[1;33m.\u001b[0m\u001b[0mplot\u001b[0m\u001b[1;33m(\u001b[0m\u001b[0mdaily_orders\u001b[0m\u001b[1;33m.\u001b[0m\u001b[0mindex\u001b[0m\u001b[1;33m,\u001b[0m \u001b[0mdaily_orders\u001b[0m\u001b[1;33m.\u001b[0m\u001b[0mvalues\u001b[0m\u001b[1;33m,\u001b[0m \u001b[1;34m'r'\u001b[0m\u001b[1;33m)\u001b[0m\u001b[1;33m\u001b[0m\u001b[1;33m\u001b[0m\u001b[0m\n\u001b[1;32m----> 4\u001b[1;33m \u001b[0mplt\u001b[0m\u001b[1;33m.\u001b[0m\u001b[0mplot\u001b[0m\u001b[1;33m(\u001b[0m\u001b[0mdaily_picking\u001b[0m\u001b[1;33m.\u001b[0m\u001b[0mindex\u001b[0m\u001b[1;33m,\u001b[0m \u001b[0mdaily_picking\u001b[0m\u001b[1;33m.\u001b[0m\u001b[0mvalues\u001b[0m\u001b[1;33m,\u001b[0m \u001b[1;34m'b'\u001b[0m\u001b[1;33m)\u001b[0m\u001b[1;33m\u001b[0m\u001b[1;33m\u001b[0m\u001b[0m\n\u001b[0m\u001b[0;32m      5\u001b[0m \u001b[0mplt\u001b[0m\u001b[1;33m.\u001b[0m\u001b[0mtitle\u001b[0m\u001b[1;33m(\u001b[0m\u001b[1;34m'Daily Sales and Picking'\u001b[0m\u001b[1;33m)\u001b[0m\u001b[1;33m\u001b[0m\u001b[1;33m\u001b[0m\u001b[0m\n\u001b[0;32m      6\u001b[0m \u001b[0mplt\u001b[0m\u001b[1;33m.\u001b[0m\u001b[0mylabel\u001b[0m\u001b[1;33m(\u001b[0m\u001b[1;34m'Amount'\u001b[0m\u001b[1;33m)\u001b[0m\u001b[1;33m\u001b[0m\u001b[1;33m\u001b[0m\u001b[0m\n",
      "\u001b[1;31mNameError\u001b[0m: name 'daily_picking' is not defined"
     ]
    },
    {
     "data": {
      "image/png": "[encoded data removed]",
      "text/plain": [
       "<Figure size 1080x360 with 1 Axes>"
      ]
     },
     "metadata": {
      "needs_background": "light"
     },
     "output_type": "display_data"
    }
   ],
   "source": [
    "daily_orders = order_df.groupby(['order_date'])['order_amount'].sum()\n",
    "plt.figure(figsize=(15,5))\n",
    "plt.plot(daily_orders.index, daily_orders.values, 'r')\n",
    "plt.plot(daily_picking.index, daily_picking.values, 'b')\n",
    "plt.title('Daily Sales and Picking')\n",
    "plt.ylabel('Amount')\n",
    "plt.show();"
   ]
  },
  {
   "cell_type": "code",
   "execution_count": null,
   "metadata": {},
   "outputs": [],
   "source": [
    "daily_picking = picking_df.groupby(['picking_date'])['picked_amount'].sum()\n",
    "plt.figure(figsize=(15,5))\n",
    "plt.plot(daily_picking.index, daily_picking.values, 'b')\n",
    "plt.title('Daily Picked Amount')\n",
    "plt.ylabel('Amount')\n",
    "plt.show();"
   ]
  },
  {
   "cell_type": "code",
   "execution_count": null,
   "metadata": {},
   "outputs": [],
   "source": [
    "daily_orders = order_df[order_df['order_date']<'2020-03-01'].groupby(['order_date'])['order_amount'].sum()\n",
    "daily_picking = picking_df[picking_df['picking_date']<'2020-03-01'].groupby(['picking_date'])['picked_amount'].sum()\n",
    "plt.figure(figsize=(15,5))\n",
    "plt.plot(daily_orders.index, daily_orders.values, 'r')\n",
    "plt.plot(daily_picking.index, daily_picking.values, 'b')\n",
    "plt.title('Daily Sales and Picking')\n",
    "plt.ylabel('Amount')\n",
    "plt.show();"
   ]
  },
  {
   "cell_type": "code",
   "execution_count": null,
   "metadata": {},
   "outputs": [],
   "source": [
    "merged_df.sum()"
   ]
  },
  {
   "cell_type": "markdown",
   "metadata": {},
   "source": [
    "### ABC analysis"
   ]
  },
  {
   "cell_type": "code",
   "execution_count": null,
   "metadata": {},
   "outputs": [],
   "source": [
    "order_df.groupby(['order_date'])['order_amount'].plot(kind='kde')"
   ]
  },
  {
   "cell_type": "code",
   "execution_count": null,
   "metadata": {},
   "outputs": [],
   "source": []
  },
  {
   "cell_type": "code",
   "execution_count": null,
   "metadata": {},
   "outputs": [],
   "source": []
  },
  {
   "cell_type": "code",
   "execution_count": null,
   "metadata": {},
   "outputs": [],
   "source": [
    "malzeme_volume_perc = order_df['Malzeme Numarası'].value_counts(normalize=True).reset_index()\n",
    "malzeme_volume_perc.columns = ['malzeme', 'volume_percentage']\n",
    "malzeme_volume_perc['cum_perc'] = malzeme_volume_perc['volume_percentage'].cumsum()"
   ]
  },
  {
   "cell_type": "code",
   "execution_count": null,
   "metadata": {},
   "outputs": [],
   "source": [
    "malzeme_volume_perc.loc[:,'ABC'] = 'C'\n",
    "malzeme_volume_perc.loc[malzeme_volume_perc['cum_perc']<0.5,'ABC'] = 'B'\n",
    "malzeme_volume_perc.loc[malzeme_volume_perc['cum_perc']<0.2,'ABC'] = 'A'"
   ]
  },
  {
   "cell_type": "code",
   "execution_count": null,
   "metadata": {},
   "outputs": [],
   "source": [
    "malzeme_volume_perc['ABC'].value_counts(normalize=True)"
   ]
  },
  {
   "cell_type": "code",
   "execution_count": null,
   "metadata": {},
   "outputs": [],
   "source": [
    "pd.Timestamp(2011,3,20)"
   ]
  },
  {
   "cell_type": "code",
   "execution_count": null,
   "metadata": {},
   "outputs": [],
   "source": [
    "len('05/03/2020')"
   ]
  },
  {
   "cell_type": "code",
   "execution_count": null,
   "metadata": {
    "scrolled": false
   },
   "outputs": [],
   "source": [
    "picking_df['Sevkiyat Tarihi'].unique()"
   ]
  },
  {
   "cell_type": "code",
   "execution_count": null,
   "metadata": {},
   "outputs": [],
   "source": [
    "picking_df.dtypes"
   ]
  },
  {
   "cell_type": "code",
   "execution_count": null,
   "metadata": {},
   "outputs": [],
   "source": []
  }
 ],
 "metadata": {
  "kernelspec": {
   "display_name": "Python 3",
   "language": "python",
   "name": "python3"
  },
  "language_info": {
   "codemirror_mode": {
    "name": "ipython",
    "version": 3
   },
   "file_extension": ".py",
   "mimetype": "text/x-python",
   "name": "python",
   "nbconvert_exporter": "python",
   "pygments_lexer": "ipython3",
   "version": "3.8.3"
  }
 },
 "nbformat": 4,
 "nbformat_minor": 4
}
