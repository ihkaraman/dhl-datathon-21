{
 "cells": [
  {
   "cell_type": "markdown",
   "metadata": {},
   "source": [
    "roadmap\n",
    "\n",
    "abc analysis    \n",
    "pareto diagram\n",
    "volume forecasting\n",
    "\n",
    "order picking methods, picking optimisation, routing strategies"
   ]
  },
  {
   "cell_type": "code",
   "execution_count": 1,
   "metadata": {},
   "outputs": [],
   "source": [
    "import pandas as pd"
   ]
  },
  {
   "cell_type": "code",
   "execution_count": 58,
   "metadata": {},
   "outputs": [
    {
     "name": "stderr",
     "output_type": "stream",
     "text": [
      "C:\\ProgramData\\Anaconda3\\lib\\site-packages\\IPython\\core\\interactiveshell.py:3071: DtypeWarning: Columns (0,3) have mixed types.Specify dtype option on import or set low_memory=False.\n",
      "  has_raised = await self.run_ast_nodes(code_ast.body, cell_name,\n",
      "C:\\ProgramData\\Anaconda3\\lib\\site-packages\\IPython\\core\\interactiveshell.py:3071: DtypeWarning: Columns (1,7,8) have mixed types.Specify dtype option on import or set low_memory=False.\n",
      "  has_raised = await self.run_ast_nodes(code_ast.body, cell_name,\n"
     ]
    }
   ],
   "source": [
    "order_df = pd.read_csv('datathon_order.csv', parse_dates=['Sipariş Tarihi'])\n",
    "picking_df = pd.read_csv('datathon_picking.csv', index_col='Unnamed: 0', parse_dates=['Toplama Tarihi'])"
   ]
  },
  {
   "cell_type": "code",
   "execution_count": 70,
   "metadata": {},
   "outputs": [
    {
     "data": {
      "text/plain": [
       "(508069, 9)"
      ]
     },
     "execution_count": 70,
     "metadata": {},
     "output_type": "execute_result"
    }
   ],
   "source": [
    "order_df.shape"
   ]
  },
  {
   "cell_type": "code",
   "execution_count": 59,
   "metadata": {},
   "outputs": [],
   "source": [
    "def convert_string_to_date(str_date):\n",
    "    \n",
    "    str_date = str(str_date)\n",
    "    str_date = str_date.replace('/','')\n",
    "    str_date = str_date.replace('.','')\n",
    "    \n",
    "    len_date = len(str_date)\n",
    "    \n",
    "    if len_date>7:\n",
    "        return pd.Timestamp(int(str_date[4:]), int(str_date[2:4]), int(str_date[:2]))   \n",
    "    elif len_date==7:\n",
    "        return pd.Timestamp(int(str_date[3:]), int(str_date[1:3]), int(str_date[:1]))   \n",
    "    elif len_date==6:\n",
    "        return pd.Timestamp(int(str_date[2:]), int(str_date[1:2]), int(str_date[:1]))   "
   ]
  },
  {
   "cell_type": "code",
   "execution_count": 60,
   "metadata": {},
   "outputs": [],
   "source": [
    "picking_df['Toplama Tarihi'] = picking_df['Toplama Tarihi'].apply(convert_string_to_date)\n",
    "picking_df['Siparişin Düştüğü Tarih'] = picking_df['Siparişin Düştüğü Tarih'].apply(convert_string_to_date)\n",
    "picking_df['Sevkiyat Tarihi'] = picking_df['Sevkiyat Tarihi'].apply(convert_string_to_date)"
   ]
  },
  {
   "cell_type": "code",
   "execution_count": 63,
   "metadata": {
    "scrolled": false
   },
   "outputs": [
    {
     "data": {
      "text/html": [
       "<div>\n",
       "<style scoped>\n",
       "    .dataframe tbody tr th:only-of-type {\n",
       "        vertical-align: middle;\n",
       "    }\n",
       "\n",
       "    .dataframe tbody tr th {\n",
       "        vertical-align: top;\n",
       "    }\n",
       "\n",
       "    .dataframe thead th {\n",
       "        text-align: right;\n",
       "    }\n",
       "</style>\n",
       "<table border=\"1\" class=\"dataframe\">\n",
       "  <thead>\n",
       "    <tr style=\"text-align: right;\">\n",
       "      <th></th>\n",
       "      <th>Siparis No</th>\n",
       "      <th>Siparis Tipi</th>\n",
       "      <th>Urun Kodu</th>\n",
       "      <th>Toplanan Miktar</th>\n",
       "      <th>Toplama Tarihi</th>\n",
       "      <th>Toplama Saati</th>\n",
       "      <th>Siparişin Düştüğü Tarih</th>\n",
       "      <th>Sevkiyat Tarihi</th>\n",
       "      <th>Müşteri</th>\n",
       "      <th>Operasyon Numarası</th>\n",
       "    </tr>\n",
       "  </thead>\n",
       "  <tbody>\n",
       "    <tr>\n",
       "      <th>0</th>\n",
       "      <td>72616784</td>\n",
       "      <td>10.0</td>\n",
       "      <td>61000058</td>\n",
       "      <td>45</td>\n",
       "      <td>2019-12-28</td>\n",
       "      <td>11:10</td>\n",
       "      <td>2019-12-26</td>\n",
       "      <td>2020-01-02</td>\n",
       "      <td>C10005</td>\n",
       "      <td>O1</td>\n",
       "    </tr>\n",
       "    <tr>\n",
       "      <th>1</th>\n",
       "      <td>72616784</td>\n",
       "      <td>10.0</td>\n",
       "      <td>61000058</td>\n",
       "      <td>45</td>\n",
       "      <td>2019-12-28</td>\n",
       "      <td>11:11</td>\n",
       "      <td>2019-12-26</td>\n",
       "      <td>2020-01-02</td>\n",
       "      <td>C10005</td>\n",
       "      <td>O1</td>\n",
       "    </tr>\n",
       "    <tr>\n",
       "      <th>2</th>\n",
       "      <td>72616784</td>\n",
       "      <td>10.0</td>\n",
       "      <td>61000058</td>\n",
       "      <td>45</td>\n",
       "      <td>2019-12-28</td>\n",
       "      <td>11:11</td>\n",
       "      <td>2019-12-26</td>\n",
       "      <td>2020-01-02</td>\n",
       "      <td>C10005</td>\n",
       "      <td>O1</td>\n",
       "    </tr>\n",
       "    <tr>\n",
       "      <th>3</th>\n",
       "      <td>72616784</td>\n",
       "      <td>10.0</td>\n",
       "      <td>61000058</td>\n",
       "      <td>45</td>\n",
       "      <td>2019-12-28</td>\n",
       "      <td>11:12</td>\n",
       "      <td>2019-12-26</td>\n",
       "      <td>2020-01-02</td>\n",
       "      <td>C10005</td>\n",
       "      <td>O1</td>\n",
       "    </tr>\n",
       "    <tr>\n",
       "      <th>4</th>\n",
       "      <td>72616784</td>\n",
       "      <td>10.0</td>\n",
       "      <td>61000058</td>\n",
       "      <td>45</td>\n",
       "      <td>2019-12-28</td>\n",
       "      <td>11:10</td>\n",
       "      <td>2019-12-26</td>\n",
       "      <td>2020-01-02</td>\n",
       "      <td>C10005</td>\n",
       "      <td>O1</td>\n",
       "    </tr>\n",
       "  </tbody>\n",
       "</table>\n",
       "</div>"
      ],
      "text/plain": [
       "  Siparis No  Siparis Tipi Urun Kodu  Toplanan Miktar Toplama Tarihi  \\\n",
       "0   72616784          10.0  61000058               45     2019-12-28   \n",
       "1   72616784          10.0  61000058               45     2019-12-28   \n",
       "2   72616784          10.0  61000058               45     2019-12-28   \n",
       "3   72616784          10.0  61000058               45     2019-12-28   \n",
       "4   72616784          10.0  61000058               45     2019-12-28   \n",
       "\n",
       "  Toplama Saati Siparişin Düştüğü Tarih Sevkiyat Tarihi Müşteri  \\\n",
       "0         11:10              2019-12-26      2020-01-02  C10005   \n",
       "1         11:11              2019-12-26      2020-01-02  C10005   \n",
       "2         11:11              2019-12-26      2020-01-02  C10005   \n",
       "3         11:12              2019-12-26      2020-01-02  C10005   \n",
       "4         11:10              2019-12-26      2020-01-02  C10005   \n",
       "\n",
       "  Operasyon Numarası  \n",
       "0                 O1  \n",
       "1                 O1  \n",
       "2                 O1  \n",
       "3                 O1  \n",
       "4                 O1  "
      ]
     },
     "execution_count": 63,
     "metadata": {},
     "output_type": "execute_result"
    }
   ],
   "source": [
    "picking_df.head()"
   ]
  },
  {
   "cell_type": "code",
   "execution_count": 64,
   "metadata": {},
   "outputs": [
    {
     "data": {
      "text/plain": [
       "86912"
      ]
     },
     "execution_count": 64,
     "metadata": {},
     "output_type": "execute_result"
    }
   ],
   "source": [
    "picking_df['Siparis No'].nunique()"
   ]
  },
  {
   "cell_type": "code",
   "execution_count": 65,
   "metadata": {},
   "outputs": [
    {
     "data": {
      "text/plain": [
       "20.0    519118\n",
       "40.0    142556\n",
       "10.0     20337\n",
       "30.0      2409\n",
       "Name: Siparis Tipi, dtype: int64"
      ]
     },
     "execution_count": 65,
     "metadata": {},
     "output_type": "execute_result"
    }
   ],
   "source": [
    "picking_df['Siparis Tipi'].value_counts()"
   ]
  },
  {
   "cell_type": "code",
   "execution_count": 67,
   "metadata": {},
   "outputs": [
    {
     "data": {
      "text/plain": [
       "<matplotlib.axes._subplots.AxesSubplot at 0x2882db22a00>"
      ]
     },
     "execution_count": 67,
     "metadata": {},
     "output_type": "execute_result"
    },
    {
     "data": {
      "image/png": "[encoded data removed]",
      "text/plain": [
       "<Figure size 432x288 with 1 Axes>"
      ]
     },
     "metadata": {
      "needs_background": "light"
     },
     "output_type": "display_data"
    }
   ],
   "source": [
    "picking_df['Toplanan Miktar'].plot(kind='kde')"
   ]
  },
  {
   "cell_type": "code",
   "execution_count": 90,
   "metadata": {},
   "outputs": [],
   "source": [
    "malzeme_volume_perc = order_df['Malzeme Numarası'].value_counts(normalize=True).reset_index()\n",
    "malzeme_volume_perc.columns = ['malzeme', 'volume_percentage']\n",
    "malzeme_volume_perc['cum_perc'] = malzeme_volume_perc['volume_percentage'].cumsum()"
   ]
  },
  {
   "cell_type": "code",
   "execution_count": 95,
   "metadata": {},
   "outputs": [],
   "source": [
    "malzeme_volume_perc.loc[:,'ABC'] = 'C'\n",
    "malzeme_volume_perc.loc[malzeme_volume_perc['cum_perc']<0.5,'ABC'] = 'B'\n",
    "malzeme_volume_perc.loc[malzeme_volume_perc['cum_perc']<0.2,'ABC'] = 'A'"
   ]
  },
  {
   "cell_type": "code",
   "execution_count": 99,
   "metadata": {},
   "outputs": [
    {
     "data": {
      "text/plain": [
       "C    0.869888\n",
       "B    0.097893\n",
       "A    0.032218\n",
       "Name: ABC, dtype: float64"
      ]
     },
     "execution_count": 99,
     "metadata": {},
     "output_type": "execute_result"
    }
   ],
   "source": [
    "malzeme_volume_perc['ABC'].value_counts(normalize=True)"
   ]
  },
  {
   "cell_type": "code",
   "execution_count": 24,
   "metadata": {},
   "outputs": [
    {
     "data": {
      "text/plain": [
       "Timestamp('2011-03-20 00:00:00')"
      ]
     },
     "execution_count": 24,
     "metadata": {},
     "output_type": "execute_result"
    }
   ],
   "source": [
    "pd.Timestamp(2011,3,20)"
   ]
  },
  {
   "cell_type": "code",
   "execution_count": 20,
   "metadata": {},
   "outputs": [
    {
     "data": {
      "text/plain": [
       "10"
      ]
     },
     "execution_count": 20,
     "metadata": {},
     "output_type": "execute_result"
    }
   ],
   "source": [
    "len('05/03/2020')"
   ]
  },
  {
   "cell_type": "code",
   "execution_count": 44,
   "metadata": {
    "scrolled": false
   },
   "outputs": [
    {
     "data": {
      "text/plain": [
       "array([2012020, 3012020, 4012020, 6012020, 7012020, 8012020, 9012020,\n",
       "       10012020, 11012020, 13012020, 14012020, 15012020, 16012020,\n",
       "       17012020, 18012020, 20012020, 21012020, 22012020, 23012020,\n",
       "       24012020, 25012020, 27012020, 28012020, 29012020, 30012020,\n",
       "       31012020, 1022020, 3022020, 4022020, 5022020, 6022020, 7022020,\n",
       "       8022020, 10022020, 11022020, 12022020, 13022020, 14022020,\n",
       "       15022020, 17022020, 18022020, 19022020, 20022020, 21022020,\n",
       "       22022020, 24022020, 25022020, 26022020, 27022020, 28022020,\n",
       "       29022020, 2032020, 3032020, 4032020, 5032020, 6032020, 7032020,\n",
       "       9032020, 10032020, 11032020, 12032020, 13032020, 14032020,\n",
       "       16032020, 17032020, 18032020, 19032020, 20032020, 21032020,\n",
       "       23032020, 24032020, 25032020, 26032020, 27032020, 28032020,\n",
       "       30032020, 31032020, 1042020, 2042020, 3042020, 4042020, 6042020,\n",
       "       7042020, 8042020, 9042020, 10042020, 11042020, 13042020, 14042020,\n",
       "       15042020, 16042020, 17042020, 18042020, 20042020, 21042020,\n",
       "       22042020, 23042020, 24042020, 25042020, 27042020, 28042020,\n",
       "       29042020, 30042020, 2052020, 4052020, 5052020, 6052020, 7052020,\n",
       "       8052020, 9052020, 11052020, 12052020, 13052020, 14052020, 15052020,\n",
       "       16052020, 18052020, 19052020, 20052020, 21052020, 22052020,\n",
       "       23052020, 27052020, 28052020, 29052020, 30052020, 1062020, 2062020,\n",
       "       3062020, 4062020, 5062020, 6062020, 8062020, 9062020, 10062020,\n",
       "       11062020, 12062020, 13062020, 15062020, 16062020, 17062020,\n",
       "       18062020, 19062020, 20062020, 22062020, 23062020, 24062020,\n",
       "       25062020, 26062020, 27062020, 29062020, 30062020, 1072020, 2072020,\n",
       "       3072020, 4072020, 5072020, 6072020, 7072020, 8072020, 9072020,\n",
       "       10072020, 11072020, 13072020, 14072020, 15072020, 16072020,\n",
       "       17072020, 18072020, 19072020, 20072020, 21072020, 22072020,\n",
       "       23072020, 24072020, 25072020, 27072020, 28072020, 29072020,\n",
       "       4082020, 5082020, 6082020, 7082020, 8082020, 9082020, 10082020,\n",
       "       11082020, 12082020, 13082020, 14082020, 15082020, 16082020,\n",
       "       17082020, 18082020, 19082020, 20082020, 21082020, 22082020,\n",
       "       24082020, 25082020, 26082020, 27082020, 28082020, 29082020,\n",
       "       31082020, 1092020, 2092020, 3092020, 4092020, 5092020, 7092020,\n",
       "       8092020, 9092020, 10092020, 11092020, 12092020, 14092020, 15092020,\n",
       "       16092020, 17092020, 18092020, 19092020, 21092020, 22092020,\n",
       "       23092020, 24092020, 25092020, 26092020, 28092020, 29092020,\n",
       "       30092020, 1102020, 2102020, 3102020, 4102020, 5102020, 6102020,\n",
       "       7102020, 8102020, 9102020, 10102020, 11102020, 12102020, 13102020,\n",
       "       14102020, 15102020, 16102020, 17102020, 19102020, 20102020,\n",
       "       21102020, 22102020, 23102020, 24102020, 26102020, 27102020,\n",
       "       28102020, 30102020, 31102020, 2112020, 3112020, 4112020, 5112020,\n",
       "       6112020, 7112020, 8112020, 9112020, 10112020, 11112020, 12112020,\n",
       "       13112020, 16112020, 17112020, 18112020, 19112020, 20112020,\n",
       "       21112020, 23112020, 24112020, 25112020, 26112020, 27112020,\n",
       "       28112020, 29112020, 30112020, 1122020, 2122020, 3122020, 4122020,\n",
       "       5122020, 7122020, 8122020, 9122020, 10122020, 11122020, 12122020,\n",
       "       14122020, 15122020, 16122020, 17122020, 18122020, 19122020,\n",
       "       21122020, 22122020, 23122020, 24122020, 25122020, 26122020,\n",
       "       28122020, 29122020, 30122020, '30122020', '02.01.2020',\n",
       "       '03.01.2020', '06.01.2020', '07.01.2020', '09.01.2020',\n",
       "       '08.01.2020', '10.01.2020', '11.01.2020', '13.01.2020',\n",
       "       '14.01.2020', '15.01.2020', '16.01.2020', '18.01.2020',\n",
       "       '17.01.2020', '21.01.2020', '20.01.2020', '22.01.2020',\n",
       "       '24.01.2020', '23.01.2020', '28.01.2020', '27.01.2020',\n",
       "       '25.01.2020', '26.01.2020', '29.01.2020', '30.01.2020',\n",
       "       '03.02.2020', '31.01.2020', '01.02.2020', '04.02.2020',\n",
       "       '05.02.2020', '06.02.2020', '07.02.2020', '08.02.2020',\n",
       "       '10.02.2020', '11.02.2020', '09.02.2020', '13.02.2020',\n",
       "       '14.02.2020', '12.02.2020', '15.02.2020', '18.02.2020',\n",
       "       '17.02.2020', '16.02.2020', '19.02.2020', '20.02.2020',\n",
       "       '22.02.2020', '21.02.2020', '24.02.2020', '25.02.2020',\n",
       "       '27.02.2020', '26.02.2020', '28.02.2020', '02.03.2020',\n",
       "       '03.03.2020', '05.03.2020', '04.03.2020', '06.03.2020',\n",
       "       '09.03.2020', '07.03.2020', '10.03.2020', '11.03.2020',\n",
       "       '21.03.2020', '18.03.2020', '12.03.2020', '16.03.2020',\n",
       "       '13.03.2020', '14.03.2020', '19.03.2020', '27.03.2020',\n",
       "       '20.03.2020', '17.03.2020', '30.03.2020', '23.03.2020',\n",
       "       '15.03.2020', '24.03.2020', '26.03.2020', '28.03.2020',\n",
       "       '25.03.2020', '22.03.2020', '31.03.2020', '02.04.2020',\n",
       "       '01.04.2020', '03.04.2020', '06.04.2020', '04.04.2020',\n",
       "       '05.04.2020', '07.04.2020', '08.04.2020', '09.04.2020',\n",
       "       '10.04.2020', '13.04.2020', '11.04.2020', '14.04.2020',\n",
       "       '15.04.2020', '17.04.2020', '16.04.2020', '20.04.2020',\n",
       "       '18.04.2020', '21.04.2020', '19.04.2020', '12.05.2020',\n",
       "       '22.04.2020', '23.04.2020', '27.04.2020', '24.04.2020',\n",
       "       '25.04.2020', '28.04.2020', '30.04.2020', '29.04.2020',\n",
       "       '08.05.2020', '11.05.2020', '09.05.2020', '06.05.2020',\n",
       "       '05.05.2020', '07.05.2020', '13.05.2020', '14.05.2020',\n",
       "       '15.05.2020', '16.05.2020', '20.05.2020', '18.05.2020',\n",
       "       '21.05.2020', '27.05.2020', '22.05.2020', '23.05.2020',\n",
       "       '28.05.2020', '29.05.2020', '01.06.2020', '02.06.2020',\n",
       "       '03.06.2020', '04.06.2020', '05.06.2020', '06.06.2020',\n",
       "       '08.06.2020', '09.06.2020', '13.06.2020', '10.06.2020',\n",
       "       '11.06.2020', '12.06.2020', '15.06.2020', '16.06.2020',\n",
       "       '18.06.2020', '19.06.2020', '17.06.2020', '22.06.2020',\n",
       "       '20.06.2020', '21.06.2020', '23.06.2020', '24.06.2020',\n",
       "       '25.06.2020', '26.06.2020', '27.06.2020', '29.06.2020',\n",
       "       '28.06.2020', '30.06.2020', '04.07.2020', '01.07.2020',\n",
       "       '02.07.2020', '03.07.2020', '06.07.2020', '07.07.2020',\n",
       "       '08.07.2020', '09.07.2020', '10.07.2020', '13.07.2020',\n",
       "       '11.07.2020', '16.07.2020', '14.07.2020', '18.07.2020',\n",
       "       '17.07.2020', '15.07.2020', '20.07.2020', '21.07.2020',\n",
       "       '22.07.2020', '24.07.2020', '25.07.2020', '23.07.2020',\n",
       "       '28.07.2020', '27.07.2020', '29.07.2020', '04.08.2020',\n",
       "       '06.08.2020', '05.08.2020', '07.08.2020', '08.08.2020',\n",
       "       '10.08.2020', '11.08.2020', '12.08.2020', '14.08.2020',\n",
       "       '13.08.2020', '15.08.2020', '17.08.2020', '18.08.2020',\n",
       "       '19.08.2020', '20.08.2020', '22.08.2020', '24.08.2020',\n",
       "       '21.08.2020', '26.08.2020', '23.08.2020', '25.08.2020',\n",
       "       '27.08.2020', '31.08.2020', '28.08.2020', '29.08.2020',\n",
       "       '30.08.2020', '01.09.2020', '04.09.2020', '03.09.2020',\n",
       "       '02.09.2020', '07.09.2020', '05.09.2020', '08.09.2020',\n",
       "       '12.09.2020', '16.09.2020', '15.09.2020', '10.09.2020',\n",
       "       '14.09.2020', '11.09.2020', '09.09.2020', '13.09.2020',\n",
       "       '17.09.2020', '18.09.2020', '21.09.2020', '22.09.2020',\n",
       "       '19.09.2020', '23.09.2020', '25.09.2020', '24.09.2020',\n",
       "       '26.09.2020', '28.09.2020', '29.09.2020', '30.09.2020',\n",
       "       '01.10.2020', '02.10.2020', '05.10.2020', '07.10.2020',\n",
       "       '03.10.2020', '06.10.2020', '12.10.2020', '09.10.2020',\n",
       "       '08.10.2020', '13.10.2020', '10.10.2020', '15.10.2020',\n",
       "       '14.10.2020', '16.10.2020', '17.10.2020', '19.10.2020',\n",
       "       '20.10.2020', '22.10.2020', '21.10.2020', '23.10.2020',\n",
       "       '27.10.2020', '26.10.2020', '28.10.2020', '24.10.2020',\n",
       "       '30.10.2020', '31.10.2020', '03.11.2020', '02.11.2020',\n",
       "       '01.11.2020', '04.11.2020', '05.11.2020', '06.11.2020',\n",
       "       '07.11.2020', '09.11.2020', '10.11.2020', '11.11.2020',\n",
       "       '12.11.2020', '15.11.2020', '13.11.2020', '17.11.2020',\n",
       "       '16.11.2020', '14.11.2020', '20.11.2020', '19.11.2020',\n",
       "       '18.11.2020', '21.11.2020', '23.11.2020', '26.11.2020',\n",
       "       '24.11.2020', '25.11.2020', '27.11.2020', '02.12.2020',\n",
       "       '01.12.2020', '28.11.2020', '30.11.2020', '04.12.2020',\n",
       "       '07.12.2020', '03.12.2020', '08.12.2020', '05.12.2020',\n",
       "       '09.12.2020', '10.12.2020', '12.12.2020', '11.12.2020',\n",
       "       '14.12.2020', '15.12.2020', '16.12.2020', '17.12.2020',\n",
       "       '18.12.2020', '19.12.2020', '25.12.2020', '21.12.2020',\n",
       "       '22.12.2020', '24.12.2020', '23.12.2020', '26.12.2020',\n",
       "       '28.12.2020', '29.12.2020', '29.11.2020', '30.12.2020'],\n",
       "      dtype=object)"
      ]
     },
     "execution_count": 44,
     "metadata": {},
     "output_type": "execute_result"
    }
   ],
   "source": [
    "picking_df['Sevkiyat Tarihi'].unique()"
   ]
  },
  {
   "cell_type": "code",
   "execution_count": 17,
   "metadata": {},
   "outputs": [
    {
     "data": {
      "text/plain": [
       "Siparis No                  object\n",
       "Siparis Tipi               float64\n",
       "Urun Kodu                   object\n",
       "Toplanan Miktar              int64\n",
       "Toplama Tarihi              object\n",
       "Toplama Saati               object\n",
       "Siparişin Düştüğü Tarih     object\n",
       "Sevkiyat Tarihi             object\n",
       "Müşteri                     object\n",
       "Operasyon Numarası          object\n",
       "dtype: object"
      ]
     },
     "execution_count": 17,
     "metadata": {},
     "output_type": "execute_result"
    }
   ],
   "source": [
    "picking_df.dtypes"
   ]
  },
  {
   "cell_type": "code",
   "execution_count": null,
   "metadata": {},
   "outputs": [],
   "source": []
  }
 ],
 "metadata": {
  "kernelspec": {
   "display_name": "Python 3",
   "language": "python",
   "name": "python3"
  },
  "language_info": {
   "codemirror_mode": {
    "name": "ipython",
    "version": 3
   },
   "file_extension": ".py",
   "mimetype": "text/x-python",
   "name": "python",
   "nbconvert_exporter": "python",
   "pygments_lexer": "ipython3",
   "version": "3.8.3"
  }
 },
 "nbformat": 4,
 "nbformat_minor": 4
}
