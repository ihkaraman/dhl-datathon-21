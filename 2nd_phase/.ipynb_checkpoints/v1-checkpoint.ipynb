{
 "cells": [
  {
   "cell_type": "markdown",
   "metadata": {},
   "source": [
    "roadmap\n",
    "\n",
    "abc analysis    \n",
    "pareto diagram\n",
    "volume forecasting\n",
    "\n",
    "order picking methods, picking optimisation, routing strategies"
   ]
  },
  {
   "cell_type": "markdown",
   "metadata": {},
   "source": [
    "## notes from mentors\n",
    "\n",
    "- Merhaba,  sipariş edilen miktar ve toplanan miktar arasında bazen fark olabilir, sipariş verildikten sonra revize gelmiş olabilir.  sipariş edilen ve gerçekleşen verilerin arasındaki sapma oranını da parametrik olarak dahil edebilirsiniz ya da tamamen ignore edebilirsiniz,"
   ]
  },
  {
   "cell_type": "code",
   "execution_count": 1,
   "metadata": {},
   "outputs": [],
   "source": [
    "import pandas as pd\n",
    "import numpy as np"
   ]
  },
  {
   "cell_type": "code",
   "execution_count": 2,
   "metadata": {},
   "outputs": [
    {
     "name": "stderr",
     "output_type": "stream",
     "text": [
      "C:\\ProgramData\\Anaconda3\\lib\\site-packages\\IPython\\core\\interactiveshell.py:3071: DtypeWarning: Columns (0,3) have mixed types.Specify dtype option on import or set low_memory=False.\n",
      "  has_raised = await self.run_ast_nodes(code_ast.body, cell_name,\n",
      "C:\\ProgramData\\Anaconda3\\lib\\site-packages\\IPython\\core\\interactiveshell.py:3071: DtypeWarning: Columns (1,7,8) have mixed types.Specify dtype option on import or set low_memory=False.\n",
      "  has_raised = await self.run_ast_nodes(code_ast.body, cell_name,\n"
     ]
    }
   ],
   "source": [
    "order_df = pd.read_csv('datathon_order.csv', parse_dates=['Sipariş Tarihi'])\n",
    "picking_df = pd.read_csv('datathon_picking.csv', index_col='Unnamed: 0', parse_dates=['Toplama Tarihi'])"
   ]
  },
  {
   "cell_type": "code",
   "execution_count": 3,
   "metadata": {},
   "outputs": [],
   "source": [
    "order_df.columns = ['order_num', 'order_item', 'order_type', 'material_num', 'order_amount', \n",
    "                    'palette_std', 'customer_num', 'order_date', 'operation_type']"
   ]
  },
  {
   "cell_type": "code",
   "execution_count": 4,
   "metadata": {},
   "outputs": [],
   "source": [
    "picking_df.columns = ['order_num', 'order_type', 'material_num', 'picked_amount', 'picking_date', \n",
    "                      'picking_hour', 'order_receive_date', 'shipping_date', 'customer_num', 'operation_type']"
   ]
  },
  {
   "cell_type": "code",
   "execution_count": 5,
   "metadata": {},
   "outputs": [],
   "source": [
    "def convert_string_to_date(str_date):\n",
    "    \n",
    "    str_date = str(str_date)\n",
    "    str_date = str_date.replace('/','')\n",
    "    str_date = str_date.replace('.','')\n",
    "    \n",
    "    len_date = len(str_date)\n",
    "    \n",
    "    if len_date>7:\n",
    "        return pd.Timestamp(int(str_date[4:]), int(str_date[2:4]), int(str_date[:2]))   \n",
    "    elif len_date==7:\n",
    "        return pd.Timestamp(int(str_date[3:]), int(str_date[1:3]), int(str_date[:1]))   \n",
    "    elif len_date==6:\n",
    "        return pd.Timestamp(int(str_date[2:]), int(str_date[1:2]), int(str_date[:1]))   "
   ]
  },
  {
   "cell_type": "code",
   "execution_count": 6,
   "metadata": {},
   "outputs": [
    {
     "data": {
      "text/plain": [
       "Index(['order_num', 'order_type', 'material_num', 'picked_amount',\n",
       "       'picking_date', 'picking_hour', 'order_receive_date', 'shipping_date',\n",
       "       'customer_num', 'operation_type'],\n",
       "      dtype='object')"
      ]
     },
     "execution_count": 6,
     "metadata": {},
     "output_type": "execute_result"
    }
   ],
   "source": [
    "picking_df.columns"
   ]
  },
  {
   "cell_type": "code",
   "execution_count": 7,
   "metadata": {},
   "outputs": [],
   "source": [
    "picking_df['picking_date'] = picking_df['picking_date'].apply(convert_string_to_date)\n",
    "picking_df['order_receive_date'] = picking_df['order_receive_date'].apply(convert_string_to_date)\n",
    "picking_df['shipping_date'] = picking_df['shipping_date'].apply(convert_string_to_date)\n",
    "picking_df['picking_hour'] = pd.to_datetime(picking_df['picking_hour'])"
   ]
  },
  {
   "cell_type": "code",
   "execution_count": 8,
   "metadata": {},
   "outputs": [],
   "source": [
    "order_df['order_item'] = order_df['order_item'].fillna(0)"
   ]
  },
  {
   "cell_type": "code",
   "execution_count": 9,
   "metadata": {},
   "outputs": [],
   "source": [
    "order_df['order_num'] = order_df['order_num'].astype('str')\n",
    "order_df['order_item'] = order_df['order_item'].astype('int16')\n",
    "order_df['material_num'] = order_df['material_num'].astype('str')\n",
    "order_df['order_amount'] = order_df['order_amount'].astype('int32')\n",
    "\n",
    "# order_df['order_type'] = order_df['order_type'].astype('category')\n",
    "# order_df['palette_std'] = order_df['palette_std'].astype('category')\n",
    "# order_df['customer_num'] = order_df['customer_num'].astype('category')\n",
    "# order_df['operation_type'] = order_df['operation_type'].astype('category')"
   ]
  },
  {
   "cell_type": "code",
   "execution_count": 10,
   "metadata": {},
   "outputs": [
    {
     "data": {
      "text/html": [
       "<div>\n",
       "<style scoped>\n",
       "    .dataframe tbody tr th:only-of-type {\n",
       "        vertical-align: middle;\n",
       "    }\n",
       "\n",
       "    .dataframe tbody tr th {\n",
       "        vertical-align: top;\n",
       "    }\n",
       "\n",
       "    .dataframe thead th {\n",
       "        text-align: right;\n",
       "    }\n",
       "</style>\n",
       "<table border=\"1\" class=\"dataframe\">\n",
       "  <thead>\n",
       "    <tr style=\"text-align: right;\">\n",
       "      <th></th>\n",
       "      <th>order_num</th>\n",
       "      <th>order_type</th>\n",
       "      <th>material_num</th>\n",
       "      <th>picked_amount</th>\n",
       "      <th>picking_date</th>\n",
       "      <th>picking_hour</th>\n",
       "      <th>order_receive_date</th>\n",
       "      <th>shipping_date</th>\n",
       "      <th>customer_num</th>\n",
       "      <th>operation_type</th>\n",
       "    </tr>\n",
       "  </thead>\n",
       "  <tbody>\n",
       "    <tr>\n",
       "      <th>0</th>\n",
       "      <td>72616784</td>\n",
       "      <td>10.0</td>\n",
       "      <td>61000058</td>\n",
       "      <td>45</td>\n",
       "      <td>2019-12-28</td>\n",
       "      <td>2021-11-11 11:10:00</td>\n",
       "      <td>2019-12-26</td>\n",
       "      <td>2020-01-02</td>\n",
       "      <td>C10005</td>\n",
       "      <td>O1</td>\n",
       "    </tr>\n",
       "    <tr>\n",
       "      <th>1</th>\n",
       "      <td>72616784</td>\n",
       "      <td>10.0</td>\n",
       "      <td>61000058</td>\n",
       "      <td>45</td>\n",
       "      <td>2019-12-28</td>\n",
       "      <td>2021-11-11 11:11:00</td>\n",
       "      <td>2019-12-26</td>\n",
       "      <td>2020-01-02</td>\n",
       "      <td>C10005</td>\n",
       "      <td>O1</td>\n",
       "    </tr>\n",
       "    <tr>\n",
       "      <th>2</th>\n",
       "      <td>72616784</td>\n",
       "      <td>10.0</td>\n",
       "      <td>61000058</td>\n",
       "      <td>45</td>\n",
       "      <td>2019-12-28</td>\n",
       "      <td>2021-11-11 11:11:00</td>\n",
       "      <td>2019-12-26</td>\n",
       "      <td>2020-01-02</td>\n",
       "      <td>C10005</td>\n",
       "      <td>O1</td>\n",
       "    </tr>\n",
       "    <tr>\n",
       "      <th>3</th>\n",
       "      <td>72616784</td>\n",
       "      <td>10.0</td>\n",
       "      <td>61000058</td>\n",
       "      <td>45</td>\n",
       "      <td>2019-12-28</td>\n",
       "      <td>2021-11-11 11:12:00</td>\n",
       "      <td>2019-12-26</td>\n",
       "      <td>2020-01-02</td>\n",
       "      <td>C10005</td>\n",
       "      <td>O1</td>\n",
       "    </tr>\n",
       "    <tr>\n",
       "      <th>4</th>\n",
       "      <td>72616784</td>\n",
       "      <td>10.0</td>\n",
       "      <td>61000058</td>\n",
       "      <td>45</td>\n",
       "      <td>2019-12-28</td>\n",
       "      <td>2021-11-11 11:10:00</td>\n",
       "      <td>2019-12-26</td>\n",
       "      <td>2020-01-02</td>\n",
       "      <td>C10005</td>\n",
       "      <td>O1</td>\n",
       "    </tr>\n",
       "  </tbody>\n",
       "</table>\n",
       "</div>"
      ],
      "text/plain": [
       "  order_num  order_type material_num  picked_amount picking_date  \\\n",
       "0  72616784        10.0     61000058             45   2019-12-28   \n",
       "1  72616784        10.0     61000058             45   2019-12-28   \n",
       "2  72616784        10.0     61000058             45   2019-12-28   \n",
       "3  72616784        10.0     61000058             45   2019-12-28   \n",
       "4  72616784        10.0     61000058             45   2019-12-28   \n",
       "\n",
       "         picking_hour order_receive_date shipping_date customer_num  \\\n",
       "0 2021-11-11 11:10:00         2019-12-26    2020-01-02       C10005   \n",
       "1 2021-11-11 11:11:00         2019-12-26    2020-01-02       C10005   \n",
       "2 2021-11-11 11:11:00         2019-12-26    2020-01-02       C10005   \n",
       "3 2021-11-11 11:12:00         2019-12-26    2020-01-02       C10005   \n",
       "4 2021-11-11 11:10:00         2019-12-26    2020-01-02       C10005   \n",
       "\n",
       "  operation_type  \n",
       "0             O1  \n",
       "1             O1  \n",
       "2             O1  \n",
       "3             O1  \n",
       "4             O1  "
      ]
     },
     "execution_count": 10,
     "metadata": {},
     "output_type": "execute_result"
    }
   ],
   "source": [
    "picking_df.head()"
   ]
  },
  {
   "cell_type": "code",
   "execution_count": 11,
   "metadata": {
    "scrolled": false
   },
   "outputs": [],
   "source": [
    "picking_df['order_num'] = picking_df['order_num'].astype('str')\n",
    "picking_df['material_num'] = picking_df['material_num'].astype('str')\n",
    "picking_df['picked_amount'] = picking_df['picked_amount'].astype('int32')\n",
    "\n",
    "# picking_df['order_type'] = picking_df['order_type'].astype('category')\n",
    "# picking_df['customer_num'] = picking_df['customer_num'].astype('category')\n",
    "# picking_df['operation_type'] = picking_df['operation_type'].astype('category')"
   ]
  },
  {
   "cell_type": "code",
   "execution_count": 12,
   "metadata": {},
   "outputs": [
    {
     "data": {
      "text/plain": [
       "order_num           0\n",
       "order_item          0\n",
       "order_type         12\n",
       "material_num        0\n",
       "order_amount        0\n",
       "palette_std       935\n",
       "customer_num        0\n",
       "order_date          0\n",
       "operation_type      0\n",
       "dtype: int64"
      ]
     },
     "execution_count": 12,
     "metadata": {},
     "output_type": "execute_result"
    }
   ],
   "source": [
    "order_df.isna().sum()"
   ]
  },
  {
   "cell_type": "code",
   "execution_count": 13,
   "metadata": {
    "scrolled": true
   },
   "outputs": [
    {
     "data": {
      "text/plain": [
       "order_num                 0\n",
       "order_type            27970\n",
       "material_num              0\n",
       "picked_amount             0\n",
       "picking_date              0\n",
       "picking_hour              0\n",
       "order_receive_date        0\n",
       "shipping_date             0\n",
       "customer_num              5\n",
       "operation_type            0\n",
       "dtype: int64"
      ]
     },
     "execution_count": 13,
     "metadata": {},
     "output_type": "execute_result"
    }
   ],
   "source": [
    "picking_df.isna().sum()"
   ]
  },
  {
   "cell_type": "code",
   "execution_count": 14,
   "metadata": {},
   "outputs": [
    {
     "data": {
      "text/plain": [
       "array(['10000692', '10000000', '10187005'], dtype=object)"
      ]
     },
     "execution_count": 14,
     "metadata": {},
     "output_type": "execute_result"
    }
   ],
   "source": [
    "picking_df[picking_df['customer_num'].isna()].material_num.unique()"
   ]
  },
  {
   "cell_type": "code",
   "execution_count": 15,
   "metadata": {},
   "outputs": [
    {
     "data": {
      "text/plain": [
       "array([nan], dtype=object)"
      ]
     },
     "execution_count": 15,
     "metadata": {},
     "output_type": "execute_result"
    }
   ],
   "source": [
    "picking_df[picking_df['material_num']=='10187005']['customer_num'].unique()"
   ]
  },
  {
   "cell_type": "code",
   "execution_count": 16,
   "metadata": {},
   "outputs": [],
   "source": [
    "num_unique_values_in_groups = order_df.groupby(['order_num', 'material_num']).agg({'order_item':'count',\n",
    "                                                     'order_type':'nunique',\n",
    "                                                     'order_amount':'sum',\n",
    "                                                     'palette_std':'nunique',\n",
    "                                                     'customer_num':'nunique',\n",
    "                                                     'order_date':'nunique',\n",
    "                                                     'operation_type':'nunique'\n",
    "                                                     })"
   ]
  },
  {
   "cell_type": "code",
   "execution_count": 17,
   "metadata": {},
   "outputs": [
    {
     "data": {
      "text/plain": [
       "order_item           16\n",
       "order_type            1\n",
       "order_amount      21000\n",
       "palette_std           2\n",
       "customer_num          2\n",
       "order_date            1\n",
       "operation_type        1\n",
       "dtype: int64"
      ]
     },
     "execution_count": 17,
     "metadata": {},
     "output_type": "execute_result"
    }
   ],
   "source": [
    "num_unique_values_in_groups.max()"
   ]
  },
  {
   "cell_type": "code",
   "execution_count": 18,
   "metadata": {},
   "outputs": [
    {
     "ename": "SyntaxError",
     "evalue": "invalid syntax (<ipython-input-18-4c083ab8598c>, line 1)",
     "output_type": "error",
     "traceback": [
      "\u001b[1;36m  File \u001b[1;32m\"<ipython-input-18-4c083ab8598c>\"\u001b[1;36m, line \u001b[1;32m1\u001b[0m\n\u001b[1;33m    palette_std ve customer_num sorularının cevabına göre groupby'ı revize et\u001b[0m\n\u001b[1;37m                ^\u001b[0m\n\u001b[1;31mSyntaxError\u001b[0m\u001b[1;31m:\u001b[0m invalid syntax\n"
     ]
    }
   ],
   "source": [
    "palette_std ve customer_num sorularının cevabına göre groupby'ı revize et"
   ]
  },
  {
   "cell_type": "code",
   "execution_count": 19,
   "metadata": {
    "scrolled": false
   },
   "outputs": [],
   "source": [
    "order_df = order_df.groupby(['order_num', 'material_num']).agg({'order_item':'count',\n",
    "                                                     'order_type':'max',\n",
    "                                                     'order_amount':'sum',\n",
    "                                                     'palette_std':'max',\n",
    "                                                     'customer_num':'max',\n",
    "                                                     'order_date':'max',\n",
    "                                                     'operation_type':'max'\n",
    "                                                     }).reset_index()"
   ]
  },
  {
   "cell_type": "code",
   "execution_count": 20,
   "metadata": {},
   "outputs": [
    {
     "data": {
      "text/html": [
       "<div>\n",
       "<style scoped>\n",
       "    .dataframe tbody tr th:only-of-type {\n",
       "        vertical-align: middle;\n",
       "    }\n",
       "\n",
       "    .dataframe tbody tr th {\n",
       "        vertical-align: top;\n",
       "    }\n",
       "\n",
       "    .dataframe thead th {\n",
       "        text-align: right;\n",
       "    }\n",
       "</style>\n",
       "<table border=\"1\" class=\"dataframe\">\n",
       "  <thead>\n",
       "    <tr style=\"text-align: right;\">\n",
       "      <th></th>\n",
       "      <th>order_num</th>\n",
       "      <th>material_num</th>\n",
       "      <th>order_item</th>\n",
       "      <th>order_type</th>\n",
       "      <th>order_amount</th>\n",
       "      <th>palette_std</th>\n",
       "      <th>customer_num</th>\n",
       "      <th>order_date</th>\n",
       "      <th>operation_type</th>\n",
       "    </tr>\n",
       "  </thead>\n",
       "  <tbody>\n",
       "    <tr>\n",
       "      <th>0</th>\n",
       "      <td>1161248270</td>\n",
       "      <td>4016984</td>\n",
       "      <td>1</td>\n",
       "      <td>NaN</td>\n",
       "      <td>24</td>\n",
       "      <td>210.0</td>\n",
       "      <td>M10354</td>\n",
       "      <td>2020-02-05</td>\n",
       "      <td>O2</td>\n",
       "    </tr>\n",
       "    <tr>\n",
       "      <th>1</th>\n",
       "      <td>1161248270</td>\n",
       "      <td>91704</td>\n",
       "      <td>1</td>\n",
       "      <td>NaN</td>\n",
       "      <td>2</td>\n",
       "      <td>80.0</td>\n",
       "      <td>M10354</td>\n",
       "      <td>2020-02-05</td>\n",
       "      <td>O2</td>\n",
       "    </tr>\n",
       "    <tr>\n",
       "      <th>2</th>\n",
       "      <td>4507790922</td>\n",
       "      <td>4027905</td>\n",
       "      <td>1</td>\n",
       "      <td>NaN</td>\n",
       "      <td>40</td>\n",
       "      <td>210.0</td>\n",
       "      <td>M10140</td>\n",
       "      <td>2020-08-25</td>\n",
       "      <td>O2</td>\n",
       "    </tr>\n",
       "    <tr>\n",
       "      <th>3</th>\n",
       "      <td>4507790922</td>\n",
       "      <td>4054097</td>\n",
       "      <td>1</td>\n",
       "      <td>NaN</td>\n",
       "      <td>3</td>\n",
       "      <td>48.0</td>\n",
       "      <td>M10140</td>\n",
       "      <td>2020-08-25</td>\n",
       "      <td>O2</td>\n",
       "    </tr>\n",
       "    <tr>\n",
       "      <th>4</th>\n",
       "      <td>4507790922</td>\n",
       "      <td>4055166</td>\n",
       "      <td>1</td>\n",
       "      <td>NaN</td>\n",
       "      <td>5</td>\n",
       "      <td>78.0</td>\n",
       "      <td>M10140</td>\n",
       "      <td>2020-08-25</td>\n",
       "      <td>O2</td>\n",
       "    </tr>\n",
       "    <tr>\n",
       "      <th>...</th>\n",
       "      <td>...</td>\n",
       "      <td>...</td>\n",
       "      <td>...</td>\n",
       "      <td>...</td>\n",
       "      <td>...</td>\n",
       "      <td>...</td>\n",
       "      <td>...</td>\n",
       "      <td>...</td>\n",
       "      <td>...</td>\n",
       "    </tr>\n",
       "    <tr>\n",
       "      <th>485193</th>\n",
       "      <td>9308445480</td>\n",
       "      <td>4002326</td>\n",
       "      <td>1</td>\n",
       "      <td>10.0</td>\n",
       "      <td>2</td>\n",
       "      <td>90.0</td>\n",
       "      <td>M10157</td>\n",
       "      <td>2020-12-29</td>\n",
       "      <td>O2</td>\n",
       "    </tr>\n",
       "    <tr>\n",
       "      <th>485194</th>\n",
       "      <td>9308445480</td>\n",
       "      <td>4002332</td>\n",
       "      <td>1</td>\n",
       "      <td>10.0</td>\n",
       "      <td>4</td>\n",
       "      <td>60.0</td>\n",
       "      <td>M10157</td>\n",
       "      <td>2020-12-29</td>\n",
       "      <td>O2</td>\n",
       "    </tr>\n",
       "    <tr>\n",
       "      <th>485195</th>\n",
       "      <td>9308445481</td>\n",
       "      <td>915284</td>\n",
       "      <td>1</td>\n",
       "      <td>10.0</td>\n",
       "      <td>4</td>\n",
       "      <td>96.0</td>\n",
       "      <td>M10157</td>\n",
       "      <td>2020-12-29</td>\n",
       "      <td>O2</td>\n",
       "    </tr>\n",
       "    <tr>\n",
       "      <th>485196</th>\n",
       "      <td>9308445485</td>\n",
       "      <td>4052041</td>\n",
       "      <td>1</td>\n",
       "      <td>10.0</td>\n",
       "      <td>2</td>\n",
       "      <td>216.0</td>\n",
       "      <td>M10153</td>\n",
       "      <td>2020-12-29</td>\n",
       "      <td>O2</td>\n",
       "    </tr>\n",
       "    <tr>\n",
       "      <th>485197</th>\n",
       "      <td>9308445485</td>\n",
       "      <td>4052202</td>\n",
       "      <td>1</td>\n",
       "      <td>10.0</td>\n",
       "      <td>2</td>\n",
       "      <td>20.0</td>\n",
       "      <td>M10153</td>\n",
       "      <td>2020-12-29</td>\n",
       "      <td>O2</td>\n",
       "    </tr>\n",
       "  </tbody>\n",
       "</table>\n",
       "<p>485198 rows × 9 columns</p>\n",
       "</div>"
      ],
      "text/plain": [
       "         order_num material_num  order_item  order_type  order_amount  \\\n",
       "0       1161248270      4016984           1         NaN            24   \n",
       "1       1161248270        91704           1         NaN             2   \n",
       "2       4507790922      4027905           1         NaN            40   \n",
       "3       4507790922      4054097           1         NaN             3   \n",
       "4       4507790922      4055166           1         NaN             5   \n",
       "...            ...          ...         ...         ...           ...   \n",
       "485193  9308445480      4002326           1        10.0             2   \n",
       "485194  9308445480      4002332           1        10.0             4   \n",
       "485195  9308445481       915284           1        10.0             4   \n",
       "485196  9308445485      4052041           1        10.0             2   \n",
       "485197  9308445485      4052202           1        10.0             2   \n",
       "\n",
       "        palette_std customer_num order_date operation_type  \n",
       "0             210.0       M10354 2020-02-05             O2  \n",
       "1              80.0       M10354 2020-02-05             O2  \n",
       "2             210.0       M10140 2020-08-25             O2  \n",
       "3              48.0       M10140 2020-08-25             O2  \n",
       "4              78.0       M10140 2020-08-25             O2  \n",
       "...             ...          ...        ...            ...  \n",
       "485193         90.0       M10157 2020-12-29             O2  \n",
       "485194         60.0       M10157 2020-12-29             O2  \n",
       "485195         96.0       M10157 2020-12-29             O2  \n",
       "485196        216.0       M10153 2020-12-29             O2  \n",
       "485197         20.0       M10153 2020-12-29             O2  \n",
       "\n",
       "[485198 rows x 9 columns]"
      ]
     },
     "execution_count": 20,
     "metadata": {},
     "output_type": "execute_result"
    }
   ],
   "source": [
    "order_df"
   ]
  },
  {
   "cell_type": "code",
   "execution_count": 24,
   "metadata": {},
   "outputs": [],
   "source": [
    "merged_df = pd.merge(order_df, picking_df, on=['order_num', 'material_num'], how='left')"
   ]
  },
  {
   "cell_type": "code",
   "execution_count": 26,
   "metadata": {},
   "outputs": [
    {
     "data": {
      "text/plain": [
       "order_num                 0\n",
       "material_num              0\n",
       "order_item                0\n",
       "order_type_x             31\n",
       "order_amount              0\n",
       "palette_std            3151\n",
       "customer_num_x            0\n",
       "order_date                0\n",
       "operation_type_x          0\n",
       "order_type_y          26963\n",
       "picked_amount         26932\n",
       "picking_date          26932\n",
       "picking_hour          26932\n",
       "order_receive_date    26932\n",
       "shipping_date         26932\n",
       "customer_num_y        26932\n",
       "operation_type_y      26932\n",
       "dtype: int64"
      ]
     },
     "execution_count": 26,
     "metadata": {},
     "output_type": "execute_result"
    }
   ],
   "source": [
    "merged_df.isna().sum()"
   ]
  },
  {
   "cell_type": "code",
   "execution_count": 34,
   "metadata": {},
   "outputs": [
    {
     "data": {
      "text/html": [
       "<div>\n",
       "<style scoped>\n",
       "    .dataframe tbody tr th:only-of-type {\n",
       "        vertical-align: middle;\n",
       "    }\n",
       "\n",
       "    .dataframe tbody tr th {\n",
       "        vertical-align: top;\n",
       "    }\n",
       "\n",
       "    .dataframe thead th {\n",
       "        text-align: right;\n",
       "    }\n",
       "</style>\n",
       "<table border=\"1\" class=\"dataframe\">\n",
       "  <thead>\n",
       "    <tr style=\"text-align: right;\">\n",
       "      <th></th>\n",
       "      <th>order_num</th>\n",
       "      <th>material_num</th>\n",
       "      <th>order_item</th>\n",
       "      <th>order_type_x</th>\n",
       "      <th>order_amount</th>\n",
       "      <th>palette_std</th>\n",
       "      <th>customer_num_x</th>\n",
       "      <th>order_date</th>\n",
       "      <th>operation_type_x</th>\n",
       "      <th>order_type_y</th>\n",
       "      <th>picked_amount</th>\n",
       "      <th>picking_date</th>\n",
       "      <th>picking_hour</th>\n",
       "      <th>order_receive_date</th>\n",
       "      <th>shipping_date</th>\n",
       "      <th>customer_num_y</th>\n",
       "      <th>operation_type_y</th>\n",
       "    </tr>\n",
       "  </thead>\n",
       "  <tbody>\n",
       "    <tr>\n",
       "      <th>281038</th>\n",
       "      <td>72658654</td>\n",
       "      <td>10187005</td>\n",
       "      <td>1</td>\n",
       "      <td>20.0</td>\n",
       "      <td>1</td>\n",
       "      <td>1.0</td>\n",
       "      <td>C-10008</td>\n",
       "      <td>2020-10-30</td>\n",
       "      <td>O1</td>\n",
       "      <td>NaN</td>\n",
       "      <td>NaN</td>\n",
       "      <td>NaT</td>\n",
       "      <td>NaT</td>\n",
       "      <td>NaT</td>\n",
       "      <td>NaT</td>\n",
       "      <td>NaN</td>\n",
       "      <td>NaN</td>\n",
       "    </tr>\n",
       "    <tr>\n",
       "      <th>281044</th>\n",
       "      <td>72658655</td>\n",
       "      <td>10187005</td>\n",
       "      <td>1</td>\n",
       "      <td>20.0</td>\n",
       "      <td>1</td>\n",
       "      <td>1.0</td>\n",
       "      <td>C-10185</td>\n",
       "      <td>2020-10-30</td>\n",
       "      <td>O1</td>\n",
       "      <td>NaN</td>\n",
       "      <td>NaN</td>\n",
       "      <td>NaT</td>\n",
       "      <td>NaT</td>\n",
       "      <td>NaT</td>\n",
       "      <td>NaT</td>\n",
       "      <td>NaN</td>\n",
       "      <td>NaN</td>\n",
       "    </tr>\n",
       "    <tr>\n",
       "      <th>281048</th>\n",
       "      <td>72658656</td>\n",
       "      <td>10187005</td>\n",
       "      <td>1</td>\n",
       "      <td>20.0</td>\n",
       "      <td>1</td>\n",
       "      <td>1.0</td>\n",
       "      <td>C-10198</td>\n",
       "      <td>2020-10-30</td>\n",
       "      <td>O1</td>\n",
       "      <td>NaN</td>\n",
       "      <td>NaN</td>\n",
       "      <td>NaT</td>\n",
       "      <td>NaT</td>\n",
       "      <td>NaT</td>\n",
       "      <td>NaT</td>\n",
       "      <td>NaN</td>\n",
       "      <td>NaN</td>\n",
       "    </tr>\n",
       "    <tr>\n",
       "      <th>281050</th>\n",
       "      <td>72658657</td>\n",
       "      <td>10187005</td>\n",
       "      <td>1</td>\n",
       "      <td>20.0</td>\n",
       "      <td>1</td>\n",
       "      <td>1.0</td>\n",
       "      <td>C-10190</td>\n",
       "      <td>2020-10-30</td>\n",
       "      <td>O1</td>\n",
       "      <td>NaN</td>\n",
       "      <td>NaN</td>\n",
       "      <td>NaT</td>\n",
       "      <td>NaT</td>\n",
       "      <td>NaT</td>\n",
       "      <td>NaT</td>\n",
       "      <td>NaN</td>\n",
       "      <td>NaN</td>\n",
       "    </tr>\n",
       "    <tr>\n",
       "      <th>281054</th>\n",
       "      <td>72658658</td>\n",
       "      <td>10187005</td>\n",
       "      <td>1</td>\n",
       "      <td>20.0</td>\n",
       "      <td>1</td>\n",
       "      <td>1.0</td>\n",
       "      <td>C-10128</td>\n",
       "      <td>2020-10-30</td>\n",
       "      <td>O1</td>\n",
       "      <td>NaN</td>\n",
       "      <td>NaN</td>\n",
       "      <td>NaT</td>\n",
       "      <td>NaT</td>\n",
       "      <td>NaT</td>\n",
       "      <td>NaT</td>\n",
       "      <td>NaN</td>\n",
       "      <td>NaN</td>\n",
       "    </tr>\n",
       "    <tr>\n",
       "      <th>...</th>\n",
       "      <td>...</td>\n",
       "      <td>...</td>\n",
       "      <td>...</td>\n",
       "      <td>...</td>\n",
       "      <td>...</td>\n",
       "      <td>...</td>\n",
       "      <td>...</td>\n",
       "      <td>...</td>\n",
       "      <td>...</td>\n",
       "      <td>...</td>\n",
       "      <td>...</td>\n",
       "      <td>...</td>\n",
       "      <td>...</td>\n",
       "      <td>...</td>\n",
       "      <td>...</td>\n",
       "      <td>...</td>\n",
       "      <td>...</td>\n",
       "    </tr>\n",
       "    <tr>\n",
       "      <th>711089</th>\n",
       "      <td>9308445479</td>\n",
       "      <td>969948</td>\n",
       "      <td>1</td>\n",
       "      <td>10.0</td>\n",
       "      <td>66</td>\n",
       "      <td>66.0</td>\n",
       "      <td>M10151</td>\n",
       "      <td>2020-12-29</td>\n",
       "      <td>O2</td>\n",
       "      <td>NaN</td>\n",
       "      <td>NaN</td>\n",
       "      <td>NaT</td>\n",
       "      <td>NaT</td>\n",
       "      <td>NaT</td>\n",
       "      <td>NaT</td>\n",
       "      <td>NaN</td>\n",
       "      <td>NaN</td>\n",
       "    </tr>\n",
       "    <tr>\n",
       "      <th>711090</th>\n",
       "      <td>9308445479</td>\n",
       "      <td>969960</td>\n",
       "      <td>2</td>\n",
       "      <td>10.0</td>\n",
       "      <td>576</td>\n",
       "      <td>288.0</td>\n",
       "      <td>M10151</td>\n",
       "      <td>2020-12-29</td>\n",
       "      <td>O2</td>\n",
       "      <td>NaN</td>\n",
       "      <td>NaN</td>\n",
       "      <td>NaT</td>\n",
       "      <td>NaT</td>\n",
       "      <td>NaT</td>\n",
       "      <td>NaT</td>\n",
       "      <td>NaN</td>\n",
       "      <td>NaN</td>\n",
       "    </tr>\n",
       "    <tr>\n",
       "      <th>711091</th>\n",
       "      <td>9308445479</td>\n",
       "      <td>969961</td>\n",
       "      <td>1</td>\n",
       "      <td>10.0</td>\n",
       "      <td>200</td>\n",
       "      <td>288.0</td>\n",
       "      <td>M10151</td>\n",
       "      <td>2020-12-29</td>\n",
       "      <td>O2</td>\n",
       "      <td>NaN</td>\n",
       "      <td>NaN</td>\n",
       "      <td>NaT</td>\n",
       "      <td>NaT</td>\n",
       "      <td>NaT</td>\n",
       "      <td>NaT</td>\n",
       "      <td>NaN</td>\n",
       "      <td>NaN</td>\n",
       "    </tr>\n",
       "    <tr>\n",
       "      <th>711092</th>\n",
       "      <td>9308445479</td>\n",
       "      <td>969962</td>\n",
       "      <td>1</td>\n",
       "      <td>10.0</td>\n",
       "      <td>288</td>\n",
       "      <td>288.0</td>\n",
       "      <td>M10151</td>\n",
       "      <td>2020-12-29</td>\n",
       "      <td>O2</td>\n",
       "      <td>NaN</td>\n",
       "      <td>NaN</td>\n",
       "      <td>NaT</td>\n",
       "      <td>NaT</td>\n",
       "      <td>NaT</td>\n",
       "      <td>NaT</td>\n",
       "      <td>NaN</td>\n",
       "      <td>NaN</td>\n",
       "    </tr>\n",
       "    <tr>\n",
       "      <th>711093</th>\n",
       "      <td>9308445479</td>\n",
       "      <td>969963</td>\n",
       "      <td>1</td>\n",
       "      <td>10.0</td>\n",
       "      <td>150</td>\n",
       "      <td>288.0</td>\n",
       "      <td>M10151</td>\n",
       "      <td>2020-12-29</td>\n",
       "      <td>O2</td>\n",
       "      <td>NaN</td>\n",
       "      <td>NaN</td>\n",
       "      <td>NaT</td>\n",
       "      <td>NaT</td>\n",
       "      <td>NaT</td>\n",
       "      <td>NaT</td>\n",
       "      <td>NaN</td>\n",
       "      <td>NaN</td>\n",
       "    </tr>\n",
       "  </tbody>\n",
       "</table>\n",
       "<p>26932 rows × 17 columns</p>\n",
       "</div>"
      ],
      "text/plain": [
       "         order_num material_num  order_item  order_type_x  order_amount  \\\n",
       "281038    72658654     10187005           1          20.0             1   \n",
       "281044    72658655     10187005           1          20.0             1   \n",
       "281048    72658656     10187005           1          20.0             1   \n",
       "281050    72658657     10187005           1          20.0             1   \n",
       "281054    72658658     10187005           1          20.0             1   \n",
       "...            ...          ...         ...           ...           ...   \n",
       "711089  9308445479       969948           1          10.0            66   \n",
       "711090  9308445479       969960           2          10.0           576   \n",
       "711091  9308445479       969961           1          10.0           200   \n",
       "711092  9308445479       969962           1          10.0           288   \n",
       "711093  9308445479       969963           1          10.0           150   \n",
       "\n",
       "        palette_std customer_num_x order_date operation_type_x  order_type_y  \\\n",
       "281038          1.0        C-10008 2020-10-30               O1           NaN   \n",
       "281044          1.0        C-10185 2020-10-30               O1           NaN   \n",
       "281048          1.0        C-10198 2020-10-30               O1           NaN   \n",
       "281050          1.0        C-10190 2020-10-30               O1           NaN   \n",
       "281054          1.0        C-10128 2020-10-30               O1           NaN   \n",
       "...             ...            ...        ...              ...           ...   \n",
       "711089         66.0         M10151 2020-12-29               O2           NaN   \n",
       "711090        288.0         M10151 2020-12-29               O2           NaN   \n",
       "711091        288.0         M10151 2020-12-29               O2           NaN   \n",
       "711092        288.0         M10151 2020-12-29               O2           NaN   \n",
       "711093        288.0         M10151 2020-12-29               O2           NaN   \n",
       "\n",
       "        picked_amount picking_date picking_hour order_receive_date  \\\n",
       "281038            NaN          NaT          NaT                NaT   \n",
       "281044            NaN          NaT          NaT                NaT   \n",
       "281048            NaN          NaT          NaT                NaT   \n",
       "281050            NaN          NaT          NaT                NaT   \n",
       "281054            NaN          NaT          NaT                NaT   \n",
       "...               ...          ...          ...                ...   \n",
       "711089            NaN          NaT          NaT                NaT   \n",
       "711090            NaN          NaT          NaT                NaT   \n",
       "711091            NaN          NaT          NaT                NaT   \n",
       "711092            NaN          NaT          NaT                NaT   \n",
       "711093            NaN          NaT          NaT                NaT   \n",
       "\n",
       "       shipping_date customer_num_y operation_type_y  \n",
       "281038           NaT            NaN              NaN  \n",
       "281044           NaT            NaN              NaN  \n",
       "281048           NaT            NaN              NaN  \n",
       "281050           NaT            NaN              NaN  \n",
       "281054           NaT            NaN              NaN  \n",
       "...              ...            ...              ...  \n",
       "711089           NaT            NaN              NaN  \n",
       "711090           NaT            NaN              NaN  \n",
       "711091           NaT            NaN              NaN  \n",
       "711092           NaT            NaN              NaN  \n",
       "711093           NaT            NaN              NaN  \n",
       "\n",
       "[26932 rows x 17 columns]"
      ]
     },
     "execution_count": 34,
     "metadata": {},
     "output_type": "execute_result"
    }
   ],
   "source": [
    "merged_df[merged_df['picked_amount'].isna()]"
   ]
  },
  {
   "cell_type": "code",
   "execution_count": 41,
   "metadata": {},
   "outputs": [
    {
     "data": {
      "text/html": [
       "<div>\n",
       "<style scoped>\n",
       "    .dataframe tbody tr th:only-of-type {\n",
       "        vertical-align: middle;\n",
       "    }\n",
       "\n",
       "    .dataframe tbody tr th {\n",
       "        vertical-align: top;\n",
       "    }\n",
       "\n",
       "    .dataframe thead th {\n",
       "        text-align: right;\n",
       "    }\n",
       "</style>\n",
       "<table border=\"1\" class=\"dataframe\">\n",
       "  <thead>\n",
       "    <tr style=\"text-align: right;\">\n",
       "      <th></th>\n",
       "      <th>order_num</th>\n",
       "      <th>material_num</th>\n",
       "      <th>order_item</th>\n",
       "      <th>order_type</th>\n",
       "      <th>order_amount</th>\n",
       "      <th>palette_std</th>\n",
       "      <th>customer_num</th>\n",
       "      <th>order_date</th>\n",
       "      <th>operation_type</th>\n",
       "    </tr>\n",
       "  </thead>\n",
       "  <tbody>\n",
       "    <tr>\n",
       "      <th>218433</th>\n",
       "      <td>72658658</td>\n",
       "      <td>10187005</td>\n",
       "      <td>1</td>\n",
       "      <td>20.0</td>\n",
       "      <td>1</td>\n",
       "      <td>1.0</td>\n",
       "      <td>C-10128</td>\n",
       "      <td>2020-10-30</td>\n",
       "      <td>O1</td>\n",
       "    </tr>\n",
       "    <tr>\n",
       "      <th>218434</th>\n",
       "      <td>72658658</td>\n",
       "      <td>61000066</td>\n",
       "      <td>1</td>\n",
       "      <td>20.0</td>\n",
       "      <td>60</td>\n",
       "      <td>96.0</td>\n",
       "      <td>C-10128</td>\n",
       "      <td>2020-10-30</td>\n",
       "      <td>O1</td>\n",
       "    </tr>\n",
       "  </tbody>\n",
       "</table>\n",
       "</div>"
      ],
      "text/plain": [
       "       order_num material_num  order_item  order_type  order_amount  \\\n",
       "218433  72658658     10187005           1        20.0             1   \n",
       "218434  72658658     61000066           1        20.0            60   \n",
       "\n",
       "        palette_std customer_num order_date operation_type  \n",
       "218433          1.0      C-10128 2020-10-30             O1  \n",
       "218434         96.0      C-10128 2020-10-30             O1  "
      ]
     },
     "execution_count": 41,
     "metadata": {},
     "output_type": "execute_result"
    }
   ],
   "source": [
    "order_df[order_df['order_num']=='72658658']"
   ]
  },
  {
   "cell_type": "code",
   "execution_count": null,
   "metadata": {},
   "outputs": [],
   "source": [
    "pd.to_datetime(picking_df['picking_hour'])"
   ]
  },
  {
   "cell_type": "code",
   "execution_count": null,
   "metadata": {},
   "outputs": [],
   "source": [
    "picking_df.dtypes"
   ]
  },
  {
   "cell_type": "code",
   "execution_count": null,
   "metadata": {},
   "outputs": [],
   "source": [
    "picking_df.picked_amount.value_counts()"
   ]
  },
  {
   "cell_type": "code",
   "execution_count": null,
   "metadata": {},
   "outputs": [],
   "source": [
    "order_df.head()"
   ]
  },
  {
   "cell_type": "code",
   "execution_count": null,
   "metadata": {},
   "outputs": [],
   "source": []
  },
  {
   "cell_type": "code",
   "execution_count": null,
   "metadata": {},
   "outputs": [],
   "source": [
    "order_df[order_df['order_item'].isna()]"
   ]
  },
  {
   "cell_type": "code",
   "execution_count": null,
   "metadata": {},
   "outputs": [],
   "source": [
    "order_item "
   ]
  },
  {
   "cell_type": "code",
   "execution_count": null,
   "metadata": {},
   "outputs": [],
   "source": [
    "len(set(picking_df['Urun Kodu'].unique()).intersection(order_df['material_num'].unique()))"
   ]
  },
  {
   "cell_type": "code",
   "execution_count": null,
   "metadata": {},
   "outputs": [],
   "source": [
    "len(set(order_df['material_num'].unique()<))"
   ]
  },
  {
   "cell_type": "code",
   "execution_count": null,
   "metadata": {},
   "outputs": [],
   "source": [
    "order_df.head()"
   ]
  },
  {
   "cell_type": "code",
   "execution_count": null,
   "metadata": {},
   "outputs": [],
   "source": [
    "for col in order_df.columns:\n",
    "    print(col, ':', order_df[col].nunique())"
   ]
  },
  {
   "cell_type": "code",
   "execution_count": null,
   "metadata": {},
   "outputs": [],
   "source": [
    "order_df.isna().sum()"
   ]
  },
  {
   "cell_type": "code",
   "execution_count": null,
   "metadata": {},
   "outputs": [],
   "source": [
    "at = order_df.groupby(['order_num', 'material_num'])['customer_num'].count().reset_index()\n",
    "at"
   ]
  },
  {
   "cell_type": "code",
   "execution_count": null,
   "metadata": {
    "scrolled": false
   },
   "outputs": [],
   "source": [
    "at[at['customer_num']>1]"
   ]
  },
  {
   "cell_type": "code",
   "execution_count": null,
   "metadata": {},
   "outputs": [],
   "source": []
  },
  {
   "cell_type": "code",
   "execution_count": null,
   "metadata": {},
   "outputs": [],
   "source": [
    "order_df[order_df['order_num']==9308445479]"
   ]
  },
  {
   "cell_type": "code",
   "execution_count": null,
   "metadata": {},
   "outputs": [],
   "source": [
    "order_df.query(\"Sipariş Edilen Miktar < 1000\")['Sipariş Edilen Miktar'].value_counts().nsmallest(10)"
   ]
  },
  {
   "cell_type": "code",
   "execution_count": null,
   "metadata": {},
   "outputs": [],
   "source": [
    "order_df.describe()"
   ]
  },
  {
   "cell_type": "code",
   "execution_count": null,
   "metadata": {},
   "outputs": [],
   "source": [
    "order_df.groupny(['Sipariş Tarihi'])['Sipariş Edilen Miktar'].sum()"
   ]
  },
  {
   "cell_type": "code",
   "execution_count": null,
   "metadata": {},
   "outputs": [],
   "source": [
    "order_df.shape, at.shape"
   ]
  },
  {
   "cell_type": "code",
   "execution_count": null,
   "metadata": {},
   "outputs": [],
   "source": [
    "at = order_df.groupby(['Malzeme Numarası'])['Sku Plt. Standartı'].nunique().reset_index()"
   ]
  },
  {
   "cell_type": "code",
   "execution_count": null,
   "metadata": {},
   "outputs": [],
   "source": [
    "at['Sku Plt. Standartı'].value_counts()"
   ]
  },
  {
   "cell_type": "code",
   "execution_count": null,
   "metadata": {},
   "outputs": [],
   "source": [
    "picking_df"
   ]
  },
  {
   "cell_type": "code",
   "execution_count": null,
   "metadata": {},
   "outputs": [],
   "source": [
    "order_df"
   ]
  },
  {
   "cell_type": "code",
   "execution_count": null,
   "metadata": {
    "scrolled": false
   },
   "outputs": [],
   "source": [
    "picking_df.head()"
   ]
  },
  {
   "cell_type": "code",
   "execution_count": null,
   "metadata": {},
   "outputs": [],
   "source": [
    "picking_df['Siparis No'].nunique()"
   ]
  },
  {
   "cell_type": "code",
   "execution_count": null,
   "metadata": {},
   "outputs": [],
   "source": [
    "picking_df['Siparis Tipi'].value_counts()"
   ]
  },
  {
   "cell_type": "code",
   "execution_count": null,
   "metadata": {},
   "outputs": [],
   "source": [
    "picking_df['Toplanan Miktar'].plot(kind='kde')"
   ]
  },
  {
   "cell_type": "code",
   "execution_count": null,
   "metadata": {},
   "outputs": [],
   "source": [
    "malzeme_volume_perc = order_df['Malzeme Numarası'].value_counts(normalize=True).reset_index()\n",
    "malzeme_volume_perc.columns = ['malzeme', 'volume_percentage']\n",
    "malzeme_volume_perc['cum_perc'] = malzeme_volume_perc['volume_percentage'].cumsum()"
   ]
  },
  {
   "cell_type": "code",
   "execution_count": null,
   "metadata": {},
   "outputs": [],
   "source": [
    "malzeme_volume_perc.loc[:,'ABC'] = 'C'\n",
    "malzeme_volume_perc.loc[malzeme_volume_perc['cum_perc']<0.5,'ABC'] = 'B'\n",
    "malzeme_volume_perc.loc[malzeme_volume_perc['cum_perc']<0.2,'ABC'] = 'A'"
   ]
  },
  {
   "cell_type": "code",
   "execution_count": null,
   "metadata": {},
   "outputs": [],
   "source": [
    "malzeme_volume_perc['ABC'].value_counts(normalize=True)"
   ]
  },
  {
   "cell_type": "code",
   "execution_count": null,
   "metadata": {},
   "outputs": [],
   "source": [
    "pd.Timestamp(2011,3,20)"
   ]
  },
  {
   "cell_type": "code",
   "execution_count": null,
   "metadata": {},
   "outputs": [],
   "source": [
    "len('05/03/2020')"
   ]
  },
  {
   "cell_type": "code",
   "execution_count": null,
   "metadata": {
    "scrolled": false
   },
   "outputs": [],
   "source": [
    "picking_df['Sevkiyat Tarihi'].unique()"
   ]
  },
  {
   "cell_type": "code",
   "execution_count": null,
   "metadata": {},
   "outputs": [],
   "source": [
    "picking_df.dtypes"
   ]
  },
  {
   "cell_type": "code",
   "execution_count": null,
   "metadata": {},
   "outputs": [],
   "source": []
  }
 ],
 "metadata": {
  "kernelspec": {
   "display_name": "Python 3",
   "language": "python",
   "name": "python3"
  },
  "language_info": {
   "codemirror_mode": {
    "name": "ipython",
    "version": 3
   },
   "file_extension": ".py",
   "mimetype": "text/x-python",
   "name": "python",
   "nbconvert_exporter": "python",
   "pygments_lexer": "ipython3",
   "version": "3.8.3"
  }
 },
 "nbformat": 4,
 "nbformat_minor": 4
}
