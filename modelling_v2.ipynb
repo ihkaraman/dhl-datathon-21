{
 "cells": [
  {
   "cell_type": "markdown",
   "metadata": {},
   "source": [
    "trials\n",
    "    - sum of past data\n",
    "    - average of past data"
   ]
  },
  {
   "cell_type": "code",
   "execution_count": 1,
   "metadata": {},
   "outputs": [],
   "source": [
    "import pandas as pd\n",
    "import numpy as np\n",
    "import matplotlib.pyplot as plt\n",
    "import seaborn as sns\n",
    "import tensorflow as tf"
   ]
  },
  {
   "cell_type": "code",
   "execution_count": 2,
   "metadata": {},
   "outputs": [
    {
     "name": "stderr",
     "output_type": "stream",
     "text": [
      "C:\\Users\\IsmailKaraman\\workspace\\GitHub\\dhl_datathon_21\\lib\\site-packages\\IPython\\core\\interactiveshell.py:3457: DtypeWarning: Columns (1) have mixed types.Specify dtype option on import or set low_memory=False.\n",
      "  exec(code_obj, self.user_global_ns, self.user_ns)\n"
     ]
    }
   ],
   "source": [
    "order_df = pd.read_csv('data/order_v2.csv')"
   ]
  },
  {
   "cell_type": "code",
   "execution_count": 3,
   "metadata": {},
   "outputs": [
    {
     "data": {
      "text/plain": [
       "(28656570, 32)"
      ]
     },
     "execution_count": 3,
     "metadata": {},
     "output_type": "execute_result"
    }
   ],
   "source": [
    "order_df.shape"
   ]
  },
  {
   "cell_type": "code",
   "execution_count": 4,
   "metadata": {
    "scrolled": true
   },
   "outputs": [
    {
     "data": {
      "text/html": [
       "<div>\n",
       "<style scoped>\n",
       "    .dataframe tbody tr th:only-of-type {\n",
       "        vertical-align: middle;\n",
       "    }\n",
       "\n",
       "    .dataframe tbody tr th {\n",
       "        vertical-align: top;\n",
       "    }\n",
       "\n",
       "    .dataframe thead th {\n",
       "        text-align: right;\n",
       "    }\n",
       "</style>\n",
       "<table border=\"1\" class=\"dataframe\">\n",
       "  <thead>\n",
       "    <tr style=\"text-align: right;\">\n",
       "      <th></th>\n",
       "      <th>order_week</th>\n",
       "      <th>material_num</th>\n",
       "      <th>customer_num</th>\n",
       "      <th>order_amount</th>\n",
       "      <th>order_sum2</th>\n",
       "      <th>order_sum3</th>\n",
       "      <th>order_sum4</th>\n",
       "      <th>order_sum5</th>\n",
       "      <th>order_sum7</th>\n",
       "      <th>order_sum10</th>\n",
       "      <th>...</th>\n",
       "      <th>prod_sum7</th>\n",
       "      <th>prod_sum10</th>\n",
       "      <th>prod_sum14</th>\n",
       "      <th>whole_sum2</th>\n",
       "      <th>whole_sum3</th>\n",
       "      <th>whole_sum4</th>\n",
       "      <th>whole_sum5</th>\n",
       "      <th>whole_sum7</th>\n",
       "      <th>whole_sum10</th>\n",
       "      <th>whole_sum14</th>\n",
       "    </tr>\n",
       "  </thead>\n",
       "  <tbody>\n",
       "    <tr>\n",
       "      <th>0</th>\n",
       "      <td>1</td>\n",
       "      <td>91704</td>\n",
       "      <td>M10125</td>\n",
       "      <td>2</td>\n",
       "      <td>0</td>\n",
       "      <td>0</td>\n",
       "      <td>0</td>\n",
       "      <td>0</td>\n",
       "      <td>0</td>\n",
       "      <td>0</td>\n",
       "      <td>...</td>\n",
       "      <td>0</td>\n",
       "      <td>0</td>\n",
       "      <td>0</td>\n",
       "      <td>0</td>\n",
       "      <td>0</td>\n",
       "      <td>0</td>\n",
       "      <td>0</td>\n",
       "      <td>0</td>\n",
       "      <td>0</td>\n",
       "      <td>0</td>\n",
       "    </tr>\n",
       "    <tr>\n",
       "      <th>1</th>\n",
       "      <td>1</td>\n",
       "      <td>91704</td>\n",
       "      <td>M10140</td>\n",
       "      <td>21</td>\n",
       "      <td>0</td>\n",
       "      <td>0</td>\n",
       "      <td>0</td>\n",
       "      <td>0</td>\n",
       "      <td>0</td>\n",
       "      <td>0</td>\n",
       "      <td>...</td>\n",
       "      <td>0</td>\n",
       "      <td>0</td>\n",
       "      <td>0</td>\n",
       "      <td>0</td>\n",
       "      <td>0</td>\n",
       "      <td>0</td>\n",
       "      <td>0</td>\n",
       "      <td>0</td>\n",
       "      <td>0</td>\n",
       "      <td>0</td>\n",
       "    </tr>\n",
       "    <tr>\n",
       "      <th>2</th>\n",
       "      <td>1</td>\n",
       "      <td>91704</td>\n",
       "      <td>M10142</td>\n",
       "      <td>13</td>\n",
       "      <td>0</td>\n",
       "      <td>0</td>\n",
       "      <td>0</td>\n",
       "      <td>0</td>\n",
       "      <td>0</td>\n",
       "      <td>0</td>\n",
       "      <td>...</td>\n",
       "      <td>0</td>\n",
       "      <td>0</td>\n",
       "      <td>0</td>\n",
       "      <td>0</td>\n",
       "      <td>0</td>\n",
       "      <td>0</td>\n",
       "      <td>0</td>\n",
       "      <td>0</td>\n",
       "      <td>0</td>\n",
       "      <td>0</td>\n",
       "    </tr>\n",
       "    <tr>\n",
       "      <th>3</th>\n",
       "      <td>1</td>\n",
       "      <td>91704</td>\n",
       "      <td>M10143</td>\n",
       "      <td>12</td>\n",
       "      <td>0</td>\n",
       "      <td>0</td>\n",
       "      <td>0</td>\n",
       "      <td>0</td>\n",
       "      <td>0</td>\n",
       "      <td>0</td>\n",
       "      <td>...</td>\n",
       "      <td>0</td>\n",
       "      <td>0</td>\n",
       "      <td>0</td>\n",
       "      <td>0</td>\n",
       "      <td>0</td>\n",
       "      <td>0</td>\n",
       "      <td>0</td>\n",
       "      <td>0</td>\n",
       "      <td>0</td>\n",
       "      <td>0</td>\n",
       "    </tr>\n",
       "    <tr>\n",
       "      <th>4</th>\n",
       "      <td>1</td>\n",
       "      <td>91704</td>\n",
       "      <td>M10158</td>\n",
       "      <td>4</td>\n",
       "      <td>0</td>\n",
       "      <td>0</td>\n",
       "      <td>0</td>\n",
       "      <td>0</td>\n",
       "      <td>0</td>\n",
       "      <td>0</td>\n",
       "      <td>...</td>\n",
       "      <td>0</td>\n",
       "      <td>0</td>\n",
       "      <td>0</td>\n",
       "      <td>0</td>\n",
       "      <td>0</td>\n",
       "      <td>0</td>\n",
       "      <td>0</td>\n",
       "      <td>0</td>\n",
       "      <td>0</td>\n",
       "      <td>0</td>\n",
       "    </tr>\n",
       "  </tbody>\n",
       "</table>\n",
       "<p>5 rows × 32 columns</p>\n",
       "</div>"
      ],
      "text/plain": [
       "   order_week material_num customer_num  order_amount  order_sum2  order_sum3  \\\n",
       "0           1        91704       M10125             2           0           0   \n",
       "1           1        91704       M10140            21           0           0   \n",
       "2           1        91704       M10142            13           0           0   \n",
       "3           1        91704       M10143            12           0           0   \n",
       "4           1        91704       M10158             4           0           0   \n",
       "\n",
       "   order_sum4  order_sum5  order_sum7  order_sum10  ...  prod_sum7  \\\n",
       "0           0           0           0            0  ...          0   \n",
       "1           0           0           0            0  ...          0   \n",
       "2           0           0           0            0  ...          0   \n",
       "3           0           0           0            0  ...          0   \n",
       "4           0           0           0            0  ...          0   \n",
       "\n",
       "   prod_sum10  prod_sum14  whole_sum2  whole_sum3  whole_sum4  whole_sum5  \\\n",
       "0           0           0           0           0           0           0   \n",
       "1           0           0           0           0           0           0   \n",
       "2           0           0           0           0           0           0   \n",
       "3           0           0           0           0           0           0   \n",
       "4           0           0           0           0           0           0   \n",
       "\n",
       "   whole_sum7  whole_sum10  whole_sum14  \n",
       "0           0            0            0  \n",
       "1           0            0            0  \n",
       "2           0            0            0  \n",
       "3           0            0            0  \n",
       "4           0            0            0  \n",
       "\n",
       "[5 rows x 32 columns]"
      ]
     },
     "execution_count": 4,
     "metadata": {},
     "output_type": "execute_result"
    }
   ],
   "source": [
    "order_df.head()"
   ]
  },
  {
   "cell_type": "code",
   "execution_count": 5,
   "metadata": {},
   "outputs": [
    {
     "data": {
      "text/plain": [
       "order_week       int64\n",
       "material_num    object\n",
       "customer_num    object\n",
       "order_amount     int64\n",
       "order_sum2       int64\n",
       "order_sum3       int64\n",
       "order_sum4       int64\n",
       "order_sum5       int64\n",
       "order_sum7       int64\n",
       "order_sum10      int64\n",
       "order_sum14      int64\n",
       "cust_sum2        int64\n",
       "cust_sum3        int64\n",
       "cust_sum4        int64\n",
       "cust_sum5        int64\n",
       "cust_sum7        int64\n",
       "cust_sum10       int64\n",
       "cust_sum14       int64\n",
       "prod_sum2        int64\n",
       "prod_sum3        int64\n",
       "prod_sum4        int64\n",
       "prod_sum5        int64\n",
       "prod_sum7        int64\n",
       "prod_sum10       int64\n",
       "prod_sum14       int64\n",
       "whole_sum2       int64\n",
       "whole_sum3       int64\n",
       "whole_sum4       int64\n",
       "whole_sum5       int64\n",
       "whole_sum7       int64\n",
       "whole_sum10      int64\n",
       "whole_sum14      int64\n",
       "dtype: object"
      ]
     },
     "execution_count": 5,
     "metadata": {},
     "output_type": "execute_result"
    }
   ],
   "source": [
    "order_df.dtypes"
   ]
  },
  {
   "cell_type": "markdown",
   "metadata": {},
   "source": [
    "### additional datasets"
   ]
  },
  {
   "cell_type": "markdown",
   "metadata": {},
   "source": [
    "### 2020"
   ]
  },
  {
   "cell_type": "code",
   "execution_count": 6,
   "metadata": {},
   "outputs": [],
   "source": [
    "dates20 = pd.DataFrame(pd.date_range(start='01-01-2020', end='31-12-2020'), columns=['date'])"
   ]
  },
  {
   "cell_type": "code",
   "execution_count": 7,
   "metadata": {},
   "outputs": [
    {
     "name": "stderr",
     "output_type": "stream",
     "text": [
      "C:\\Users\\ISMAIL~1\\AppData\\Local\\Temp/ipykernel_16028/3925827490.py:3: FutureWarning: Series.dt.weekofyear and Series.dt.week have been deprecated.  Please use Series.dt.isocalendar().week instead.\n",
      "  currency_20['order_week'] = currency_20['date'].dt.week\n"
     ]
    }
   ],
   "source": [
    "currency_20 = pd.read_csv('data/currency_20.csv', parse_dates=['date'])\n",
    "currency_20.dropna(inplace=True)\n",
    "currency_20['order_week'] = currency_20['date'].dt.week\n",
    "\n",
    "for curr in ['EUR', 'USD']:\n",
    "    for operator in ['min', 'max', 'avg', 'std']:\n",
    "        currency_20[curr + '_' + operator] = currency_20[curr]\n",
    "        \n",
    "currency_20 = currency_20.groupby('order_week').agg({'EUR_min':'min', 'EUR_max':'max', 'EUR_avg':'mean', 'EUR_std':'std', \n",
    "                                               'USD_min':'min', 'USD_max':'max', 'USD_avg':'mean', 'USD_std':'std'}).reset_index()    \n",
    "\n",
    "currency_20['USD_diff_1'] = currency_20['USD_avg'].diff(1)\n",
    "currency_20['USD_diff_2'] = currency_20['USD_avg'].diff(2)\n",
    "currency_20['USD_diff_3'] = currency_20['USD_avg'].diff(3)\n",
    "currency_20['USD_diff_5'] = currency_20['USD_avg'].diff(5)\n",
    "currency_20['USD_diff_7'] = currency_20['USD_avg'].diff(7)\n",
    "currency_20['USD_diff_14'] = currency_20['USD_avg'].diff(14)\n",
    "\n",
    "currency_20['EUR_diff_1'] = currency_20['EUR_avg'].diff(1)\n",
    "currency_20['EUR_diff_2'] = currency_20['EUR_avg'].diff(2)\n",
    "currency_20['EUR_diff_3'] = currency_20['EUR_avg'].diff(3)\n",
    "currency_20['EUR_diff_5'] = currency_20['EUR_avg'].diff(5)\n",
    "currency_20['EUR_diff_7'] = currency_20['EUR_avg'].diff(7)\n",
    "currency_20['EUR_diff_14'] = currency_20['EUR_avg'].diff(14)\n",
    "currency_20.fillna(method='bfill', inplace=True)"
   ]
  },
  {
   "cell_type": "code",
   "execution_count": 8,
   "metadata": {},
   "outputs": [
    {
     "name": "stderr",
     "output_type": "stream",
     "text": [
      "C:\\Users\\ISMAIL~1\\AppData\\Local\\Temp/ipykernel_16028/1395646822.py:4: FutureWarning: Series.dt.weekofyear and Series.dt.week have been deprecated.  Please use Series.dt.isocalendar().week instead.\n",
      "  holidays_20['order_week'] = holidays_20['date'].dt.week\n"
     ]
    }
   ],
   "source": [
    "holidays_20 = pd.read_excel('data/holidays_20.xlsx', parse_dates=['date'])\n",
    "holidays_20 = pd.merge(dates20, holidays_20, on=['date'], how='left')\n",
    "holidays_20.fillna(1.0, inplace=True)\n",
    "holidays_20['order_week'] = holidays_20['date'].dt.week\n",
    "holidays_20 = holidays_20.groupby('order_week')['workday'].sum().reset_index()"
   ]
  },
  {
   "cell_type": "code",
   "execution_count": 9,
   "metadata": {},
   "outputs": [
    {
     "name": "stderr",
     "output_type": "stream",
     "text": [
      "C:\\Users\\ISMAIL~1\\AppData\\Local\\Temp/ipykernel_16028/3738567944.py:10: FutureWarning: Series.dt.weekofyear and Series.dt.week have been deprecated.  Please use Series.dt.isocalendar().week instead.\n",
      "  tufe_20['order_week'] = tufe_20['tufe_date'].dt.week\n"
     ]
    }
   ],
   "source": [
    "tufe_20 = pd.read_excel('data/tufe_20.xlsx', parse_dates=['date'])\n",
    "tufe_20.sort_values(by='date', inplace=True)\n",
    "tufe_20['yearly_diff'] = tufe_20['yearly'].diff()\n",
    "tufe_20['monthly_diff'] = tufe_20['monthly'].diff()\n",
    "tufe_20.loc[11, 'yearly_diff'] = 12.15-11.84\n",
    "tufe_20.loc[11, 'monthly_diff'] = 1.35-0.74\n",
    "tufe_20 = pd.merge(dates20, tufe_20, on=['date'], how='left')\n",
    "tufe_20.fillna(method='ffill', inplace=True)\n",
    "tufe_20.columns = ['tufe_'+i for i in tufe_20.columns]\n",
    "tufe_20['order_week'] = tufe_20['tufe_date'].dt.week\n",
    "tufe_20 = tufe_20.groupby('order_week').min().reset_index().drop(['tufe_date'], axis=1)"
   ]
  },
  {
   "cell_type": "code",
   "execution_count": 10,
   "metadata": {},
   "outputs": [
    {
     "name": "stderr",
     "output_type": "stream",
     "text": [
      "C:\\Users\\ISMAIL~1\\AppData\\Local\\Temp/ipykernel_16028/2252790197.py:10: FutureWarning: Series.dt.weekofyear and Series.dt.week have been deprecated.  Please use Series.dt.isocalendar().week instead.\n",
      "  ufe_20['order_week'] = ufe_20['ufe_date'].dt.week\n"
     ]
    }
   ],
   "source": [
    "ufe_20 = pd.read_excel('data/ufe_20.xlsx', parse_dates=['date'])\n",
    "ufe_20.sort_values(by='date', inplace=True)\n",
    "ufe_20['yearly_diff'] = ufe_20['yearly'].diff()\n",
    "ufe_20['monthly_diff'] = ufe_20['monthly'].diff()\n",
    "ufe_20.loc[11, 'yearly_diff'] = 8.84-7.36\n",
    "ufe_20.loc[11, 'monthly_diff'] = 1.84-0.69\n",
    "ufe_20 = pd.merge(dates20, ufe_20, on=['date'], how='left')\n",
    "ufe_20.fillna(method='ffill', inplace=True)\n",
    "ufe_20.columns = ['ufe_'+i for i in ufe_20.columns]\n",
    "ufe_20['order_week'] = ufe_20['ufe_date'].dt.week\n",
    "ufe_20 = ufe_20.groupby('order_week').min().reset_index().drop(['ufe_date'], axis=1)"
   ]
  },
  {
   "cell_type": "code",
   "execution_count": 11,
   "metadata": {},
   "outputs": [],
   "source": [
    "order_df = pd.merge(order_df, currency_20, on=['order_week'], how='left')\n",
    "order_df = pd.merge(order_df, tufe_20, on=['order_week'], how='left')\n",
    "order_df = pd.merge(order_df, ufe_20, on=['order_week'], how='left')\n",
    "order_df = pd.merge(order_df, holidays_20, on=['order_week'], how='left')"
   ]
  },
  {
   "cell_type": "code",
   "execution_count": 12,
   "metadata": {},
   "outputs": [
    {
     "data": {
      "text/plain": [
       "Index(['order_week', 'material_num', 'customer_num', 'order_amount',\n",
       "       'order_sum2', 'order_sum3', 'order_sum4', 'order_sum5', 'order_sum7',\n",
       "       'order_sum10', 'order_sum14', 'cust_sum2', 'cust_sum3', 'cust_sum4',\n",
       "       'cust_sum5', 'cust_sum7', 'cust_sum10', 'cust_sum14', 'prod_sum2',\n",
       "       'prod_sum3', 'prod_sum4', 'prod_sum5', 'prod_sum7', 'prod_sum10',\n",
       "       'prod_sum14', 'whole_sum2', 'whole_sum3', 'whole_sum4', 'whole_sum5',\n",
       "       'whole_sum7', 'whole_sum10', 'whole_sum14', 'EUR_min', 'EUR_max',\n",
       "       'EUR_avg', 'EUR_std', 'USD_min', 'USD_max', 'USD_avg', 'USD_std',\n",
       "       'USD_diff_1', 'USD_diff_2', 'USD_diff_3', 'USD_diff_5', 'USD_diff_7',\n",
       "       'USD_diff_14', 'EUR_diff_1', 'EUR_diff_2', 'EUR_diff_3', 'EUR_diff_5',\n",
       "       'EUR_diff_7', 'EUR_diff_14', 'tufe_yearly', 'tufe_monthly',\n",
       "       'tufe_yearly_diff', 'tufe_monthly_diff', 'ufe_yearly', 'ufe_monthly',\n",
       "       'ufe_yearly_diff', 'ufe_monthly_diff', 'workday'],\n",
       "      dtype='object')"
      ]
     },
     "execution_count": 12,
     "metadata": {},
     "output_type": "execute_result"
    }
   ],
   "source": [
    "order_df.columns"
   ]
  },
  {
   "cell_type": "code",
   "execution_count": 13,
   "metadata": {},
   "outputs": [],
   "source": [
    "drops = ['order_date', 'order_item', 'order_type', 'operation_type', 'palette_std','order_num']\n",
    "categorical = ['material_num', 'customer_num', 'order_week']\n",
    "numerical = [  'order_sum2', 'order_sum3', 'order_sum4', 'order_sum5', 'order_sum7',\n",
    "               'order_sum10', 'order_sum14', 'cust_sum2', 'cust_sum3', 'cust_sum4',\n",
    "               'cust_sum5', 'cust_sum7', 'cust_sum10', 'cust_sum14', 'prod_sum2',\n",
    "               'prod_sum3', 'prod_sum4', 'prod_sum5', 'prod_sum7', 'prod_sum10',\n",
    "               'prod_sum14', 'whole_sum2', 'whole_sum3', 'whole_sum4', 'whole_sum5',\n",
    "               'whole_sum7', 'whole_sum10', 'whole_sum14', 'EUR_min', 'EUR_max',\n",
    "               'EUR_avg', 'EUR_std', 'USD_min', 'USD_max', 'USD_avg', 'USD_std',\n",
    "               'USD_diff_1', 'USD_diff_2', 'USD_diff_3', 'USD_diff_5', 'USD_diff_7',\n",
    "               'USD_diff_14', 'EUR_diff_1', 'EUR_diff_2', 'EUR_diff_3', 'EUR_diff_5',\n",
    "               'EUR_diff_7', 'EUR_diff_14', 'tufe_yearly', 'tufe_monthly',\n",
    "               'tufe_yearly_diff', 'tufe_monthly_diff', 'ufe_yearly', 'ufe_monthly',\n",
    "               'ufe_yearly_diff', 'ufe_monthly_diff', 'workday']\n",
    "label = ['order_amount']"
   ]
  },
  {
   "cell_type": "code",
   "execution_count": 14,
   "metadata": {},
   "outputs": [],
   "source": [
    "all_defined_columns = drops + categorical + numerical + label\n",
    "if sorted(order_df.columns) != (sorted(all_defined_columns)):\n",
    "    assert('Columns are not equal!')"
   ]
  },
  {
   "cell_type": "markdown",
   "metadata": {},
   "source": [
    "### model 1 - only past data"
   ]
  },
  {
   "cell_type": "code",
   "execution_count": 15,
   "metadata": {},
   "outputs": [],
   "source": [
    "from xgboost import XGBRegressor\n",
    "from sklearn.ensemble import RandomForestRegressor\n",
    "from sklearn.model_selection import cross_validate\n",
    "from sklearn.preprocessing import StandardScaler, OneHotEncoder, MinMaxScaler\n",
    "from sklearn.pipeline import Pipeline\n",
    "from sklearn.compose import ColumnTransformer\n",
    "from sklearn.model_selection import TimeSeriesSplit"
   ]
  },
  {
   "cell_type": "code",
   "execution_count": 16,
   "metadata": {},
   "outputs": [],
   "source": [
    "def create_pipeline_transofmer():\n",
    "    \n",
    "    numeric_transformer = Pipeline(steps=[\n",
    "        ('scaler', MinMaxScaler())])\n",
    "    \n",
    "    categorical_transformer = Pipeline(steps=[\n",
    "        ('one-hot', OneHotEncoder(handle_unknown='ignore'))])\n",
    "    \n",
    "\n",
    "    preprocessor = ColumnTransformer(\n",
    "                                    transformers=[('num', numeric_transformer, numerical),\n",
    "                                                  ('cat', categorical_transformer, categorical)])\n",
    "\n",
    "    pipeline = Pipeline(steps=[('preprocessor', preprocessor)])\n",
    "    \n",
    "    return pipeline"
   ]
  },
  {
   "cell_type": "code",
   "execution_count": 17,
   "metadata": {},
   "outputs": [],
   "source": [
    "def create_pipeline(regressor):\n",
    "    \n",
    "    numeric_transformer = Pipeline(steps=[\n",
    "        ('scaler', MinMaxScaler())])\n",
    "    \n",
    "    categorical_transformer = Pipeline(steps=[\n",
    "        ('one-hot', OneHotEncoder(handle_unknown='ignore'))])\n",
    "    \n",
    "\n",
    "    preprocessor = ColumnTransformer(\n",
    "                                    transformers=[('num', numeric_transformer, numerical),\n",
    "                                                  ('cat', categorical_transformer, categorical)])\n",
    "\n",
    "    pipeline = Pipeline(steps=[('preprocessor', preprocessor),\n",
    "                                 regressor])\n",
    "    \n",
    "    return pipeline"
   ]
  },
  {
   "cell_type": "code",
   "execution_count": 18,
   "metadata": {},
   "outputs": [],
   "source": [
    "order_df['material_num'] = order_df['material_num'].astype('str')\n",
    "order_df['customer_num'] = order_df['customer_num'].astype('str')"
   ]
  },
  {
   "cell_type": "code",
   "execution_count": 19,
   "metadata": {},
   "outputs": [],
   "source": [
    "pos_indexes = list(order_df[order_df['order_amount']>0].index)"
   ]
  },
  {
   "cell_type": "code",
   "execution_count": 20,
   "metadata": {},
   "outputs": [],
   "source": [
    "import random\n",
    "random.seed(10)\n",
    "neg_indexes = random.sample(set(order_df.index).difference(set(pos_indexes)), 3*len(pos_indexes))"
   ]
  },
  {
   "cell_type": "code",
   "execution_count": 21,
   "metadata": {
    "scrolled": true
   },
   "outputs": [],
   "source": [
    "model_df = order_df.loc[sorted(neg_indexes+pos_indexes)].reset_index(drop=True)"
   ]
  },
  {
   "cell_type": "code",
   "execution_count": 22,
   "metadata": {},
   "outputs": [],
   "source": [
    "X = model_df[categorical+numerical]\n",
    "y = model_df[label]"
   ]
  },
  {
   "cell_type": "code",
   "execution_count": 23,
   "metadata": {},
   "outputs": [],
   "source": [
    "from sklearn.metrics import mean_squared_error, r2_score"
   ]
  },
  {
   "cell_type": "code",
   "execution_count": 24,
   "metadata": {},
   "outputs": [],
   "source": [
    "# time series split\n",
    "ts_cv = TimeSeriesSplit(n_splits=5)"
   ]
  },
  {
   "cell_type": "code",
   "execution_count": 25,
   "metadata": {
    "scrolled": true
   },
   "outputs": [
    {
     "name": "stdout",
     "output_type": "stream",
     "text": [
      "-------------\n",
      "Train rmse: 29.45094317420417, r2: 0.8639049902101628\n",
      "Test rmse: 102.28491541300308, r2: 0.008174222494082617\n",
      "-------------\n",
      "Train rmse: 38.317717793057675, r2: 0.8264822126870726\n",
      "Test rmse: 80.78080033696627, r2: -0.08431781929230109\n",
      "-------------\n",
      "Train rmse: 39.19151313589744, r2: 0.799190545996808\n",
      "Test rmse: 83.8319855308735, r2: 0.020022306952609203\n",
      "-------------\n",
      "Train rmse: 40.961392240181766, r2: 0.7771792198890954\n",
      "Test rmse: 82.89823939826105, r2: 0.05155876166963502\n",
      "-------------\n",
      "Train rmse: 41.94585762568174, r2: 0.7645662208392702\n",
      "Test rmse: 243.73243301646022, r2: 0.09219294184832627\n"
     ]
    }
   ],
   "source": [
    "for train_index, test_index in ts_cv.split(X):\n",
    "\n",
    "    X_train, X_test = X.loc[train_index], X.loc[test_index]\n",
    "    y_train, y_test = y.loc[train_index], y.loc[test_index]\n",
    "    \n",
    "    print('-------------')\n",
    "    pipeline = create_pipeline(('regressor', XGBRegressor(gamma = 0.05, learning_rate= 0.1, max_depth=5,\n",
    "                                                     n_estimators= 1000, n_jobs= 8, objective= 'reg:squarederror',\n",
    "                                                     reg_alpha= 0.5, reg_lambda= 1, scale_pos_weight=1, subsample= 1.0)))\n",
    "    pipeline.fit(X_train, y_train)\n",
    "    train_preds = pipeline.predict(X_train)\n",
    "    test_preds = pipeline.predict(X_test)\n",
    "    print(f'Train rmse: {mean_squared_error(y_train, train_preds, squared=False)}, r2: {r2_score(y_train, train_preds)}')\n",
    "    print(f'Test rmse: {mean_squared_error(y_test, test_preds, squared=False)}, r2: {r2_score(y_test, test_preds)}')"
   ]
  },
  {
   "cell_type": "code",
   "execution_count": 26,
   "metadata": {
    "scrolled": true
   },
   "outputs": [],
   "source": [
    "cut_point = int(X.shape[0]/5*4)\n",
    "X_train = X.loc[:cut_point]\n",
    "y_train = y.loc[:cut_point]\n",
    "X_test = X.loc[cut_point:]\n",
    "y_test = y.loc[cut_point:]"
   ]
  },
  {
   "cell_type": "code",
   "execution_count": 27,
   "metadata": {},
   "outputs": [
    {
     "name": "stdout",
     "output_type": "stream",
     "text": [
      "WARNING:tensorflow:From C:\\Users\\ISMAIL~1\\AppData\\Local\\Temp/ipykernel_16028/337460670.py:1: is_gpu_available (from tensorflow.python.framework.test_util) is deprecated and will be removed in a future version.\n",
      "Instructions for updating:\n",
      "Use `tf.config.list_physical_devices('GPU')` instead.\n"
     ]
    },
    {
     "data": {
      "text/plain": [
       "True"
      ]
     },
     "execution_count": 27,
     "metadata": {},
     "output_type": "execute_result"
    }
   ],
   "source": [
    "tf.test.is_gpu_available()"
   ]
  },
  {
   "cell_type": "code",
   "execution_count": 28,
   "metadata": {},
   "outputs": [
    {
     "name": "stdout",
     "output_type": "stream",
     "text": [
      "Device mapping:\n",
      "/job:localhost/replica:0/task:0/device:GPU:0 -> device: 0, name: NVIDIA GeForce RTX 2080 Ti, pci bus id: 0000:08:00.0, compute capability: 7.5\n",
      "\n"
     ]
    }
   ],
   "source": [
    "from tensorflow.python.keras import backend as K\n",
    "sess = tf.compat.v1.Session(config=tf.compat.v1.ConfigProto(log_device_placement=True))\n",
    "K.set_session(sess)"
   ]
  },
  {
   "cell_type": "code",
   "execution_count": 29,
   "metadata": {},
   "outputs": [],
   "source": [
    "from tensorflow.keras.models import Sequential\n",
    "from tensorflow.keras.layers import Dense, Dropout, LSTM\n",
    "from tensorflow.keras.optimizers import Adam"
   ]
  },
  {
   "cell_type": "code",
   "execution_count": 30,
   "metadata": {
    "scrolled": false
   },
   "outputs": [],
   "source": [
    "trans_pipe = create_pipeline_transofmer()\n",
    "X_train = trans_pipe.fit_transform(X_train).toarray()\n",
    "X_test = trans_pipe.transform(X_test).toarray()"
   ]
  },
  {
   "cell_type": "code",
   "execution_count": 31,
   "metadata": {},
   "outputs": [],
   "source": [
    "def model_1():\n",
    "    \n",
    "    model = Sequential([\n",
    "                        Dense(100, activation='relu'),\n",
    "                        Dropout(0.2),\n",
    "                        Dense(100, activation='relu'),\n",
    "                        Dense(1)\n",
    "                        ])\n",
    "\n",
    "    model.compile(loss='mean_squared_error', optimizer=Adam(0.001))\n",
    "    \n",
    "    return model"
   ]
  },
  {
   "cell_type": "code",
   "execution_count": 32,
   "metadata": {
    "scrolled": true
   },
   "outputs": [
    {
     "name": "stdout",
     "output_type": "stream",
     "text": [
      "Epoch 1/10\n",
      "27810/27810 - 94s - loss: 6404.8511 - val_loss: 17009.9941 - 94s/epoch - 3ms/step\n",
      "Epoch 2/10\n",
      "27810/27810 - 94s - loss: 5949.0044 - val_loss: 35151.4844 - 94s/epoch - 3ms/step\n",
      "Epoch 3/10\n",
      "27810/27810 - 92s - loss: 5690.3325 - val_loss: 256604.3281 - 92s/epoch - 3ms/step\n",
      "Epoch 4/10\n",
      "27810/27810 - 92s - loss: 5427.5654 - val_loss: 647440.3750 - 92s/epoch - 3ms/step\n",
      "Epoch 5/10\n",
      "27810/27810 - 93s - loss: 5142.7295 - val_loss: 731431.3125 - 93s/epoch - 3ms/step\n",
      "Epoch 6/10\n",
      "27810/27810 - 93s - loss: 4975.2573 - val_loss: 1192718.8750 - 93s/epoch - 3ms/step\n",
      "Epoch 7/10\n",
      "27810/27810 - 94s - loss: 4831.2480 - val_loss: 3819381.0000 - 94s/epoch - 3ms/step\n",
      "Epoch 8/10\n",
      "27810/27810 - 94s - loss: 4609.6631 - val_loss: 5024185.5000 - 94s/epoch - 3ms/step\n",
      "Epoch 9/10\n",
      "27810/27810 - 93s - loss: 4484.6782 - val_loss: 6767784.0000 - 93s/epoch - 3ms/step\n",
      "Epoch 10/10\n",
      "27810/27810 - 93s - loss: 4485.2095 - val_loss: 9765438.0000 - 93s/epoch - 3ms/step\n"
     ]
    }
   ],
   "source": [
    "model = model_1()\n",
    "history = model.fit(X_train, y_train, epochs=10, batch_size=32, validation_split = 0.2, verbose=2)"
   ]
  },
  {
   "cell_type": "code",
   "execution_count": 33,
   "metadata": {},
   "outputs": [
    {
     "data": {
      "image/png": "[encoded data removed]",
      "text/plain": [
       "<Figure size 432x288 with 1 Axes>"
      ]
     },
     "metadata": {
      "needs_background": "light"
     },
     "output_type": "display_data"
    }
   ],
   "source": [
    "# summarize history for loss\n",
    "plt.plot(history.history['loss'])\n",
    "plt.plot(history.history['val_loss'])\n",
    "plt.title('model loss')\n",
    "plt.ylabel('loss')\n",
    "plt.xlabel('epoch')\n",
    "plt.legend(['train', 'test'], loc='upper left')\n",
    "plt.show()"
   ]
  },
  {
   "cell_type": "code",
   "execution_count": 34,
   "metadata": {},
   "outputs": [
    {
     "ename": "InternalError",
     "evalue": "Failed copying input tensor from /job:localhost/replica:0/task:0/device:CPU:0 to /job:localhost/replica:0/task:0/device:GPU:0 in order to run _EagerConst: Dst tensor is not initialized.",
     "output_type": "error",
     "traceback": [
      "\u001b[1;31m---------------------------------------------------------------------------\u001b[0m",
      "\u001b[1;31mInternalError\u001b[0m                             Traceback (most recent call last)",
      "\u001b[1;32mC:\\Users\\ISMAIL~1\\AppData\\Local\\Temp/ipykernel_16028/3246007245.py\u001b[0m in \u001b[0;36m<module>\u001b[1;34m\u001b[0m\n\u001b[0;32m      1\u001b[0m \u001b[1;32mwith\u001b[0m \u001b[0mtf\u001b[0m\u001b[1;33m.\u001b[0m\u001b[0mdevice\u001b[0m\u001b[1;33m(\u001b[0m\u001b[1;34m'/gpu:0'\u001b[0m\u001b[1;33m)\u001b[0m\u001b[1;33m:\u001b[0m\u001b[1;33m\u001b[0m\u001b[1;33m\u001b[0m\u001b[0m\n\u001b[1;32m----> 2\u001b[1;33m     \u001b[0mtrain_preds\u001b[0m \u001b[1;33m=\u001b[0m \u001b[0mmodel\u001b[0m\u001b[1;33m.\u001b[0m\u001b[0mpredict\u001b[0m\u001b[1;33m(\u001b[0m\u001b[0mX_train\u001b[0m\u001b[1;33m)\u001b[0m\u001b[1;33m\u001b[0m\u001b[1;33m\u001b[0m\u001b[0m\n\u001b[0m\u001b[0;32m      3\u001b[0m     \u001b[0mtest_preds\u001b[0m \u001b[1;33m=\u001b[0m \u001b[0mmodel\u001b[0m\u001b[1;33m.\u001b[0m\u001b[0mpredict\u001b[0m\u001b[1;33m(\u001b[0m\u001b[0mX_test\u001b[0m\u001b[1;33m)\u001b[0m\u001b[1;33m\u001b[0m\u001b[1;33m\u001b[0m\u001b[0m\n\u001b[0;32m      4\u001b[0m \u001b[0mprint\u001b[0m\u001b[1;33m(\u001b[0m\u001b[1;34mf'Train rmse: {mean_squared_error(y_train, train_preds, squared=False)}, r2: {r2_score(y_train, train_preds)}'\u001b[0m\u001b[1;33m)\u001b[0m\u001b[1;33m\u001b[0m\u001b[1;33m\u001b[0m\u001b[0m\n\u001b[0;32m      5\u001b[0m \u001b[0mprint\u001b[0m\u001b[1;33m(\u001b[0m\u001b[1;34mf'Test rmse: {mean_squared_error(y_test, test_preds, squared=False)}, r2: {r2_score(y_test, test_preds)}'\u001b[0m\u001b[1;33m)\u001b[0m\u001b[1;33m\u001b[0m\u001b[1;33m\u001b[0m\u001b[0m\n",
      "\u001b[1;32m~\\workspace\\GitHub\\dhl_datathon_21\\lib\\site-packages\\keras\\utils\\traceback_utils.py\u001b[0m in \u001b[0;36merror_handler\u001b[1;34m(*args, **kwargs)\u001b[0m\n\u001b[0;32m     65\u001b[0m     \u001b[1;32mexcept\u001b[0m \u001b[0mException\u001b[0m \u001b[1;32mas\u001b[0m \u001b[0me\u001b[0m\u001b[1;33m:\u001b[0m  \u001b[1;31m# pylint: disable=broad-except\u001b[0m\u001b[1;33m\u001b[0m\u001b[1;33m\u001b[0m\u001b[0m\n\u001b[0;32m     66\u001b[0m       \u001b[0mfiltered_tb\u001b[0m \u001b[1;33m=\u001b[0m \u001b[0m_process_traceback_frames\u001b[0m\u001b[1;33m(\u001b[0m\u001b[0me\u001b[0m\u001b[1;33m.\u001b[0m\u001b[0m__traceback__\u001b[0m\u001b[1;33m)\u001b[0m\u001b[1;33m\u001b[0m\u001b[1;33m\u001b[0m\u001b[0m\n\u001b[1;32m---> 67\u001b[1;33m       \u001b[1;32mraise\u001b[0m \u001b[0me\u001b[0m\u001b[1;33m.\u001b[0m\u001b[0mwith_traceback\u001b[0m\u001b[1;33m(\u001b[0m\u001b[0mfiltered_tb\u001b[0m\u001b[1;33m)\u001b[0m \u001b[1;32mfrom\u001b[0m \u001b[1;32mNone\u001b[0m\u001b[1;33m\u001b[0m\u001b[1;33m\u001b[0m\u001b[0m\n\u001b[0m\u001b[0;32m     68\u001b[0m     \u001b[1;32mfinally\u001b[0m\u001b[1;33m:\u001b[0m\u001b[1;33m\u001b[0m\u001b[1;33m\u001b[0m\u001b[0m\n\u001b[0;32m     69\u001b[0m       \u001b[1;32mdel\u001b[0m \u001b[0mfiltered_tb\u001b[0m\u001b[1;33m\u001b[0m\u001b[1;33m\u001b[0m\u001b[0m\n",
      "\u001b[1;32m~\\workspace\\GitHub\\dhl_datathon_21\\lib\\site-packages\\tensorflow\\python\\framework\\constant_op.py\u001b[0m in \u001b[0;36mconvert_to_eager_tensor\u001b[1;34m(value, ctx, dtype)\u001b[0m\n\u001b[0;32m    104\u001b[0m       \u001b[0mdtype\u001b[0m \u001b[1;33m=\u001b[0m \u001b[0mdtypes\u001b[0m\u001b[1;33m.\u001b[0m\u001b[0mas_dtype\u001b[0m\u001b[1;33m(\u001b[0m\u001b[0mdtype\u001b[0m\u001b[1;33m)\u001b[0m\u001b[1;33m.\u001b[0m\u001b[0mas_datatype_enum\u001b[0m\u001b[1;33m\u001b[0m\u001b[1;33m\u001b[0m\u001b[0m\n\u001b[0;32m    105\u001b[0m   \u001b[0mctx\u001b[0m\u001b[1;33m.\u001b[0m\u001b[0mensure_initialized\u001b[0m\u001b[1;33m(\u001b[0m\u001b[1;33m)\u001b[0m\u001b[1;33m\u001b[0m\u001b[1;33m\u001b[0m\u001b[0m\n\u001b[1;32m--> 106\u001b[1;33m   \u001b[1;32mreturn\u001b[0m \u001b[0mops\u001b[0m\u001b[1;33m.\u001b[0m\u001b[0mEagerTensor\u001b[0m\u001b[1;33m(\u001b[0m\u001b[0mvalue\u001b[0m\u001b[1;33m,\u001b[0m \u001b[0mctx\u001b[0m\u001b[1;33m.\u001b[0m\u001b[0mdevice_name\u001b[0m\u001b[1;33m,\u001b[0m \u001b[0mdtype\u001b[0m\u001b[1;33m)\u001b[0m\u001b[1;33m\u001b[0m\u001b[1;33m\u001b[0m\u001b[0m\n\u001b[0m\u001b[0;32m    107\u001b[0m \u001b[1;33m\u001b[0m\u001b[0m\n\u001b[0;32m    108\u001b[0m \u001b[1;33m\u001b[0m\u001b[0m\n",
      "\u001b[1;31mInternalError\u001b[0m: Failed copying input tensor from /job:localhost/replica:0/task:0/device:CPU:0 to /job:localhost/replica:0/task:0/device:GPU:0 in order to run _EagerConst: Dst tensor is not initialized."
     ]
    }
   ],
   "source": [
    "with tf.device('/gpu:0'):\n",
    "    train_preds = model.predict(X_train)\n",
    "    test_preds = model.predict(X_test)\n",
    "print(f'Train rmse: {mean_squared_error(y_train, train_preds, squared=False)}, r2: {r2_score(y_train, train_preds)}')\n",
    "print(f'Test rmse: {mean_squared_error(y_test, test_preds, squared=False)}, r2: {r2_score(y_test, test_preds)}')"
   ]
  },
  {
   "cell_type": "code",
   "execution_count": null,
   "metadata": {},
   "outputs": [],
   "source": [
    "aaa"
   ]
  },
  {
   "cell_type": "code",
   "execution_count": 35,
   "metadata": {},
   "outputs": [],
   "source": [
    "def model_2():\n",
    "    \n",
    "    model = Sequential([\n",
    "                        LSTM(50, activation='tanh', return_sequences=True, input_shape=(X_train.shape[1],1)),\n",
    "                        #LSTM(50, return_sequences=True,activation='tanh'),\n",
    "                        #Dropout(0.2),\n",
    "                        #LSTM(50, return_sequences=True,activation='tanh'),\n",
    "                        Dense(1)\n",
    "                        ])\n",
    "\n",
    "    model.compile(loss='mean_squared_error', optimizer=Adam())\n",
    "    \n",
    "    return model"
   ]
  },
  {
   "cell_type": "code",
   "execution_count": null,
   "metadata": {},
   "outputs": [
    {
     "name": "stdout",
     "output_type": "stream",
     "text": [
      "Epoch 1/10\n",
      "55619/55619 - 2042s - loss: 7637.1660 - val_loss: 7218.1206 - 2042s/epoch - 37ms/step\n",
      "Epoch 2/10\n",
      "55619/55619 - 1986s - loss: 7619.6094 - val_loss: 7234.9775 - 1986s/epoch - 36ms/step\n",
      "Epoch 3/10\n",
      "55619/55619 - 2016s - loss: 7544.0098 - val_loss: 6935.0830 - 2016s/epoch - 36ms/step\n",
      "Epoch 4/10\n",
      "55619/55619 - 2009s - loss: 7293.9556 - val_loss: 6842.3550 - 2009s/epoch - 36ms/step\n",
      "Epoch 5/10\n",
      "55619/55619 - 2014s - loss: 7177.1821 - val_loss: 6846.8945 - 2014s/epoch - 36ms/step\n",
      "Epoch 6/10\n",
      "55619/55619 - 1991s - loss: 7090.9756 - val_loss: 6633.5908 - 1991s/epoch - 36ms/step\n",
      "Epoch 7/10\n",
      "55619/55619 - 1988s - loss: 7093.3267 - val_loss: 6542.0205 - 1988s/epoch - 36ms/step\n",
      "Epoch 8/10\n",
      "55619/55619 - 1991s - loss: 6810.5635 - val_loss: 6464.4360 - 1991s/epoch - 36ms/step\n",
      "Epoch 9/10\n"
     ]
    }
   ],
   "source": [
    "X_train_3d = X_train.reshape(X_train.shape[0], X_train.shape[1],1)\n",
    "model = model_2()\n",
    "history = model.fit(X_train_3d, y_train, \n",
    "                    epochs=10, batch_size=16, validation_split = 0.2, verbose=2)"
   ]
  },
  {
   "cell_type": "code",
   "execution_count": null,
   "metadata": {
    "scrolled": true
   },
   "outputs": [],
   "source": [
    "# summarize history for loss\n",
    "plt.plot(history.history['loss'])\n",
    "plt.plot(history.history['val_loss'])\n",
    "plt.title('model loss')\n",
    "plt.ylabel('loss')\n",
    "plt.xlabel('epoch')\n",
    "plt.legend(['train', 'test'], loc='upper left')\n",
    "plt.show()"
   ]
  },
  {
   "cell_type": "code",
   "execution_count": null,
   "metadata": {},
   "outputs": [],
   "source": [
    "with tf.device('/gpu:0'):\n",
    "    train_preds = model.predict(X_train_3d)"
   ]
  },
  {
   "cell_type": "code",
   "execution_count": null,
   "metadata": {},
   "outputs": [],
   "source": [
    "test_preds = model.predict(X_test)"
   ]
  },
  {
   "cell_type": "code",
   "execution_count": null,
   "metadata": {},
   "outputs": [],
   "source": [
    "print(f'Train rmse: {mean_squared_error(y_train, train_preds, squared=False)}, r2: {r2_score(y_train, train_preds)}')\n",
    "print(f'Test rmse: {mean_squared_error(y_test, test_preds, squared=False)}, r2: {r2_score(y_test, test_preds)}')"
   ]
  },
  {
   "cell_type": "code",
   "execution_count": null,
   "metadata": {},
   "outputs": [],
   "source": []
  },
  {
   "cell_type": "code",
   "execution_count": null,
   "metadata": {},
   "outputs": [],
   "source": []
  },
  {
   "cell_type": "code",
   "execution_count": null,
   "metadata": {
    "scrolled": true
   },
   "outputs": [],
   "source": [
    "# create and fit the LSTM network\n",
    "model = Sequential()\n",
    "\n",
    "model.add(LSTM(units=80, activation='relu'))\n",
    "model.add(LSTM(units=80, activation='relu'))\n",
    "# model.add(Dropout(0.2))\n",
    "model.add(LSTM(units=80, activation='relu'))\n",
    "model.add(Dense(1))\n",
    "\n",
    "\n",
    "model.compile(loss='mean_squared_error', optimizer='adam')\n",
    "history = model.fit(X_train, y_train, epochs=10, batch_size=32, validation_split = 0.2, verbose=2)"
   ]
  },
  {
   "cell_type": "code",
   "execution_count": null,
   "metadata": {},
   "outputs": [],
   "source": []
  },
  {
   "cell_type": "code",
   "execution_count": null,
   "metadata": {},
   "outputs": [],
   "source": []
  },
  {
   "cell_type": "code",
   "execution_count": null,
   "metadata": {},
   "outputs": [],
   "source": []
  },
  {
   "cell_type": "code",
   "execution_count": null,
   "metadata": {},
   "outputs": [],
   "source": []
  },
  {
   "cell_type": "code",
   "execution_count": null,
   "metadata": {},
   "outputs": [],
   "source": [
    "order_df.shape"
   ]
  },
  {
   "cell_type": "markdown",
   "metadata": {},
   "source": [
    "### model 2 - use other features"
   ]
  },
  {
   "cell_type": "code",
   "execution_count": null,
   "metadata": {},
   "outputs": [],
   "source": []
  },
  {
   "cell_type": "code",
   "execution_count": null,
   "metadata": {},
   "outputs": [],
   "source": []
  },
  {
   "cell_type": "code",
   "execution_count": null,
   "metadata": {},
   "outputs": [],
   "source": [
    "# time series split\n",
    "ts_cv = TimeSeriesSplit(\n",
    "         n_splits=5,  #Number of splits used\n",
    "         gap=0,  #No time needed between sets\n",
    "         max_train_size=None, #Auto train sample size \n",
    "         test_size=None, #Auto test sample size)\n",
    "    \n",
    "all_splits = list(ts_cv.split(X, y))"
   ]
  },
  {
   "cell_type": "code",
   "execution_count": null,
   "metadata": {},
   "outputs": [],
   "source": [
    "def evaluate(model, X, y, cv):\n",
    "    cv_results = cross_validate(\n",
    "        model,\n",
    "        X,\n",
    "        y,\n",
    "        cv=cv,\n",
    "        scoring=[\"neg_mean_absolute_error\", \"neg_root_mean_squared_error\"],\n",
    "    )\n",
    "    mae = -cv_results[\"test_neg_mean_absolute_error\"]\n",
    "    rmse = -cv_results[\"test_neg_root_mean_squared_error\"]\n",
    "    print(\n",
    "        f\"Mean Absolute Error:     {mae.mean():.3f} +/- {mae.std():.3f}\\n\"\n",
    "        f\"Root Mean Squared Error: {rmse.mean():.3f} +/- {rmse.std():.3f}\"\n",
    "    )"
   ]
  },
  {
   "cell_type": "code",
   "execution_count": null,
   "metadata": {},
   "outputs": [],
   "source": [
    "gbrt_pipeline = make_pipeline(\n",
    "    ColumnTransformer(\n",
    "        transformers=[\n",
    "            (\"categorical\", ordinal_encoder, categorical_columns),\n",
    "        ],\n",
    "        remainder=\"passthrough\",\n",
    "    ),\n",
    "    HistGradientBoostingRegressor(\n",
    "        categorical_features=range(2),\n",
    "    ),\n",
    ")"
   ]
  },
  {
   "cell_type": "code",
   "execution_count": null,
   "metadata": {},
   "outputs": [],
   "source": [
    "evaluate(gbrt_pipeline, X, y, cv=ts_cv)"
   ]
  },
  {
   "cell_type": "code",
   "execution_count": null,
   "metadata": {},
   "outputs": [],
   "source": [
    "alphas = np.logspace(-6, 6, 25)\n",
    "naive_linear_pipeline = make_pipeline(\n",
    "    ColumnTransformer(\n",
    "        transformers=[\n",
    "            (\"categorical\", one_hot_encoder, categorical_columns),\n",
    "        ],\n",
    "        remainder=MinMaxScaler(),\n",
    "    ),\n",
    "    RidgeCV(alphas=alphas),\n",
    ")"
   ]
  },
  {
   "cell_type": "code",
   "execution_count": null,
   "metadata": {},
   "outputs": [],
   "source": [
    "evaluate(naive_linear_pipeline, X, y, cv=ts_cv)"
   ]
  },
  {
   "cell_type": "markdown",
   "metadata": {},
   "source": [
    "### sin and cos transformer"
   ]
  },
  {
   "cell_type": "code",
   "execution_count": null,
   "metadata": {},
   "outputs": [],
   "source": [
    "def sin_transformer(period):\n",
    "    return FunctionTransformer(lambda x: np.sin(x / period * 2 * np.pi))\n",
    "def cos_transformer(period):\n",
    "    return FunctionTransformer(lambda x: np.cos(x / period * 2 * np.pi))"
   ]
  },
  {
   "cell_type": "code",
   "execution_count": null,
   "metadata": {},
   "outputs": [],
   "source": [
    "seasons_df = pd.DataFrame(\n",
    "    np.arange(26).reshape(-1, 1),\n",
    "    columns=[\"seasons\"],\n",
    ")\n",
    "seasons_df[\"seasons_sin\"] = sin_transformer(4).fit_transform(seasons_df)[\"seasons\"]\n",
    "seasons_df[\"seasons_cos\"] = cos_transformer(4).fit_transform(seasons_df)[\"seasons\"]\n",
    "seasons_df.plot(x=\"seasons\")_ = plt.title(\"Trigonometric encoding for the 'seasons' feature\")"
   ]
  },
  {
   "cell_type": "code",
   "execution_count": null,
   "metadata": {},
   "outputs": [],
   "source": [
    "cyclic_cossin_transformer = ColumnTransformer(\n",
    "    transformers=[\n",
    "        (\"categorical\", one_hot_encoder, categorical_columns),\n",
    "        (\"seasons_sin\", sin_transformer(4), [\"seasons\"]),\n",
    "        (\"seasons_cos\", cos_transformer(4), [\"seasons\"]),\n",
    "    ],\n",
    "    remainder=MinMaxScaler(),\n",
    ")\n",
    "cyclic_cossin_linear_pipeline = make_pipeline(\n",
    "    cyclic_cossin_transformer,\n",
    "    RidgeCV(alphas=alphas),\n",
    ")"
   ]
  },
  {
   "cell_type": "code",
   "execution_count": null,
   "metadata": {},
   "outputs": [],
   "source": [
    "evaluate(cyclic_cossin_linear_pipeline, X, y, cv=ts_cv)"
   ]
  },
  {
   "cell_type": "code",
   "execution_count": null,
   "metadata": {},
   "outputs": [],
   "source": []
  },
  {
   "cell_type": "code",
   "execution_count": null,
   "metadata": {},
   "outputs": [],
   "source": [
    "#create dataframe for transformation from time series to supervised\n",
    "df_supervised = df_diff.drop(['prev_sales'],axis=1)\n",
    "#adding lags\n",
    "for inc in range(1,13):\n",
    "    field_name = 'lag_' + str(inc)\n",
    "    df_supervised[field_name] = df_supervised['diff'].shift(inc)\n",
    "#drop null values\n",
    "df_supervised = df_supervised.dropna().reset_index(drop=True)"
   ]
  },
  {
   "cell_type": "code",
   "execution_count": null,
   "metadata": {},
   "outputs": [],
   "source": [
    "ols regression\n",
    "\n",
    "# Import statsmodels.formula.api\n",
    "import statsmodels.formula.api as smf\n",
    "# Define the regression formula\n",
    "model = smf.ols(formula='diff ~ lag_1', data=df_supervised)\n",
    "# Fit the regression\n",
    "model_fit = model.fit()\n",
    "# Extract the adjusted r-squared\n",
    "regression_adj_rsq = model_fit.rsquared_adj\n",
    "print(regression_adj_rsq)"
   ]
  },
  {
   "cell_type": "code",
   "execution_count": null,
   "metadata": {},
   "outputs": [],
   "source": []
  },
  {
   "cell_type": "markdown",
   "metadata": {},
   "source": [
    "#### day difference between last order"
   ]
  },
  {
   "cell_type": "code",
   "execution_count": null,
   "metadata": {},
   "outputs": [],
   "source": [
    "material_order_dates = df.groupby(['customer_num','order_num', 'material_num'])['order_date'].min().reset_index()\n",
    "material_order_dates['shifted_date'] = material_order_dates.groupby(['customer_num','order_num', 'material_num'])['order_date'].diff()"
   ]
  },
  {
   "cell_type": "code",
   "execution_count": null,
   "metadata": {},
   "outputs": [],
   "source": []
  },
  {
   "cell_type": "markdown",
   "metadata": {},
   "source": [
    "#### last 1,2,3,5,7,10 orders"
   ]
  },
  {
   "cell_type": "code",
   "execution_count": null,
   "metadata": {},
   "outputs": [],
   "source": [
    "order_amounts = df.groupby(['customer_num', 'material_num','order_num'])['order_amount'].sum().reset_index()\n",
    "for period in [1,2,3,5,7,10]:\n",
    "    col_name = 'last_' + str(period) + '_period_sum'\n",
    "    order_amounts['rolling_sum'] = order_amounts.groupby(['customer_num', 'material_num'])['order_amount'] \\\n",
    "    .rolling(period, min_periods=period).sum().values\n",
    "    \n",
    "    order_amounts[col_name] = order_amounts.groupby(['customer_num', 'material_num'])['rolling_sum'].shift(1)"
   ]
  },
  {
   "cell_type": "code",
   "execution_count": null,
   "metadata": {},
   "outputs": [],
   "source": [
    "order_amounts.isna().sum()/order_amounts.shape[0]"
   ]
  },
  {
   "cell_type": "code",
   "execution_count": null,
   "metadata": {},
   "outputs": [],
   "source": [
    "df = pd.merge(df, order_amounts.drop(['order_amount', 'rolling_sum'], axis=1), on=['customer_num', 'material_num', 'order_num'])"
   ]
  },
  {
   "cell_type": "code",
   "execution_count": null,
   "metadata": {},
   "outputs": [],
   "source": []
  },
  {
   "cell_type": "markdown",
   "metadata": {},
   "source": [
    "### order_item numbers in an order"
   ]
  },
  {
   "cell_type": "code",
   "execution_count": null,
   "metadata": {},
   "outputs": [],
   "source": [
    "item_counts = df.groupby(['order_num'])['order_item'].count().reset_index()\n",
    "item_counts.columns = ['order_num', 'num_order_item']\n",
    "df = pd.merge(df, item_counts, on=['order_num'], how='left')"
   ]
  },
  {
   "cell_type": "markdown",
   "metadata": {},
   "source": [
    "#### last period averages"
   ]
  },
  {
   "cell_type": "code",
   "execution_count": null,
   "metadata": {},
   "outputs": [],
   "source": [
    "df['last_2_period_avg'] = df['last_2_period_sum']/2\n",
    "df['last_3_period_avg'] = df['last_3_period_sum']/3\n",
    "df['last_5_period_avg'] = df['last_5_period_sum']/5\n",
    "df['last_7_period_avg'] = df['last_7_period_sum']/7\n",
    "df['last_10_period_avg'] = df['last_10_period_sum']/10"
   ]
  },
  {
   "cell_type": "code",
   "execution_count": null,
   "metadata": {},
   "outputs": [],
   "source": []
  },
  {
   "cell_type": "code",
   "execution_count": null,
   "metadata": {},
   "outputs": [],
   "source": []
  },
  {
   "cell_type": "code",
   "execution_count": null,
   "metadata": {},
   "outputs": [],
   "source": [
    "weekly_resample = df.rolling('7D')\n",
    "aggregated_df = weekly_resample.agg(['min', 'mean', 'max', 'std'])\n",
    "aggregated_df.columns = ['_'.join(col).strip() + '_week' for col in \n",
    "                         aggregated_df.columns.values]"
   ]
  },
  {
   "cell_type": "code",
   "execution_count": null,
   "metadata": {},
   "outputs": [],
   "source": [
    "order_df.sort_values(by=['order_date','order_num'], inplace=True)"
   ]
  },
  {
   "cell_type": "code",
   "execution_count": null,
   "metadata": {},
   "outputs": [],
   "source": [
    "for i in range(len(order_df)):\n",
    "    if order_df.order_num[i] > order_df.order_num[i+1]:\n",
    "        print(i)"
   ]
  },
  {
   "cell_type": "code",
   "execution_count": null,
   "metadata": {},
   "outputs": [],
   "source": [
    "order_df.head()"
   ]
  },
  {
   "cell_type": "code",
   "execution_count": null,
   "metadata": {},
   "outputs": [],
   "source": [
    "from statsmodels.tsa.stattools import adfuller\n",
    "order_summary = order_df.groupby(['order_date'])['order_amount'].sum()\n",
    "adf_result = adfuller(order_summary)\n",
    "print(adf_result)"
   ]
  },
  {
   "cell_type": "code",
   "execution_count": null,
   "metadata": {},
   "outputs": [],
   "source": []
  },
  {
   "cell_type": "markdown",
   "metadata": {},
   "source": [
    "### mean encoding for customer and product ??? or did we include that feature"
   ]
  },
  {
   "cell_type": "code",
   "execution_count": null,
   "metadata": {},
   "outputs": [],
   "source": [
    "item_target_enc_na = .3343 # default na replacement\n",
    "# Expanding Mean\n",
    "cumsum = all_data.groupby('item_id')['target'].cumsum() - all_data['target']\n",
    "cumcnt = all_data.groupby('item_id')['target'].cumcount()\n",
    "\n",
    "all_data['item_target_enc'] = cumsum/cumcnt\n",
    "all_data['item_target_enc'].fillna(item_target_enc_na,inplace=True)\n",
    "corr = np.corrcoef(all_data['target'].values, all_data['item_target_enc'])[0][1]\n",
    "print(corr)"
   ]
  },
  {
   "cell_type": "code",
   "execution_count": null,
   "metadata": {},
   "outputs": [],
   "source": []
  },
  {
   "cell_type": "code",
   "execution_count": null,
   "metadata": {},
   "outputs": [],
   "source": [
    "sadece difference üzerinden featurelar bul\n",
    "\n",
    "    - past data based model\n",
    "        - convert sales to daily basis\n",
    "        - geçmiş 10/20/30/40/50/60/90 gün verisi"
   ]
  },
  {
   "cell_type": "markdown",
   "metadata": {},
   "source": [
    "## modelling"
   ]
  },
  {
   "cell_type": "markdown",
   "metadata": {},
   "source": [
    "### lightgbm"
   ]
  },
  {
   "cell_type": "code",
   "execution_count": null,
   "metadata": {},
   "outputs": [],
   "source": [
    "# Train data (Features)\n",
    "X_train = all_data[all_data['date_block_num'] < 33]\n",
    "X_train = X_train.drop(['item_cnt_month'], axis=1)\n",
    "# Valid data (Features)\n",
    "X_valid = all_data[all_data['date_block_num'] == 33]\n",
    "X_valid = X_valid.drop(['item_cnt_month'], axis=1)\n",
    "# Test data (Features)\n",
    "X_test = all_data[all_data['date_block_num'] == 34]\n",
    "X_test = X_test.drop(['item_cnt_month'], axis=1)\n",
    "\n",
    "# Train data (Target values)\n",
    "y_train = all_data[all_data['date_block_num'] < 33]['item_cnt_month']\n",
    "# Valid data (Target values)\n",
    "y_valid = all_data[all_data['date_block_num'] == 33]['item_cnt_month']"
   ]
  },
  {
   "cell_type": "code",
   "execution_count": null,
   "metadata": {},
   "outputs": [],
   "source": [
    "import lightgbm as lgb\n",
    "\n",
    "# lgb hyper-parameters\n",
    "params = {'metric': 'rmse',\n",
    "          'num_leaves': 255,\n",
    "          'learning_rate': 0.005,\n",
    "          'feature_fraction': 0.75,\n",
    "          'bagging_fraction': 0.75,\n",
    "          'bagging_freq': 5,\n",
    "          'force_col_wise' : True,\n",
    "          'random_state': 10}"
   ]
  },
  {
   "cell_type": "code",
   "execution_count": null,
   "metadata": {},
   "outputs": [],
   "source": [
    "cat_features = ['shop_id', 'city', 'item_category_id', 'category', 'month']\n",
    "\n",
    "# lgb train and valid dataset\n",
    "dtrain = lgb.Dataset(X_train, y_train)\n",
    "dvalid = lgb.Dataset(X_valid, y_valid)\n",
    " \n",
    "# Train LightGBM model\n",
    "lgb_model = lgb.train(params=params,\n",
    "                      train_set=dtrain,\n",
    "                      num_boost_round=1500,\n",
    "                      valid_sets=(dtrain, dvalid),\n",
    "                      early_stopping_rounds=150,\n",
    "                      categorical_feature=cat_features,\n",
    "                      verbose_eval=100)      \n",
    "\n",
    "preds = lgb_model.predict(X_test).clip(0,20)"
   ]
  },
  {
   "cell_type": "code",
   "execution_count": null,
   "metadata": {},
   "outputs": [],
   "source": [
    "# prediction graph for different models\n",
    "\n",
    "#Create teh predicted values:\n",
    "naive_linear_pipeline.fit(X.iloc[train_0], y.iloc[train_0])\n",
    "naive_linear_predictions = naive_linear_pipeline.predict(X.iloc[test_0])\n",
    "one_hot_linear_pipeline.fit(X.iloc[train_0], y.iloc[train_0])\n",
    "one_hot_linear_predictions = one_hot_linear_pipeline.predict(X.iloc[test_0])\n",
    "cyclic_cossin_linear_pipeline.fit(X.iloc[train_0], y.iloc[train_0])\n",
    "cyclic_cossin_linear_predictions = cyclic_cossin_linear_pipeline.predict(X.iloc[test_0])\n",
    "cyclic_spline_linear_pipeline.fit(X.iloc[train_0], y.iloc[train_0])\n",
    "cyclic_spline_linear_predictions = cyclic_spline_linear_pipeline.predict(X.iloc[test_0])\n",
    "#Change \"_0\" with\"_1\", \"_2\", \"_3\" and \"_4\" for remaining splits\n",
    "#Build the graph:\n",
    "last_days = slice(-100, None)\n",
    "fig, ax = plt.subplots(figsize=(12, 4))\n",
    "fig.suptitle(\"Predictions by linear models\")\n",
    "ax.plot(\n",
    "    y.iloc[test_0].values[last_days], #Change \"_0\" with 1,2,3 and 4\n",
    "    \"x-\",\n",
    "    alpha=0.2,\n",
    "    label=\"Actual absenteeism in hours \",\n",
    "    color=\"black\",\n",
    ")\n",
    "ax.plot(\n",
    "    naive_linear_predictions[last_days], \n",
    "    \"x-\", \n",
    "    label=\"Ordinal time features\"\n",
    ")\n",
    "ax.plot(\n",
    "    cyclic_cossin_linear_predictions[last_days],\n",
    "    \"x-\",\n",
    "    label=\"Trigonometric time features\",\n",
    ")\n",
    "ax.plot(\n",
    "    cyclic_spline_linear_predictions[last_days],\n",
    "    \"x-\",\n",
    "    label=\"Spline-based time features\",\n",
    ")\n",
    "ax.plot(\n",
    "    one_hot_linear_predictions[last_days],\n",
    "    \"x-\",\n",
    "    label=\"One-hot time features\",\n",
    ")\n",
    "_ = ax.legend()"
   ]
  },
  {
   "cell_type": "code",
   "execution_count": null,
   "metadata": {},
   "outputs": [],
   "source": [
    "# scatter plot\n",
    "\n",
    "fig, axes = plt.subplots(ncols=3, figsize=(12, 4), sharey=True)\n",
    "fig.suptitle(\"Non-linear regression models\")\n",
    "predictions = [\n",
    "    cyclic_cossin_linear_predictions,\n",
    "    cyclic_spline_linear_predictions,\n",
    "    one_hot_linear_predictions,\n",
    "]\n",
    "labels = [\n",
    "    \"cyclic_cossin_linear_predictions\",\n",
    "    \"Splines + polynomial kernel\",\n",
    "    \"Gradient Boosted Trees\",\n",
    "]\n",
    "for ax, pred, label in zip(axes, predictions, labels):\n",
    "    ax.scatter(y.iloc[test_0].values, pred, alpha=0.3, label=label)\n",
    "    ax.plot([0, 0.125], [0, 0.125], \"--\", label=\"Perfect model\")\n",
    "    ax.set(\n",
    "           xlim=(0, 0.125),\n",
    "           ylim=(0, 0.125),\n",
    "           xlabel=\"True absenteeism\",\n",
    "           ylabel=\"Predicted absenteeism\",\n",
    "    )\n",
    "    ax.legend()\n",
    "#Change \"test_0\" with _1, _2, _3 or _4 to obtain graphical visualisations for the other splits."
   ]
  },
  {
   "cell_type": "code",
   "execution_count": null,
   "metadata": {},
   "outputs": [],
   "source": [
    "# modeling non-linear features 1\n",
    "\n",
    "cyclic_spline_poly_pipeline = make_pipeline(\n",
    "    cyclic_spline_transformer,\n",
    "    Nystroem(kernel=\"poly\", degree=2, n_components=300, random_state=0),\n",
    "    RidgeCV(alphas=alphas),\n",
    ")\n",
    "evaluate(cyclic_spline_poly_pipeline, X, y, cv=ts_cv)"
   ]
  },
  {
   "cell_type": "code",
   "execution_count": null,
   "metadata": {},
   "outputs": [],
   "source": [
    "# modeling non-linear features 2\n",
    "one_hot_poly_pipeline = make_pipeline(\n",
    "    ColumnTransformer(\n",
    "        transformers=[\n",
    "            (\"categorical\", one_hot_encoder, categorical_columns),         \n",
    "            (\"one_hot_time\", one_hot_encoder, [\"month_of_absence\", \"day_of_the_week\"]),\n",
    "        ],\n",
    "        remainder=\"passthrough\",\n",
    "    ),\n",
    "    Nystroem(kernel=\"poly\", degree=2, n_components=300, random_state=0),\n",
    "    RidgeCV(alphas=alphas),\n",
    ")\n",
    "evaluate(one_hot_poly_pipeline, X, y, cv=ts_cv)"
   ]
  },
  {
   "cell_type": "code",
   "execution_count": null,
   "metadata": {},
   "outputs": [],
   "source": []
  },
  {
   "cell_type": "code",
   "execution_count": null,
   "metadata": {},
   "outputs": [],
   "source": [
    "# creating dataframe for all customers, all materials and all dates\n",
    "\n",
    "unq_materials = pd.DataFrame(order_df['material_num'].unique(), columns=['material_num'])\n",
    "unq_materials['key'] = 1\n",
    "unq_customers = pd.DataFrame(order_df['customer_num'].unique(), columns=['customer_num'])\n",
    "unq_customers['key'] = 1\n",
    "dates = pd.DataFrame(pd.date_range(start=raw_df['order_date'].min(), end=raw_df['order_date'].max()), columns=['order_date'])\n",
    "dates['key'] = 1\n",
    "all_data = pd.merge(dates, unq_customers, on=['key'])\n",
    "all_data = pd.merge(all_data, unq_materials, on=['key']).drop('key', axis=1)"
   ]
  },
  {
   "cell_type": "code",
   "execution_count": null,
   "metadata": {},
   "outputs": [],
   "source": []
  },
  {
   "cell_type": "markdown",
   "metadata": {},
   "source": [
    "### predictions"
   ]
  },
  {
   "cell_type": "markdown",
   "metadata": {},
   "source": [
    "### 2021"
   ]
  },
  {
   "cell_type": "code",
   "execution_count": null,
   "metadata": {},
   "outputs": [],
   "source": [
    "dates21 = pd.DataFrame(pd.date_range(start='01-01-2021', end='30-11-2021'), columns=['date'])"
   ]
  },
  {
   "cell_type": "code",
   "execution_count": null,
   "metadata": {},
   "outputs": [],
   "source": []
  }
 ],
 "metadata": {
  "kernelspec": {
   "display_name": "dhl_datathon_21",
   "language": "python",
   "name": "dhl_datathon_21"
  },
  "language_info": {
   "codemirror_mode": {
    "name": "ipython",
    "version": 3
   },
   "file_extension": ".py",
   "mimetype": "text/x-python",
   "name": "python",
   "nbconvert_exporter": "python",
   "pygments_lexer": "ipython3",
   "version": "3.8.5"
  }
 },
 "nbformat": 4,
 "nbformat_minor": 4
}
